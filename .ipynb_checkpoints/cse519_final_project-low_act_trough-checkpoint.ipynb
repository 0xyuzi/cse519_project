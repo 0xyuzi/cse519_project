{
 "cells": [
  {
   "cell_type": "code",
   "execution_count": 1,
   "metadata": {
    "colab": {
     "base_uri": "https://localhost:8080/"
    },
    "id": "pb4aTaCXppua",
    "outputId": "f9de302a-e74d-474c-c080-ab374d13d147"
   },
   "outputs": [
    {
     "name": "stdout",
     "output_type": "stream",
     "text": [
      "/home/jupyter/cse519_project/dataset/data\n"
     ]
    }
   ],
   "source": [
    "cd \"./dataset/data\""
   ]
  },
  {
   "cell_type": "code",
   "execution_count": 2,
   "metadata": {},
   "outputs": [
    {
     "name": "stdout",
     "output_type": "stream",
     "text": [
      "Requirement already satisfied: reverse_geocoder in /opt/conda/lib/python3.7/site-packages (1.5.1)\n",
      "Requirement already satisfied: pytz in /opt/conda/lib/python3.7/site-packages (2020.1)\n",
      "Requirement already satisfied: timezonefinder in /home/jupyter/.local/lib/python3.7/site-packages (4.5.0)\n",
      "Requirement already satisfied: numpy>=1.11.0 in /opt/conda/lib/python3.7/site-packages (from reverse_geocoder) (1.18.5)\n",
      "Requirement already satisfied: scipy>=0.17.1 in /opt/conda/lib/python3.7/site-packages (from reverse_geocoder) (1.5.2)\n",
      "Note: you may need to restart the kernel to use updated packages.\n"
     ]
    }
   ],
   "source": [
    "pip install reverse_geocoder pytz timezonefinder --user"
   ]
  },
  {
   "cell_type": "markdown",
   "metadata": {},
   "source": [
    "import os\n",
    "for root, dirs, files in os.walk('.'):\n",
    "    print(root, dirs, files)"
   ]
  },
  {
   "cell_type": "code",
   "execution_count": 3,
   "metadata": {
    "id": "OoUh62bbRiTi"
   },
   "outputs": [],
   "source": [
    "import os\n",
    "\n",
    "files_list = []\n",
    "\n",
    "for root, dirs, files in os.walk(\".\"):\n",
    "    for file in files:\n",
    "        if file.endswith(\".json\"):\n",
    "             files_list.append(str(os.path.join(root, file)))"
   ]
  },
  {
   "cell_type": "code",
   "execution_count": 4,
   "metadata": {
    "id": "FjOhvj0xhGEz"
   },
   "outputs": [],
   "source": [
    "import json\n",
    "import pandas as pd\n",
    "\n",
    "geos = pd.DataFrame([])\n",
    "\n",
    "geo_cnt = 0\n",
    "place_cnt = 0\n",
    "user_loc_cnt = 0\n",
    "\n",
    "for file_name in files_list:\n",
    "    temp = pd.read_json(file_name, orient='records',convert_dates=False)\n",
    "    geos = pd.concat([geos,temp], ignore_index=True)"
   ]
  },
  {
   "cell_type": "code",
   "execution_count": 5,
   "metadata": {
    "id": "w3psfwhKeqH6"
   },
   "outputs": [],
   "source": [
    "def fill_coordinates(row):\n",
    "    try:\n",
    "        coordinates = row['place']['bounding_box']['coordinates']\n",
    "        return (coordinates[0][0][1], coordinates[0][0][0])\n",
    "    except:\n",
    "        return None\n",
    "\n",
    "geos['coordinate'] = geos.apply(fill_coordinates, axis = 1)"
   ]
  },
  {
   "cell_type": "code",
   "execution_count": 6,
   "metadata": {
    "id": "zZ9PoccrKu-n"
   },
   "outputs": [],
   "source": [
    "geos.dropna(inplace=True)\n",
    "geos.drop(columns=['place'], inplace=True)"
   ]
  },
  {
   "cell_type": "code",
   "execution_count": 7,
   "metadata": {
    "id": "6qsRXejSan5r"
   },
   "outputs": [
    {
     "name": "stdout",
     "output_type": "stream",
     "text": [
      "Loading formatted geocoded file...\n"
     ]
    }
   ],
   "source": [
    "coords = geos['coordinate'].tolist()\n",
    "coords = tuple(coords)\n",
    "\n",
    "import reverse_geocoder as rg\n",
    "results = rg.search(coords)\n",
    "\n",
    "country = []\n",
    "state = []\n",
    "\n",
    "for rec in results:\n",
    "    country.append(rec['cc'])\n",
    "    state.append(rec['admin1'])\n",
    "\n",
    "country = pd.Series(country)\n",
    "state = pd.Series(state)"
   ]
  },
  {
   "cell_type": "code",
   "execution_count": 8,
   "metadata": {
    "id": "KUiZARytbVbp"
   },
   "outputs": [],
   "source": [
    "geos['country'] = country\n",
    "geos['state'] = state\n",
    "geos.dropna(inplace=True)"
   ]
  },
  {
   "cell_type": "code",
   "execution_count": 9,
   "metadata": {
    "colab": {
     "base_uri": "https://localhost:8080/"
    },
    "id": "jWSULPjSbq5F",
    "outputId": "a5294db9-c060-4b7b-af5b-2b5dbddfa20e"
   },
   "outputs": [
    {
     "data": {
      "text/html": [
       "<div>\n",
       "<style scoped>\n",
       "    .dataframe tbody tr th:only-of-type {\n",
       "        vertical-align: middle;\n",
       "    }\n",
       "\n",
       "    .dataframe tbody tr th {\n",
       "        vertical-align: top;\n",
       "    }\n",
       "\n",
       "    .dataframe thead th {\n",
       "        text-align: right;\n",
       "    }\n",
       "</style>\n",
       "<table border=\"1\" class=\"dataframe\">\n",
       "  <thead>\n",
       "    <tr style=\"text-align: right;\">\n",
       "      <th></th>\n",
       "      <th>user_id</th>\n",
       "      <th>timestamp_ms</th>\n",
       "      <th>coordinate</th>\n",
       "      <th>country</th>\n",
       "      <th>state</th>\n",
       "      <th>time_in_second</th>\n",
       "      <th>month</th>\n",
       "      <th>weekday</th>\n",
       "      <th>day_in_month</th>\n",
       "    </tr>\n",
       "  </thead>\n",
       "  <tbody>\n",
       "    <tr>\n",
       "      <th>0</th>\n",
       "      <td>736831058906349568</td>\n",
       "      <td>1586527800666</td>\n",
       "      <td>(25.209613, 49.416654)</td>\n",
       "      <td>SA</td>\n",
       "      <td>Eastern Province</td>\n",
       "      <td>61800</td>\n",
       "      <td>4</td>\n",
       "      <td>4</td>\n",
       "      <td>10</td>\n",
       "    </tr>\n",
       "    <tr>\n",
       "      <th>1</th>\n",
       "      <td>871377789764685824</td>\n",
       "      <td>1586527801661</td>\n",
       "      <td>(-20.399866, -40.606199)</td>\n",
       "      <td>BR</td>\n",
       "      <td>Espirito Santo</td>\n",
       "      <td>40201</td>\n",
       "      <td>4</td>\n",
       "      <td>4</td>\n",
       "      <td>10</td>\n",
       "    </tr>\n",
       "    <tr>\n",
       "      <th>2</th>\n",
       "      <td>838134445068668930</td>\n",
       "      <td>1586527802666</td>\n",
       "      <td>(-23.08302, -43.795449)</td>\n",
       "      <td>BR</td>\n",
       "      <td>Rio de Janeiro</td>\n",
       "      <td>40202</td>\n",
       "      <td>4</td>\n",
       "      <td>4</td>\n",
       "      <td>10</td>\n",
       "    </tr>\n",
       "    <tr>\n",
       "      <th>3</th>\n",
       "      <td>140442459</td>\n",
       "      <td>1586527802658</td>\n",
       "      <td>(18.845343, 72.74484)</td>\n",
       "      <td>IN</td>\n",
       "      <td>Maharashtra</td>\n",
       "      <td>70802</td>\n",
       "      <td>4</td>\n",
       "      <td>4</td>\n",
       "      <td>10</td>\n",
       "    </tr>\n",
       "    <tr>\n",
       "      <th>4</th>\n",
       "      <td>306124870</td>\n",
       "      <td>1586527806666</td>\n",
       "      <td>(55.894729, -3.328512)</td>\n",
       "      <td>GB</td>\n",
       "      <td>Scotland</td>\n",
       "      <td>54606</td>\n",
       "      <td>4</td>\n",
       "      <td>4</td>\n",
       "      <td>10</td>\n",
       "    </tr>\n",
       "    <tr>\n",
       "      <th>...</th>\n",
       "      <td>...</td>\n",
       "      <td>...</td>\n",
       "      <td>...</td>\n",
       "      <td>...</td>\n",
       "      <td>...</td>\n",
       "      <td>...</td>\n",
       "      <td>...</td>\n",
       "      <td>...</td>\n",
       "      <td>...</td>\n",
       "    </tr>\n",
       "    <tr>\n",
       "      <th>1363360</th>\n",
       "      <td>3404591973</td>\n",
       "      <td>1585723400660</td>\n",
       "      <td>(28.250764, -81.47749)</td>\n",
       "      <td>JP</td>\n",
       "      <td>Fukuoka</td>\n",
       "      <td>9800</td>\n",
       "      <td>4</td>\n",
       "      <td>2</td>\n",
       "      <td>1</td>\n",
       "    </tr>\n",
       "    <tr>\n",
       "      <th>1363361</th>\n",
       "      <td>148940626</td>\n",
       "      <td>1585723401663</td>\n",
       "      <td>(19.357102, -99.191996)</td>\n",
       "      <td>BR</td>\n",
       "      <td>Rio Grande do Sul</td>\n",
       "      <td>2601</td>\n",
       "      <td>4</td>\n",
       "      <td>2</td>\n",
       "      <td>1</td>\n",
       "    </tr>\n",
       "    <tr>\n",
       "      <th>1363362</th>\n",
       "      <td>2304015812</td>\n",
       "      <td>1585723405663</td>\n",
       "      <td>(-22.814792, -43.410273)</td>\n",
       "      <td>ZA</td>\n",
       "      <td>Western Cape</td>\n",
       "      <td>13405</td>\n",
       "      <td>4</td>\n",
       "      <td>2</td>\n",
       "      <td>1</td>\n",
       "    </tr>\n",
       "    <tr>\n",
       "      <th>1363363</th>\n",
       "      <td>302237789</td>\n",
       "      <td>1585723414664</td>\n",
       "      <td>(23.532013, 115.834717)</td>\n",
       "      <td>PH</td>\n",
       "      <td></td>\n",
       "      <td>53014</td>\n",
       "      <td>4</td>\n",
       "      <td>2</td>\n",
       "      <td>1</td>\n",
       "    </tr>\n",
       "    <tr>\n",
       "      <th>1363364</th>\n",
       "      <td>1652863424</td>\n",
       "      <td>1585723415659</td>\n",
       "      <td>(-21.401747, -42.196098)</td>\n",
       "      <td>BR</td>\n",
       "      <td>Parana</td>\n",
       "      <td>13415</td>\n",
       "      <td>4</td>\n",
       "      <td>2</td>\n",
       "      <td>1</td>\n",
       "    </tr>\n",
       "  </tbody>\n",
       "</table>\n",
       "<p>1363357 rows × 9 columns</p>\n",
       "</div>"
      ],
      "text/plain": [
       "                    user_id   timestamp_ms                coordinate country  \\\n",
       "0        736831058906349568  1586527800666    (25.209613, 49.416654)      SA   \n",
       "1        871377789764685824  1586527801661  (-20.399866, -40.606199)      BR   \n",
       "2        838134445068668930  1586527802666   (-23.08302, -43.795449)      BR   \n",
       "3                 140442459  1586527802658     (18.845343, 72.74484)      IN   \n",
       "4                 306124870  1586527806666    (55.894729, -3.328512)      GB   \n",
       "...                     ...            ...                       ...     ...   \n",
       "1363360          3404591973  1585723400660    (28.250764, -81.47749)      JP   \n",
       "1363361           148940626  1585723401663   (19.357102, -99.191996)      BR   \n",
       "1363362          2304015812  1585723405663  (-22.814792, -43.410273)      ZA   \n",
       "1363363           302237789  1585723414664   (23.532013, 115.834717)      PH   \n",
       "1363364          1652863424  1585723415659  (-21.401747, -42.196098)      BR   \n",
       "\n",
       "                     state time_in_second month weekday day_in_month  \n",
       "0         Eastern Province          61800     4       4           10  \n",
       "1           Espirito Santo          40201     4       4           10  \n",
       "2           Rio de Janeiro          40202     4       4           10  \n",
       "3              Maharashtra          70802     4       4           10  \n",
       "4                 Scotland          54606     4       4           10  \n",
       "...                    ...            ...   ...     ...          ...  \n",
       "1363360            Fukuoka           9800     4       2            1  \n",
       "1363361  Rio Grande do Sul           2601     4       2            1  \n",
       "1363362       Western Cape          13405     4       2            1  \n",
       "1363363                             53014     4       2            1  \n",
       "1363364             Parana          13415     4       2            1  \n",
       "\n",
       "[1363357 rows x 9 columns]"
      ]
     },
     "execution_count": 9,
     "metadata": {},
     "output_type": "execute_result"
    }
   ],
   "source": [
    "from timezonefinder import TimezoneFinder\n",
    "import datetime\n",
    "import pytz\n",
    "\n",
    "tf = TimezoneFinder()\n",
    "\n",
    "def get_localtime_in_seconds(rows):\n",
    "    coor = rows['coordinate']\n",
    "    lati = coor[0]\n",
    "    logi = coor[1]\n",
    "    zone_str = tf.timezone_at(lng = logi, lat = lati)\n",
    "    if zone_str == None:\n",
    "        return None, None, None, None\n",
    "    d = datetime.datetime.fromtimestamp(rows['timestamp_ms']/1000, tz=pytz.timezone(zone_str))\n",
    "    h, m, s = d.hour, d.minute, d.second\n",
    "    month, weekday, day_in_month = d.month, d.weekday(), d.day\n",
    "    return h*3600+m*60+s, month, weekday, day_in_month\n",
    "\n",
    "geos['time_in_second'], geos['month'], geos['weekday'], geos['day_in_month'] = zip(*geos.apply(get_localtime_in_seconds, axis=1))\n",
    "geos"
   ]
  },
  {
   "cell_type": "code",
   "execution_count": 10,
   "metadata": {},
   "outputs": [],
   "source": [
    "geos.dropna(inplace=True)"
   ]
  },
  {
   "cell_type": "code",
   "execution_count": 11,
   "metadata": {},
   "outputs": [
    {
     "data": {
      "text/html": [
       "<div>\n",
       "<style scoped>\n",
       "    .dataframe tbody tr th:only-of-type {\n",
       "        vertical-align: middle;\n",
       "    }\n",
       "\n",
       "    .dataframe tbody tr th {\n",
       "        vertical-align: top;\n",
       "    }\n",
       "\n",
       "    .dataframe thead th {\n",
       "        text-align: right;\n",
       "    }\n",
       "</style>\n",
       "<table border=\"1\" class=\"dataframe\">\n",
       "  <thead>\n",
       "    <tr style=\"text-align: right;\">\n",
       "      <th></th>\n",
       "      <th>user_id</th>\n",
       "      <th>timestamp_ms</th>\n",
       "      <th>coordinate</th>\n",
       "      <th>country</th>\n",
       "      <th>state</th>\n",
       "      <th>time_in_second</th>\n",
       "      <th>month</th>\n",
       "      <th>weekday</th>\n",
       "      <th>day_in_month</th>\n",
       "      <th>label</th>\n",
       "    </tr>\n",
       "  </thead>\n",
       "  <tbody>\n",
       "    <tr>\n",
       "      <th>0</th>\n",
       "      <td>736831058906349568</td>\n",
       "      <td>1586527800666</td>\n",
       "      <td>(25.209613, 49.416654)</td>\n",
       "      <td>SA</td>\n",
       "      <td>Eastern Province</td>\n",
       "      <td>61800</td>\n",
       "      <td>4</td>\n",
       "      <td>4</td>\n",
       "      <td>10</td>\n",
       "      <td>68</td>\n",
       "    </tr>\n",
       "    <tr>\n",
       "      <th>1</th>\n",
       "      <td>871377789764685824</td>\n",
       "      <td>1586527801661</td>\n",
       "      <td>(-20.399866, -40.606199)</td>\n",
       "      <td>BR</td>\n",
       "      <td>Espirito Santo</td>\n",
       "      <td>40201</td>\n",
       "      <td>4</td>\n",
       "      <td>4</td>\n",
       "      <td>10</td>\n",
       "      <td>44</td>\n",
       "    </tr>\n",
       "    <tr>\n",
       "      <th>2</th>\n",
       "      <td>838134445068668930</td>\n",
       "      <td>1586527802666</td>\n",
       "      <td>(-23.08302, -43.795449)</td>\n",
       "      <td>BR</td>\n",
       "      <td>Rio de Janeiro</td>\n",
       "      <td>40202</td>\n",
       "      <td>4</td>\n",
       "      <td>4</td>\n",
       "      <td>10</td>\n",
       "      <td>44</td>\n",
       "    </tr>\n",
       "    <tr>\n",
       "      <th>3</th>\n",
       "      <td>140442459</td>\n",
       "      <td>1586527802658</td>\n",
       "      <td>(18.845343, 72.74484)</td>\n",
       "      <td>IN</td>\n",
       "      <td>Maharashtra</td>\n",
       "      <td>70802</td>\n",
       "      <td>4</td>\n",
       "      <td>4</td>\n",
       "      <td>10</td>\n",
       "      <td>78</td>\n",
       "    </tr>\n",
       "    <tr>\n",
       "      <th>4</th>\n",
       "      <td>306124870</td>\n",
       "      <td>1586527806666</td>\n",
       "      <td>(55.894729, -3.328512)</td>\n",
       "      <td>GB</td>\n",
       "      <td>Scotland</td>\n",
       "      <td>54606</td>\n",
       "      <td>4</td>\n",
       "      <td>4</td>\n",
       "      <td>10</td>\n",
       "      <td>60</td>\n",
       "    </tr>\n",
       "    <tr>\n",
       "      <th>...</th>\n",
       "      <td>...</td>\n",
       "      <td>...</td>\n",
       "      <td>...</td>\n",
       "      <td>...</td>\n",
       "      <td>...</td>\n",
       "      <td>...</td>\n",
       "      <td>...</td>\n",
       "      <td>...</td>\n",
       "      <td>...</td>\n",
       "      <td>...</td>\n",
       "    </tr>\n",
       "    <tr>\n",
       "      <th>1363360</th>\n",
       "      <td>3404591973</td>\n",
       "      <td>1585723400660</td>\n",
       "      <td>(28.250764, -81.47749)</td>\n",
       "      <td>JP</td>\n",
       "      <td>Fukuoka</td>\n",
       "      <td>9800</td>\n",
       "      <td>4</td>\n",
       "      <td>2</td>\n",
       "      <td>1</td>\n",
       "      <td>10</td>\n",
       "    </tr>\n",
       "    <tr>\n",
       "      <th>1363361</th>\n",
       "      <td>148940626</td>\n",
       "      <td>1585723401663</td>\n",
       "      <td>(19.357102, -99.191996)</td>\n",
       "      <td>BR</td>\n",
       "      <td>Rio Grande do Sul</td>\n",
       "      <td>2601</td>\n",
       "      <td>4</td>\n",
       "      <td>2</td>\n",
       "      <td>1</td>\n",
       "      <td>2</td>\n",
       "    </tr>\n",
       "    <tr>\n",
       "      <th>1363362</th>\n",
       "      <td>2304015812</td>\n",
       "      <td>1585723405663</td>\n",
       "      <td>(-22.814792, -43.410273)</td>\n",
       "      <td>ZA</td>\n",
       "      <td>Western Cape</td>\n",
       "      <td>13405</td>\n",
       "      <td>4</td>\n",
       "      <td>2</td>\n",
       "      <td>1</td>\n",
       "      <td>14</td>\n",
       "    </tr>\n",
       "    <tr>\n",
       "      <th>1363363</th>\n",
       "      <td>302237789</td>\n",
       "      <td>1585723414664</td>\n",
       "      <td>(23.532013, 115.834717)</td>\n",
       "      <td>PH</td>\n",
       "      <td></td>\n",
       "      <td>53014</td>\n",
       "      <td>4</td>\n",
       "      <td>2</td>\n",
       "      <td>1</td>\n",
       "      <td>58</td>\n",
       "    </tr>\n",
       "    <tr>\n",
       "      <th>1363364</th>\n",
       "      <td>1652863424</td>\n",
       "      <td>1585723415659</td>\n",
       "      <td>(-21.401747, -42.196098)</td>\n",
       "      <td>BR</td>\n",
       "      <td>Parana</td>\n",
       "      <td>13415</td>\n",
       "      <td>4</td>\n",
       "      <td>2</td>\n",
       "      <td>1</td>\n",
       "      <td>14</td>\n",
       "    </tr>\n",
       "  </tbody>\n",
       "</table>\n",
       "<p>1334640 rows × 10 columns</p>\n",
       "</div>"
      ],
      "text/plain": [
       "                    user_id   timestamp_ms                coordinate country  \\\n",
       "0        736831058906349568  1586527800666    (25.209613, 49.416654)      SA   \n",
       "1        871377789764685824  1586527801661  (-20.399866, -40.606199)      BR   \n",
       "2        838134445068668930  1586527802666   (-23.08302, -43.795449)      BR   \n",
       "3                 140442459  1586527802658     (18.845343, 72.74484)      IN   \n",
       "4                 306124870  1586527806666    (55.894729, -3.328512)      GB   \n",
       "...                     ...            ...                       ...     ...   \n",
       "1363360          3404591973  1585723400660    (28.250764, -81.47749)      JP   \n",
       "1363361           148940626  1585723401663   (19.357102, -99.191996)      BR   \n",
       "1363362          2304015812  1585723405663  (-22.814792, -43.410273)      ZA   \n",
       "1363363           302237789  1585723414664   (23.532013, 115.834717)      PH   \n",
       "1363364          1652863424  1585723415659  (-21.401747, -42.196098)      BR   \n",
       "\n",
       "                     state time_in_second month weekday day_in_month  label  \n",
       "0         Eastern Province          61800     4       4           10     68  \n",
       "1           Espirito Santo          40201     4       4           10     44  \n",
       "2           Rio de Janeiro          40202     4       4           10     44  \n",
       "3              Maharashtra          70802     4       4           10     78  \n",
       "4                 Scotland          54606     4       4           10     60  \n",
       "...                    ...            ...   ...     ...          ...    ...  \n",
       "1363360            Fukuoka           9800     4       2            1     10  \n",
       "1363361  Rio Grande do Sul           2601     4       2            1      2  \n",
       "1363362       Western Cape          13405     4       2            1     14  \n",
       "1363363                             53014     4       2            1     58  \n",
       "1363364             Parana          13415     4       2            1     14  \n",
       "\n",
       "[1334640 rows x 10 columns]"
      ]
     },
     "execution_count": 11,
     "metadata": {},
     "output_type": "execute_result"
    }
   ],
   "source": [
    "def get_label(row):\n",
    "    t = row['time_in_second']\n",
    "    # every 15 minute\n",
    "    return t//(15*60)\n",
    "\n",
    "geos['label'] = geos.apply(get_label, axis=1)\n",
    "geos"
   ]
  },
  {
   "cell_type": "code",
   "execution_count": 12,
   "metadata": {
    "colab": {
     "base_uri": "https://localhost:8080/"
    },
    "id": "fXSu7n3-2vVX",
    "outputId": "b5f77b6f-e787-43ca-aa67-beeb4ccbe328"
   },
   "outputs": [
    {
     "data": {
      "text/html": [
       "<div>\n",
       "<style scoped>\n",
       "    .dataframe tbody tr th:only-of-type {\n",
       "        vertical-align: middle;\n",
       "    }\n",
       "\n",
       "    .dataframe tbody tr th {\n",
       "        vertical-align: top;\n",
       "    }\n",
       "\n",
       "    .dataframe thead th {\n",
       "        text-align: right;\n",
       "    }\n",
       "</style>\n",
       "<table border=\"1\" class=\"dataframe\">\n",
       "  <thead>\n",
       "    <tr style=\"text-align: right;\">\n",
       "      <th></th>\n",
       "      <th>index</th>\n",
       "      <th>user_id</th>\n",
       "      <th>timestamp_ms</th>\n",
       "      <th>coordinate</th>\n",
       "      <th>country</th>\n",
       "      <th>state</th>\n",
       "      <th>time_in_second</th>\n",
       "      <th>month</th>\n",
       "      <th>weekday</th>\n",
       "      <th>day_in_month</th>\n",
       "      <th>label</th>\n",
       "    </tr>\n",
       "  </thead>\n",
       "  <tbody>\n",
       "    <tr>\n",
       "      <th>0</th>\n",
       "      <td>5</td>\n",
       "      <td>1139323604330569729</td>\n",
       "      <td>1586527809663</td>\n",
       "      <td>(41.481426, -87.674421)</td>\n",
       "      <td>US</td>\n",
       "      <td>Illinois</td>\n",
       "      <td>33009</td>\n",
       "      <td>4</td>\n",
       "      <td>4</td>\n",
       "      <td>10</td>\n",
       "      <td>36</td>\n",
       "    </tr>\n",
       "    <tr>\n",
       "      <th>1</th>\n",
       "      <td>10</td>\n",
       "      <td>27377135</td>\n",
       "      <td>1586527816658</td>\n",
       "      <td>(33.606077, -117.86894)</td>\n",
       "      <td>US</td>\n",
       "      <td>California</td>\n",
       "      <td>25816</td>\n",
       "      <td>4</td>\n",
       "      <td>4</td>\n",
       "      <td>10</td>\n",
       "      <td>28</td>\n",
       "    </tr>\n",
       "    <tr>\n",
       "      <th>2</th>\n",
       "      <td>11</td>\n",
       "      <td>515108272</td>\n",
       "      <td>1586527817665</td>\n",
       "      <td>(30.355644, -85.605166)</td>\n",
       "      <td>US</td>\n",
       "      <td>Florida</td>\n",
       "      <td>33017</td>\n",
       "      <td>4</td>\n",
       "      <td>4</td>\n",
       "      <td>10</td>\n",
       "      <td>36</td>\n",
       "    </tr>\n",
       "    <tr>\n",
       "      <th>3</th>\n",
       "      <td>15</td>\n",
       "      <td>118811691</td>\n",
       "      <td>1586527831663</td>\n",
       "      <td>(40.361580000000004, -80.095586)</td>\n",
       "      <td>US</td>\n",
       "      <td>Pennsylvania</td>\n",
       "      <td>36631</td>\n",
       "      <td>4</td>\n",
       "      <td>4</td>\n",
       "      <td>10</td>\n",
       "      <td>40</td>\n",
       "    </tr>\n",
       "    <tr>\n",
       "      <th>4</th>\n",
       "      <td>24</td>\n",
       "      <td>1185068084010180608</td>\n",
       "      <td>1586527838658</td>\n",
       "      <td>(36.992427, -109.060257)</td>\n",
       "      <td>US</td>\n",
       "      <td>Colorado</td>\n",
       "      <td>29438</td>\n",
       "      <td>4</td>\n",
       "      <td>4</td>\n",
       "      <td>10</td>\n",
       "      <td>32</td>\n",
       "    </tr>\n",
       "    <tr>\n",
       "      <th>...</th>\n",
       "      <td>...</td>\n",
       "      <td>...</td>\n",
       "      <td>...</td>\n",
       "      <td>...</td>\n",
       "      <td>...</td>\n",
       "      <td>...</td>\n",
       "      <td>...</td>\n",
       "      <td>...</td>\n",
       "      <td>...</td>\n",
       "      <td>...</td>\n",
       "      <td>...</td>\n",
       "    </tr>\n",
       "    <tr>\n",
       "      <th>302899</th>\n",
       "      <td>1363329</td>\n",
       "      <td>499725537</td>\n",
       "      <td>1585723214662</td>\n",
       "      <td>(7.299143, 3.777011)</td>\n",
       "      <td>US</td>\n",
       "      <td>California</td>\n",
       "      <td>27614</td>\n",
       "      <td>4</td>\n",
       "      <td>2</td>\n",
       "      <td>1</td>\n",
       "      <td>30</td>\n",
       "    </tr>\n",
       "    <tr>\n",
       "      <th>302900</th>\n",
       "      <td>1363333</td>\n",
       "      <td>437390598</td>\n",
       "      <td>1585723219661</td>\n",
       "      <td>(6.482676, 3.198942)</td>\n",
       "      <td>US</td>\n",
       "      <td>California</td>\n",
       "      <td>27619</td>\n",
       "      <td>4</td>\n",
       "      <td>2</td>\n",
       "      <td>1</td>\n",
       "      <td>30</td>\n",
       "    </tr>\n",
       "    <tr>\n",
       "      <th>302901</th>\n",
       "      <td>1363334</td>\n",
       "      <td>60419030</td>\n",
       "      <td>1585723220662</td>\n",
       "      <td>(-24.008814, -46.826039)</td>\n",
       "      <td>US</td>\n",
       "      <td>Oklahoma</td>\n",
       "      <td>13220</td>\n",
       "      <td>4</td>\n",
       "      <td>2</td>\n",
       "      <td>1</td>\n",
       "      <td>14</td>\n",
       "    </tr>\n",
       "    <tr>\n",
       "      <th>302902</th>\n",
       "      <td>1363344</td>\n",
       "      <td>742373012226244608</td>\n",
       "      <td>1585723244666</td>\n",
       "      <td>(13.586457, 100.472022)</td>\n",
       "      <td>US</td>\n",
       "      <td>Illinois</td>\n",
       "      <td>49244</td>\n",
       "      <td>4</td>\n",
       "      <td>2</td>\n",
       "      <td>1</td>\n",
       "      <td>54</td>\n",
       "    </tr>\n",
       "    <tr>\n",
       "      <th>302903</th>\n",
       "      <td>1363352</td>\n",
       "      <td>131433207</td>\n",
       "      <td>1585723388658</td>\n",
       "      <td>(42.028374, -88.026334)</td>\n",
       "      <td>US</td>\n",
       "      <td>Florida</td>\n",
       "      <td>6188</td>\n",
       "      <td>4</td>\n",
       "      <td>2</td>\n",
       "      <td>1</td>\n",
       "      <td>6</td>\n",
       "    </tr>\n",
       "  </tbody>\n",
       "</table>\n",
       "<p>302904 rows × 11 columns</p>\n",
       "</div>"
      ],
      "text/plain": [
       "          index              user_id   timestamp_ms  \\\n",
       "0             5  1139323604330569729  1586527809663   \n",
       "1            10             27377135  1586527816658   \n",
       "2            11            515108272  1586527817665   \n",
       "3            15            118811691  1586527831663   \n",
       "4            24  1185068084010180608  1586527838658   \n",
       "...         ...                  ...            ...   \n",
       "302899  1363329            499725537  1585723214662   \n",
       "302900  1363333            437390598  1585723219661   \n",
       "302901  1363334             60419030  1585723220662   \n",
       "302902  1363344   742373012226244608  1585723244666   \n",
       "302903  1363352            131433207  1585723388658   \n",
       "\n",
       "                              coordinate country         state time_in_second  \\\n",
       "0                (41.481426, -87.674421)      US      Illinois          33009   \n",
       "1                (33.606077, -117.86894)      US    California          25816   \n",
       "2                (30.355644, -85.605166)      US       Florida          33017   \n",
       "3       (40.361580000000004, -80.095586)      US  Pennsylvania          36631   \n",
       "4               (36.992427, -109.060257)      US      Colorado          29438   \n",
       "...                                  ...     ...           ...            ...   \n",
       "302899              (7.299143, 3.777011)      US    California          27614   \n",
       "302900              (6.482676, 3.198942)      US    California          27619   \n",
       "302901          (-24.008814, -46.826039)      US      Oklahoma          13220   \n",
       "302902           (13.586457, 100.472022)      US      Illinois          49244   \n",
       "302903           (42.028374, -88.026334)      US       Florida           6188   \n",
       "\n",
       "       month weekday day_in_month  label  \n",
       "0          4       4           10     36  \n",
       "1          4       4           10     28  \n",
       "2          4       4           10     36  \n",
       "3          4       4           10     40  \n",
       "4          4       4           10     32  \n",
       "...      ...     ...          ...    ...  \n",
       "302899     4       2            1     30  \n",
       "302900     4       2            1     30  \n",
       "302901     4       2            1     14  \n",
       "302902     4       2            1     54  \n",
       "302903     4       2            1      6  \n",
       "\n",
       "[302904 rows x 11 columns]"
      ]
     },
     "execution_count": 12,
     "metadata": {},
     "output_type": "execute_result"
    }
   ],
   "source": [
    "# select US only data\n",
    "geos = geos.loc[geos.country=='US']\n",
    "geos.reset_index(inplace = True)\n",
    "geos"
   ]
  },
  {
   "cell_type": "code",
   "execution_count": 13,
   "metadata": {},
   "outputs": [
    {
     "data": {
      "text/html": [
       "<div>\n",
       "<style scoped>\n",
       "    .dataframe tbody tr th:only-of-type {\n",
       "        vertical-align: middle;\n",
       "    }\n",
       "\n",
       "    .dataframe tbody tr th {\n",
       "        vertical-align: top;\n",
       "    }\n",
       "\n",
       "    .dataframe thead th {\n",
       "        text-align: right;\n",
       "    }\n",
       "</style>\n",
       "<table border=\"1\" class=\"dataframe\">\n",
       "  <thead>\n",
       "    <tr style=\"text-align: right;\">\n",
       "      <th></th>\n",
       "      <th>index</th>\n",
       "      <th>user_id</th>\n",
       "      <th>timestamp_ms</th>\n",
       "      <th>coordinate</th>\n",
       "      <th>country</th>\n",
       "      <th>state</th>\n",
       "      <th>time_in_second</th>\n",
       "      <th>month</th>\n",
       "      <th>weekday</th>\n",
       "      <th>day_in_month</th>\n",
       "      <th>label</th>\n",
       "    </tr>\n",
       "  </thead>\n",
       "  <tbody>\n",
       "    <tr>\n",
       "      <th>0</th>\n",
       "      <td>5</td>\n",
       "      <td>1139323604330569729</td>\n",
       "      <td>1586527809663</td>\n",
       "      <td>(41.481426, -87.674421)</td>\n",
       "      <td>US</td>\n",
       "      <td>Illinois</td>\n",
       "      <td>33009</td>\n",
       "      <td>4</td>\n",
       "      <td>4</td>\n",
       "      <td>10</td>\n",
       "      <td>36</td>\n",
       "    </tr>\n",
       "    <tr>\n",
       "      <th>1</th>\n",
       "      <td>10</td>\n",
       "      <td>27377135</td>\n",
       "      <td>1586527816658</td>\n",
       "      <td>(33.606077, -117.86894)</td>\n",
       "      <td>US</td>\n",
       "      <td>California</td>\n",
       "      <td>25816</td>\n",
       "      <td>4</td>\n",
       "      <td>4</td>\n",
       "      <td>10</td>\n",
       "      <td>28</td>\n",
       "    </tr>\n",
       "    <tr>\n",
       "      <th>2</th>\n",
       "      <td>11</td>\n",
       "      <td>515108272</td>\n",
       "      <td>1586527817665</td>\n",
       "      <td>(30.355644, -85.605166)</td>\n",
       "      <td>US</td>\n",
       "      <td>Florida</td>\n",
       "      <td>33017</td>\n",
       "      <td>4</td>\n",
       "      <td>4</td>\n",
       "      <td>10</td>\n",
       "      <td>36</td>\n",
       "    </tr>\n",
       "    <tr>\n",
       "      <th>3</th>\n",
       "      <td>15</td>\n",
       "      <td>118811691</td>\n",
       "      <td>1586527831663</td>\n",
       "      <td>(40.361580000000004, -80.095586)</td>\n",
       "      <td>US</td>\n",
       "      <td>Pennsylvania</td>\n",
       "      <td>36631</td>\n",
       "      <td>4</td>\n",
       "      <td>4</td>\n",
       "      <td>10</td>\n",
       "      <td>40</td>\n",
       "    </tr>\n",
       "    <tr>\n",
       "      <th>4</th>\n",
       "      <td>24</td>\n",
       "      <td>1185068084010180608</td>\n",
       "      <td>1586527838658</td>\n",
       "      <td>(36.992427, -109.060257)</td>\n",
       "      <td>US</td>\n",
       "      <td>Colorado</td>\n",
       "      <td>29438</td>\n",
       "      <td>4</td>\n",
       "      <td>4</td>\n",
       "      <td>10</td>\n",
       "      <td>32</td>\n",
       "    </tr>\n",
       "    <tr>\n",
       "      <th>...</th>\n",
       "      <td>...</td>\n",
       "      <td>...</td>\n",
       "      <td>...</td>\n",
       "      <td>...</td>\n",
       "      <td>...</td>\n",
       "      <td>...</td>\n",
       "      <td>...</td>\n",
       "      <td>...</td>\n",
       "      <td>...</td>\n",
       "      <td>...</td>\n",
       "      <td>...</td>\n",
       "    </tr>\n",
       "    <tr>\n",
       "      <th>302899</th>\n",
       "      <td>1363329</td>\n",
       "      <td>499725537</td>\n",
       "      <td>1585723214662</td>\n",
       "      <td>(7.299143, 3.777011)</td>\n",
       "      <td>US</td>\n",
       "      <td>California</td>\n",
       "      <td>27614</td>\n",
       "      <td>4</td>\n",
       "      <td>2</td>\n",
       "      <td>1</td>\n",
       "      <td>30</td>\n",
       "    </tr>\n",
       "    <tr>\n",
       "      <th>302900</th>\n",
       "      <td>1363333</td>\n",
       "      <td>437390598</td>\n",
       "      <td>1585723219661</td>\n",
       "      <td>(6.482676, 3.198942)</td>\n",
       "      <td>US</td>\n",
       "      <td>California</td>\n",
       "      <td>27619</td>\n",
       "      <td>4</td>\n",
       "      <td>2</td>\n",
       "      <td>1</td>\n",
       "      <td>30</td>\n",
       "    </tr>\n",
       "    <tr>\n",
       "      <th>302901</th>\n",
       "      <td>1363334</td>\n",
       "      <td>60419030</td>\n",
       "      <td>1585723220662</td>\n",
       "      <td>(-24.008814, -46.826039)</td>\n",
       "      <td>US</td>\n",
       "      <td>Oklahoma</td>\n",
       "      <td>13220</td>\n",
       "      <td>4</td>\n",
       "      <td>2</td>\n",
       "      <td>1</td>\n",
       "      <td>14</td>\n",
       "    </tr>\n",
       "    <tr>\n",
       "      <th>302902</th>\n",
       "      <td>1363344</td>\n",
       "      <td>742373012226244608</td>\n",
       "      <td>1585723244666</td>\n",
       "      <td>(13.586457, 100.472022)</td>\n",
       "      <td>US</td>\n",
       "      <td>Illinois</td>\n",
       "      <td>49244</td>\n",
       "      <td>4</td>\n",
       "      <td>2</td>\n",
       "      <td>1</td>\n",
       "      <td>54</td>\n",
       "    </tr>\n",
       "    <tr>\n",
       "      <th>302903</th>\n",
       "      <td>1363352</td>\n",
       "      <td>131433207</td>\n",
       "      <td>1585723388658</td>\n",
       "      <td>(42.028374, -88.026334)</td>\n",
       "      <td>US</td>\n",
       "      <td>Florida</td>\n",
       "      <td>6188</td>\n",
       "      <td>4</td>\n",
       "      <td>2</td>\n",
       "      <td>1</td>\n",
       "      <td>6</td>\n",
       "    </tr>\n",
       "  </tbody>\n",
       "</table>\n",
       "<p>302904 rows × 11 columns</p>\n",
       "</div>"
      ],
      "text/plain": [
       "          index              user_id   timestamp_ms  \\\n",
       "0             5  1139323604330569729  1586527809663   \n",
       "1            10             27377135  1586527816658   \n",
       "2            11            515108272  1586527817665   \n",
       "3            15            118811691  1586527831663   \n",
       "4            24  1185068084010180608  1586527838658   \n",
       "...         ...                  ...            ...   \n",
       "302899  1363329            499725537  1585723214662   \n",
       "302900  1363333            437390598  1585723219661   \n",
       "302901  1363334             60419030  1585723220662   \n",
       "302902  1363344   742373012226244608  1585723244666   \n",
       "302903  1363352            131433207  1585723388658   \n",
       "\n",
       "                              coordinate country         state time_in_second  \\\n",
       "0                (41.481426, -87.674421)      US      Illinois          33009   \n",
       "1                (33.606077, -117.86894)      US    California          25816   \n",
       "2                (30.355644, -85.605166)      US       Florida          33017   \n",
       "3       (40.361580000000004, -80.095586)      US  Pennsylvania          36631   \n",
       "4               (36.992427, -109.060257)      US      Colorado          29438   \n",
       "...                                  ...     ...           ...            ...   \n",
       "302899              (7.299143, 3.777011)      US    California          27614   \n",
       "302900              (6.482676, 3.198942)      US    California          27619   \n",
       "302901          (-24.008814, -46.826039)      US      Oklahoma          13220   \n",
       "302902           (13.586457, 100.472022)      US      Illinois          49244   \n",
       "302903           (42.028374, -88.026334)      US       Florida           6188   \n",
       "\n",
       "       month weekday day_in_month  label  \n",
       "0          4       4           10     36  \n",
       "1          4       4           10     28  \n",
       "2          4       4           10     36  \n",
       "3          4       4           10     40  \n",
       "4          4       4           10     32  \n",
       "...      ...     ...          ...    ...  \n",
       "302899     4       2            1     30  \n",
       "302900     4       2            1     30  \n",
       "302901     4       2            1     14  \n",
       "302902     4       2            1     54  \n",
       "302903     4       2            1      6  \n",
       "\n",
       "[302904 rows x 11 columns]"
      ]
     },
     "execution_count": 13,
     "metadata": {},
     "output_type": "execute_result"
    }
   ],
   "source": [
    "geos"
   ]
  },
  {
   "cell_type": "code",
   "execution_count": 14,
   "metadata": {},
   "outputs": [
    {
     "data": {
      "text/plain": [
       "['Illinois',\n",
       " 'California',\n",
       " 'Florida',\n",
       " 'Pennsylvania',\n",
       " 'Colorado',\n",
       " 'Minnesota',\n",
       " 'Kansas',\n",
       " 'Wisconsin',\n",
       " 'Washington',\n",
       " 'Texas',\n",
       " 'North Carolina',\n",
       " 'Alaska',\n",
       " 'Ohio',\n",
       " 'Missouri',\n",
       " 'New York',\n",
       " 'Alabama',\n",
       " 'Tennessee',\n",
       " 'Oregon',\n",
       " 'Virginia',\n",
       " 'New Jersey',\n",
       " 'Nebraska',\n",
       " 'Michigan',\n",
       " 'New Mexico',\n",
       " 'Massachusetts',\n",
       " 'Maryland',\n",
       " 'South Carolina',\n",
       " 'West Virginia',\n",
       " 'Georgia',\n",
       " 'Rhode Island',\n",
       " 'Indiana',\n",
       " 'Oklahoma',\n",
       " 'Iowa',\n",
       " 'Louisiana',\n",
       " 'Arkansas',\n",
       " 'Delaware',\n",
       " 'Utah',\n",
       " 'Maine',\n",
       " 'Connecticut',\n",
       " 'South Dakota',\n",
       " 'Arizona',\n",
       " 'Kentucky',\n",
       " 'Mississippi',\n",
       " 'Nevada',\n",
       " 'New Hampshire',\n",
       " 'Idaho',\n",
       " 'Vermont',\n",
       " 'Montana',\n",
       " 'Hawaii',\n",
       " 'North Dakota',\n",
       " 'Wyoming',\n",
       " 'Washington, D.C.']"
      ]
     },
     "execution_count": 14,
     "metadata": {},
     "output_type": "execute_result"
    }
   ],
   "source": [
    "list(geos.state.unique())"
   ]
  },
  {
   "cell_type": "code",
   "execution_count": 15,
   "metadata": {},
   "outputs": [
    {
     "data": {
      "text/plain": [
       "95"
      ]
     },
     "execution_count": 15,
     "metadata": {},
     "output_type": "execute_result"
    }
   ],
   "source": [
    "geos[geos['day_in_month']==4]['label'].max()"
   ]
  },
  {
   "cell_type": "markdown",
   "metadata": {},
   "source": [
    "This shape is bit of skpetical since start from 0:00 it has small peak before down to the trough. But now, let's move on. If have time, back to check this issue."
   ]
  },
  {
   "cell_type": "code",
   "execution_count": 16,
   "metadata": {},
   "outputs": [
    {
     "data": {
      "text/plain": [
       "<AxesSubplot:xlabel='label'>"
      ]
     },
     "execution_count": 16,
     "metadata": {},
     "output_type": "execute_result"
    },
    {
     "data": {
      "image/png": "[encoded data removed]",
      "text/plain": [
       "<Figure size 432x288 with 1 Axes>"
      ]
     },
     "metadata": {
      "needs_background": "light"
     },
     "output_type": "display_data"
    }
   ],
   "source": [
    "import seaborn as sns\n",
    "# Kernel Density Estimate\n",
    "sns.distplot(geos[geos['day_in_month']==2]['label'])"
   ]
  },
  {
   "cell_type": "markdown",
   "metadata": {},
   "source": [
    "[Zhihu on KDE implementation](https://zhuanlan.zhihu.com/p/36859670)"
   ]
  },
  {
   "cell_type": "markdown",
   "metadata": {},
   "source": [
    "python'''\n",
    "    kde=KernelDensity(kernel='gaussian',bandwidth=bw).fit(data,(-1,1))\n",
    "    得到的是log后的概率密度，之后要用exp恢复\n",
    "    log_pdf = kde.score_samples(data_plot.reshape(-1, 1))\n",
    "    pdf=np.exp(log_pdf)\n",
    "'''"
   ]
  },
  {
   "cell_type": "code",
   "execution_count": 17,
   "metadata": {},
   "outputs": [],
   "source": [
    "import numpy as np"
   ]
  },
  {
   "cell_type": "code",
   "execution_count": 18,
   "metadata": {},
   "outputs": [],
   "source": [
    "X = np.linspace(0,95,96)"
   ]
  },
  {
   "cell_type": "code",
   "execution_count": 19,
   "metadata": {},
   "outputs": [],
   "source": [
    "day4_lable = np.array(geos[geos['day_in_month']==2]['label'])\n"
   ]
  },
  {
   "cell_type": "code",
   "execution_count": 20,
   "metadata": {},
   "outputs": [
    {
     "data": {
      "text/plain": [
       "(11383,)"
      ]
     },
     "execution_count": 20,
     "metadata": {},
     "output_type": "execute_result"
    }
   ],
   "source": [
    "day4_lable.shape"
   ]
  },
  {
   "cell_type": "code",
   "execution_count": 21,
   "metadata": {},
   "outputs": [
    {
     "data": {
      "text/plain": [
       "(96,)"
      ]
     },
     "execution_count": 21,
     "metadata": {},
     "output_type": "execute_result"
    }
   ],
   "source": [
    "X.shape"
   ]
  },
  {
   "cell_type": "code",
   "execution_count": 22,
   "metadata": {},
   "outputs": [
    {
     "data": {
      "text/plain": [
       "(11383, 1)"
      ]
     },
     "execution_count": 22,
     "metadata": {},
     "output_type": "execute_result"
    }
   ],
   "source": [
    "day4_lable.reshape(-1, 1).shape"
   ]
  },
  {
   "cell_type": "code",
   "execution_count": 23,
   "metadata": {},
   "outputs": [
    {
     "data": {
      "text/plain": [
       "(96, 1)"
      ]
     },
     "execution_count": 23,
     "metadata": {},
     "output_type": "execute_result"
    }
   ],
   "source": [
    "X.reshape(-1,1).shape"
   ]
  },
  {
   "cell_type": "code",
   "execution_count": 24,
   "metadata": {},
   "outputs": [],
   "source": [
    "from sklearn.neighbors import KernelDensity\n",
    "day4_lable = np.array(geos[geos['day_in_month']==5]['label'])\n",
    "bw = 4.5\n",
    "kde=KernelDensity(kernel='gaussian',bandwidth=bw).fit(day4_lable.reshape(-1, 1))\n",
    "log_pdf = kde.score_samples(X.reshape(-1,1))"
   ]
  },
  {
   "cell_type": "code",
   "execution_count": 25,
   "metadata": {},
   "outputs": [],
   "source": [
    "pdf=np.exp(log_pdf)"
   ]
  },
  {
   "cell_type": "code",
   "execution_count": 26,
   "metadata": {},
   "outputs": [
    {
     "data": {
      "text/plain": [
       "0.00994614045755209"
      ]
     },
     "execution_count": 26,
     "metadata": {},
     "output_type": "execute_result"
    }
   ],
   "source": [
    "pdf.mean()"
   ]
  },
  {
   "cell_type": "code",
   "execution_count": 27,
   "metadata": {},
   "outputs": [
    {
     "data": {
      "text/plain": [
       "0.01964818031074995"
      ]
     },
     "execution_count": 27,
     "metadata": {},
     "output_type": "execute_result"
    }
   ],
   "source": [
    "pdf.max()"
   ]
  },
  {
   "cell_type": "code",
   "execution_count": null,
   "metadata": {},
   "outputs": [],
   "source": []
  },
  {
   "cell_type": "code",
   "execution_count": 28,
   "metadata": {},
   "outputs": [
    {
     "data": {
      "image/png": "[encoded data removed]",
      "text/plain": [
       "<Figure size 432x288 with 1 Axes>"
      ]
     },
     "metadata": {
      "needs_background": "light"
     },
     "output_type": "display_data"
    }
   ],
   "source": [
    "sns.scatterplot(x=X, y = pdf);"
   ]
  },
  {
   "cell_type": "code",
   "execution_count": 29,
   "metadata": {},
   "outputs": [],
   "source": [
    "optim_width = 1.06*day4_lable.std()*np.power(len(day4_lable),-0.2)"
   ]
  },
  {
   "cell_type": "code",
   "execution_count": 30,
   "metadata": {},
   "outputs": [
    {
     "data": {
      "text/plain": [
       "4.507267319747914"
      ]
     },
     "execution_count": 30,
     "metadata": {},
     "output_type": "execute_result"
    }
   ],
   "source": [
    "optim_width"
   ]
  },
  {
   "cell_type": "code",
   "execution_count": 31,
   "metadata": {},
   "outputs": [
    {
     "data": {
      "text/plain": [
       "96"
      ]
     },
     "execution_count": 31,
     "metadata": {},
     "output_type": "execute_result"
    }
   ],
   "source": [
    "len(pdf)"
   ]
  },
  {
   "cell_type": "code",
   "execution_count": 32,
   "metadata": {},
   "outputs": [
    {
     "data": {
      "text/plain": [
       "0.0026981739365449283"
      ]
     },
     "execution_count": 32,
     "metadata": {},
     "output_type": "execute_result"
    }
   ],
   "source": [
    "pdf.min()"
   ]
  },
  {
   "cell_type": "code",
   "execution_count": 33,
   "metadata": {},
   "outputs": [
    {
     "data": {
      "text/plain": [
       "0.009978912704237293"
      ]
     },
     "execution_count": 33,
     "metadata": {},
     "output_type": "execute_result"
    }
   ],
   "source": [
    "np.median(pdf)"
   ]
  },
  {
   "cell_type": "markdown",
   "metadata": {},
   "source": [
    "It makes sense if using 0.6 of median of pdf for the trough width that span approximately from 0:00 to 8:25 AM "
   ]
  },
  {
   "cell_type": "code",
   "execution_count": 34,
   "metadata": {},
   "outputs": [
    {
     "data": {
      "text/plain": [
       "array([2.5 , 2.75, 3.  , 3.25, 3.5 , 3.75, 4.  , 4.25, 4.5 , 4.75, 5.  ,\n",
       "       5.25, 5.5 , 5.75, 6.  , 6.25, 6.5 , 6.75, 7.  , 7.25, 7.5 , 7.75,\n",
       "       8.  , 8.25, 8.5 , 8.75])"
      ]
     },
     "execution_count": 34,
     "metadata": {},
     "output_type": "execute_result"
    }
   ],
   "source": [
    "X[pdf < 0.6*np.median(pdf)]/4"
   ]
  },
  {
   "cell_type": "markdown",
   "metadata": {},
   "source": [
    "Possible solution to deal with bounded edge cases: mirror the data in the negative \n",
    "\n",
    "[source](https://github.com/tommyod/KDEpy/blob/master/docs/presentation/kde_presentation.pdf）"
   ]
  },
  {
   "cell_type": "code",
   "execution_count": 35,
   "metadata": {},
   "outputs": [],
   "source": [
    "mirror_day4_lable = day4_lable*-1"
   ]
  },
  {
   "cell_type": "code",
   "execution_count": 36,
   "metadata": {},
   "outputs": [],
   "source": [
    "new_day4_lable = np.concatenate((mirror_day4_lable,day4_lable))"
   ]
  },
  {
   "cell_type": "code",
   "execution_count": 37,
   "metadata": {},
   "outputs": [
    {
     "data": {
      "text/plain": [
       "21380"
      ]
     },
     "execution_count": 37,
     "metadata": {},
     "output_type": "execute_result"
    }
   ],
   "source": [
    "len(new_day4_lable)"
   ]
  },
  {
   "cell_type": "code",
   "execution_count": 38,
   "metadata": {},
   "outputs": [
    {
     "data": {
      "text/plain": [
       "<AxesSubplot:>"
      ]
     },
     "execution_count": 38,
     "metadata": {},
     "output_type": "execute_result"
    },
    {
     "data": {
      "image/png": "[encoded data removed]",
      "text/plain": [
       "<Figure size 432x288 with 1 Axes>"
      ]
     },
     "metadata": {
      "needs_background": "light"
     },
     "output_type": "display_data"
    }
   ],
   "source": [
    "sns.distplot(new_day4_lable)"
   ]
  },
  {
   "cell_type": "code",
   "execution_count": 39,
   "metadata": {},
   "outputs": [],
   "source": [
    "from sklearn.neighbors import KernelDensity\n",
    "# day4_lable = np.array(geos[geos['day_in_month']==5]['label'])\n",
    "bw = 9.5\n",
    "kde=KernelDensity(kernel='gaussian',bandwidth=bw).fit(new_day4_lable.reshape(-1, 1))\n",
    "log_pdf = kde.score_samples(X.reshape(-1,1))"
   ]
  },
  {
   "cell_type": "code",
   "execution_count": 40,
   "metadata": {},
   "outputs": [],
   "source": [
    "pdf=np.exp(log_pdf)"
   ]
  },
  {
   "cell_type": "code",
   "execution_count": 41,
   "metadata": {},
   "outputs": [
    {
     "data": {
      "text/plain": [
       "0.004903955056816495"
      ]
     },
     "execution_count": 41,
     "metadata": {},
     "output_type": "execute_result"
    }
   ],
   "source": [
    "pdf.mean()"
   ]
  },
  {
   "cell_type": "code",
   "execution_count": 42,
   "metadata": {},
   "outputs": [
    {
     "data": {
      "text/plain": [
       "0.00815585662095029"
      ]
     },
     "execution_count": 42,
     "metadata": {},
     "output_type": "execute_result"
    }
   ],
   "source": [
    "pdf.max()"
   ]
  },
  {
   "cell_type": "code",
   "execution_count": null,
   "metadata": {},
   "outputs": [],
   "source": []
  },
  {
   "cell_type": "code",
   "execution_count": 43,
   "metadata": {},
   "outputs": [
    {
     "data": {
      "image/png": "[encoded data removed]",
      "text/plain": [
       "<Figure size 432x288 with 1 Axes>"
      ]
     },
     "metadata": {
      "needs_background": "light"
     },
     "output_type": "display_data"
    }
   ],
   "source": [
    "sns.scatterplot(x=X, y = pdf);"
   ]
  },
  {
   "cell_type": "code",
   "execution_count": 44,
   "metadata": {},
   "outputs": [],
   "source": [
    "optim_width = 1.06*new_day4_lable.std()*np.power(len(new_day4_lable),-0.2)"
   ]
  },
  {
   "cell_type": "code",
   "execution_count": 45,
   "metadata": {},
   "outputs": [
    {
     "data": {
      "text/plain": [
       "9.40806687974236"
      ]
     },
     "execution_count": 45,
     "metadata": {},
     "output_type": "execute_result"
    }
   ],
   "source": [
    "optim_width"
   ]
  },
  {
   "cell_type": "code",
   "execution_count": 46,
   "metadata": {},
   "outputs": [
    {
     "data": {
      "text/plain": [
       "96"
      ]
     },
     "execution_count": 46,
     "metadata": {},
     "output_type": "execute_result"
    }
   ],
   "source": [
    "len(pdf)"
   ]
  },
  {
   "cell_type": "code",
   "execution_count": 47,
   "metadata": {},
   "outputs": [
    {
     "data": {
      "text/plain": [
       "0.002033868287128192"
      ]
     },
     "execution_count": 47,
     "metadata": {},
     "output_type": "execute_result"
    }
   ],
   "source": [
    "pdf.min()"
   ]
  },
  {
   "cell_type": "code",
   "execution_count": 48,
   "metadata": {},
   "outputs": [
    {
     "data": {
      "text/plain": [
       "0.004709148072454862"
      ]
     },
     "execution_count": 48,
     "metadata": {},
     "output_type": "execute_result"
    }
   ],
   "source": [
    "np.median(pdf)"
   ]
  },
  {
   "cell_type": "markdown",
   "metadata": {},
   "source": [
    "It makes sense if using 0.6 of median of pdf for the trough width that span approximately from 0:00 to 8:25 AM "
   ]
  },
  {
   "cell_type": "code",
   "execution_count": 49,
   "metadata": {},
   "outputs": [
    {
     "data": {
      "text/plain": [
       "0.004709148072454862"
      ]
     },
     "execution_count": 49,
     "metadata": {},
     "output_type": "execute_result"
    }
   ],
   "source": [
    "np.median(pdf)"
   ]
  },
  {
   "cell_type": "code",
   "execution_count": 50,
   "metadata": {},
   "outputs": [],
   "source": [
    "trough_period = X[pdf <0.6*np.median(pdf)]/4"
   ]
  },
  {
   "cell_type": "code",
   "execution_count": 51,
   "metadata": {},
   "outputs": [],
   "source": [
    "duration = trough_period.max() - trough_period.min()"
   ]
  },
  {
   "cell_type": "code",
   "execution_count": 52,
   "metadata": {},
   "outputs": [
    {
     "data": {
      "text/plain": [
       "4.75"
      ]
     },
     "execution_count": 52,
     "metadata": {},
     "output_type": "execute_result"
    }
   ],
   "source": [
    "duration"
   ]
  },
  {
   "cell_type": "markdown",
   "metadata": {},
   "source": [
    "__Compute the duration in state level__"
   ]
  },
  {
   "cell_type": "code",
   "execution_count": 53,
   "metadata": {},
   "outputs": [
    {
     "data": {
      "text/html": [
       "<div>\n",
       "<style scoped>\n",
       "    .dataframe tbody tr th:only-of-type {\n",
       "        vertical-align: middle;\n",
       "    }\n",
       "\n",
       "    .dataframe tbody tr th {\n",
       "        vertical-align: top;\n",
       "    }\n",
       "\n",
       "    .dataframe thead th {\n",
       "        text-align: right;\n",
       "    }\n",
       "</style>\n",
       "<table border=\"1\" class=\"dataframe\">\n",
       "  <thead>\n",
       "    <tr style=\"text-align: right;\">\n",
       "      <th></th>\n",
       "      <th>index</th>\n",
       "      <th>user_id</th>\n",
       "      <th>timestamp_ms</th>\n",
       "      <th>coordinate</th>\n",
       "      <th>country</th>\n",
       "      <th>state</th>\n",
       "      <th>time_in_second</th>\n",
       "      <th>month</th>\n",
       "      <th>weekday</th>\n",
       "      <th>day_in_month</th>\n",
       "      <th>label</th>\n",
       "    </tr>\n",
       "  </thead>\n",
       "  <tbody>\n",
       "    <tr>\n",
       "      <th>0</th>\n",
       "      <td>5</td>\n",
       "      <td>1139323604330569729</td>\n",
       "      <td>1586527809663</td>\n",
       "      <td>(41.481426, -87.674421)</td>\n",
       "      <td>US</td>\n",
       "      <td>Illinois</td>\n",
       "      <td>33009</td>\n",
       "      <td>4</td>\n",
       "      <td>4</td>\n",
       "      <td>10</td>\n",
       "      <td>36</td>\n",
       "    </tr>\n",
       "    <tr>\n",
       "      <th>1</th>\n",
       "      <td>10</td>\n",
       "      <td>27377135</td>\n",
       "      <td>1586527816658</td>\n",
       "      <td>(33.606077, -117.86894)</td>\n",
       "      <td>US</td>\n",
       "      <td>California</td>\n",
       "      <td>25816</td>\n",
       "      <td>4</td>\n",
       "      <td>4</td>\n",
       "      <td>10</td>\n",
       "      <td>28</td>\n",
       "    </tr>\n",
       "    <tr>\n",
       "      <th>2</th>\n",
       "      <td>11</td>\n",
       "      <td>515108272</td>\n",
       "      <td>1586527817665</td>\n",
       "      <td>(30.355644, -85.605166)</td>\n",
       "      <td>US</td>\n",
       "      <td>Florida</td>\n",
       "      <td>33017</td>\n",
       "      <td>4</td>\n",
       "      <td>4</td>\n",
       "      <td>10</td>\n",
       "      <td>36</td>\n",
       "    </tr>\n",
       "    <tr>\n",
       "      <th>3</th>\n",
       "      <td>15</td>\n",
       "      <td>118811691</td>\n",
       "      <td>1586527831663</td>\n",
       "      <td>(40.361580000000004, -80.095586)</td>\n",
       "      <td>US</td>\n",
       "      <td>Pennsylvania</td>\n",
       "      <td>36631</td>\n",
       "      <td>4</td>\n",
       "      <td>4</td>\n",
       "      <td>10</td>\n",
       "      <td>40</td>\n",
       "    </tr>\n",
       "    <tr>\n",
       "      <th>4</th>\n",
       "      <td>24</td>\n",
       "      <td>1185068084010180608</td>\n",
       "      <td>1586527838658</td>\n",
       "      <td>(36.992427, -109.060257)</td>\n",
       "      <td>US</td>\n",
       "      <td>Colorado</td>\n",
       "      <td>29438</td>\n",
       "      <td>4</td>\n",
       "      <td>4</td>\n",
       "      <td>10</td>\n",
       "      <td>32</td>\n",
       "    </tr>\n",
       "  </tbody>\n",
       "</table>\n",
       "</div>"
      ],
      "text/plain": [
       "   index              user_id   timestamp_ms  \\\n",
       "0      5  1139323604330569729  1586527809663   \n",
       "1     10             27377135  1586527816658   \n",
       "2     11            515108272  1586527817665   \n",
       "3     15            118811691  1586527831663   \n",
       "4     24  1185068084010180608  1586527838658   \n",
       "\n",
       "                         coordinate country         state time_in_second  \\\n",
       "0           (41.481426, -87.674421)      US      Illinois          33009   \n",
       "1           (33.606077, -117.86894)      US    California          25816   \n",
       "2           (30.355644, -85.605166)      US       Florida          33017   \n",
       "3  (40.361580000000004, -80.095586)      US  Pennsylvania          36631   \n",
       "4          (36.992427, -109.060257)      US      Colorado          29438   \n",
       "\n",
       "  month weekday day_in_month  label  \n",
       "0     4       4           10     36  \n",
       "1     4       4           10     28  \n",
       "2     4       4           10     36  \n",
       "3     4       4           10     40  \n",
       "4     4       4           10     32  "
      ]
     },
     "execution_count": 53,
     "metadata": {},
     "output_type": "execute_result"
    }
   ],
   "source": [
    "geos.head()"
   ]
  },
  {
   "cell_type": "code",
   "execution_count": 54,
   "metadata": {},
   "outputs": [],
   "source": [
    "state_lable = np.array(geos[geos['state']=='Montana']['label'])\n",
    "mirror_state_lable = state_lable*-1\n",
    "new_state_lable = np.concatenate((mirror_state_lable,state_lable))\n",
    "optim_width = 1.06*new_state_lable.std()*np.power(len(new_state_lable),-0.2)"
   ]
  },
  {
   "cell_type": "code",
   "execution_count": 55,
   "metadata": {},
   "outputs": [
    {
     "data": {
      "text/plain": [
       "359"
      ]
     },
     "execution_count": 55,
     "metadata": {},
     "output_type": "execute_result"
    }
   ],
   "source": [
    "len(state_lable)"
   ]
  },
  {
   "cell_type": "code",
   "execution_count": 56,
   "metadata": {},
   "outputs": [
    {
     "data": {
      "text/plain": [
       "18.434362663361455"
      ]
     },
     "execution_count": 56,
     "metadata": {},
     "output_type": "execute_result"
    }
   ],
   "source": [
    "optim_width"
   ]
  },
  {
   "cell_type": "code",
   "execution_count": 57,
   "metadata": {},
   "outputs": [],
   "source": [
    "from sklearn.neighbors import KernelDensity\n",
    "bw = optim_width\n",
    "kde=KernelDensity(kernel='gaussian',bandwidth=bw).fit(new_state_lable.reshape(-1, 1))\n",
    "log_pdf = kde.score_samples(X.reshape(-1,1))"
   ]
  },
  {
   "cell_type": "code",
   "execution_count": 58,
   "metadata": {},
   "outputs": [
    {
     "data": {
      "text/plain": [
       "<AxesSubplot:>"
      ]
     },
     "execution_count": 58,
     "metadata": {},
     "output_type": "execute_result"
    },
    {
     "data": {
      "image/png": "[encoded data removed]",
      "text/plain": [
       "<Figure size 432x288 with 1 Axes>"
      ]
     },
     "metadata": {
      "needs_background": "light"
     },
     "output_type": "display_data"
    }
   ],
   "source": [
    "sns.distplot(new_state_lable)"
   ]
  },
  {
   "cell_type": "code",
   "execution_count": 59,
   "metadata": {},
   "outputs": [
    {
     "data": {
      "image/png": "[encoded data removed]",
      "text/plain": [
       "<Figure size 432x288 with 1 Axes>"
      ]
     },
     "metadata": {
      "needs_background": "light"
     },
     "output_type": "display_data"
    }
   ],
   "source": [
    "pdf=np.exp(log_pdf)\n",
    "sns.scatterplot(x=X, y = pdf);"
   ]
  },
  {
   "cell_type": "code",
   "execution_count": 60,
   "metadata": {},
   "outputs": [
    {
     "data": {
      "text/plain": [
       "array([0.  , 0.25, 0.5 , 0.75, 1.  , 1.25, 1.5 , 1.75, 2.  , 2.25, 2.5 ,\n",
       "       2.75, 3.  , 3.25, 3.5 , 3.75, 4.  , 4.25, 4.5 , 4.75, 5.  , 5.25,\n",
       "       5.5 , 5.75, 6.  , 6.25, 6.5 , 6.75, 7.  , 7.25, 7.5 , 7.75, 8.  ,\n",
       "       8.25])"
      ]
     },
     "execution_count": 60,
     "metadata": {},
     "output_type": "execute_result"
    }
   ],
   "source": [
    "X[pdf <0.8*np.median(pdf)]/4"
   ]
  },
  {
   "cell_type": "code",
   "execution_count": 62,
   "metadata": {},
   "outputs": [],
   "source": [
    "trough_period = X[pdf <0.8*np.median(pdf)]/4\n",
    "duration = trough_period.max() - trough_period.min()"
   ]
  },
  {
   "cell_type": "code",
   "execution_count": 63,
   "metadata": {},
   "outputs": [
    {
     "data": {
      "text/plain": [
       "8.25"
      ]
     },
     "execution_count": 63,
     "metadata": {},
     "output_type": "execute_result"
    }
   ],
   "source": [
    "duration"
   ]
  },
  {
   "cell_type": "code",
   "execution_count": 64,
   "metadata": {},
   "outputs": [],
   "source": [
    "def state_level_month_low_act_duration(state):\n",
    "    print(state)\n",
    "    # bin 24 hrs in 15 min interval\n",
    "    X = np.linspace(0,95,96)\n",
    "    state_lable = np.array(geos[geos['state']==state]['label'])\n",
    "    mirror_state_lable = state_lable*-1\n",
    "    new_state_lable = np.concatenate((mirror_state_lable,state_lable))\n",
    "    # optim_width calculation\n",
    "    optim_width = 1.06*new_state_lable.std()*np.power(len(new_state_lable),-0.2)\n",
    "    bw = optim_width\n",
    "    kde=KernelDensity(kernel='gaussian',bandwidth=bw).fit(new_state_lable.reshape(-1, 1))\n",
    "    log_pdf = kde.score_samples(X.reshape(-1,1))\n",
    "    pdf=np.exp(log_pdf)\n",
    "    \n",
    "    # trough_period in hour\n",
    "    trough_period = X[pdf <0.8*np.median(pdf)]/4\n",
    "    try:\n",
    "        low_activity_duration = trough_period.max() - trough_period.min()\n",
    "    except:\n",
    "        return 0\n",
    "    \n",
    "    return low_activity_duration\n",
    "\n",
    "    "
   ]
  },
  {
   "cell_type": "code",
   "execution_count": 65,
   "metadata": {},
   "outputs": [],
   "source": [
    "state_list = list(geos.state.unique())"
   ]
  },
  {
   "cell_type": "code",
   "execution_count": 66,
   "metadata": {},
   "outputs": [
    {
     "name": "stdout",
     "output_type": "stream",
     "text": [
      "Illinois\n",
      "California\n",
      "Florida\n",
      "Pennsylvania\n",
      "Colorado\n",
      "Minnesota\n",
      "Kansas\n",
      "Wisconsin\n",
      "Washington\n",
      "Texas\n",
      "North Carolina\n",
      "Alaska\n",
      "Ohio\n",
      "Missouri\n",
      "New York\n",
      "Alabama\n",
      "Tennessee\n",
      "Oregon\n",
      "Virginia\n",
      "New Jersey\n",
      "Nebraska\n",
      "Michigan\n",
      "New Mexico\n",
      "Massachusetts\n",
      "Maryland\n",
      "South Carolina\n",
      "West Virginia\n",
      "Georgia\n",
      "Rhode Island\n",
      "Indiana\n",
      "Oklahoma\n",
      "Iowa\n",
      "Louisiana\n",
      "Arkansas\n",
      "Delaware\n",
      "Utah\n",
      "Maine\n",
      "Connecticut\n",
      "South Dakota\n",
      "Arizona\n",
      "Kentucky\n",
      "Mississippi\n",
      "Nevada\n",
      "New Hampshire\n",
      "Idaho\n",
      "Vermont\n",
      "Montana\n",
      "Hawaii\n",
      "North Dakota\n",
      "Wyoming\n",
      "Washington, D.C.\n"
     ]
    }
   ],
   "source": [
    "low_act_duration_state_dict = {}\n",
    "\n",
    "for state in state_list:\n",
    "    low_act_duration = state_level_month_low_act_duration(state)\n",
    "    low_act_duration_state_dict[state] = low_act_duration"
   ]
  },
  {
   "cell_type": "code",
   "execution_count": 67,
   "metadata": {},
   "outputs": [
    {
     "data": {
      "text/plain": [
       "{'Illinois': 7.75,\n",
       " 'California': 7.75,\n",
       " 'Florida': 8.25,\n",
       " 'Pennsylvania': 9.5,\n",
       " 'Colorado': 8.25,\n",
       " 'Minnesota': 9.25,\n",
       " 'Kansas': 9.25,\n",
       " 'Wisconsin': 9.5,\n",
       " 'Washington': 7.5,\n",
       " 'Texas': 7.75,\n",
       " 'North Carolina': 9.5,\n",
       " 'Alaska': 4.25,\n",
       " 'Ohio': 9.5,\n",
       " 'Missouri': 9.5,\n",
       " 'New York': 8.5,\n",
       " 'Alabama': 9.0,\n",
       " 'Tennessee': 9.5,\n",
       " 'Oregon': 7.0,\n",
       " 'Virginia': 9.25,\n",
       " 'New Jersey': 9.25,\n",
       " 'Nebraska': 9.25,\n",
       " 'Michigan': 9.25,\n",
       " 'New Mexico': 6.75,\n",
       " 'Massachusetts': 9.25,\n",
       " 'Maryland': 8.25,\n",
       " 'South Carolina': 9.0,\n",
       " 'West Virginia': 9.25,\n",
       " 'Georgia': 8.0,\n",
       " 'Rhode Island': 9.25,\n",
       " 'Indiana': 9.5,\n",
       " 'Oklahoma': 9.0,\n",
       " 'Iowa': 9.25,\n",
       " 'Louisiana': 7.0,\n",
       " 'Arkansas': 8.75,\n",
       " 'Delaware': 9.25,\n",
       " 'Utah': 7.25,\n",
       " 'Maine': 8.5,\n",
       " 'Connecticut': 9.25,\n",
       " 'South Dakota': 6.0,\n",
       " 'Arizona': 7.5,\n",
       " 'Kentucky': 8.75,\n",
       " 'Mississippi': 9.0,\n",
       " 'Nevada': 7.0,\n",
       " 'New Hampshire': 9.0,\n",
       " 'Idaho': 7.0,\n",
       " 'Vermont': 4.25,\n",
       " 'Montana': 8.25,\n",
       " 'Hawaii': 5.75,\n",
       " 'North Dakota': 8.25,\n",
       " 'Wyoming': 7.75,\n",
       " 'Washington, D.C.': 6.25}"
      ]
     },
     "execution_count": 67,
     "metadata": {},
     "output_type": "execute_result"
    }
   ],
   "source": [
    "low_act_duration_state_dict"
   ]
  },
  {
   "cell_type": "code",
   "execution_count": null,
   "metadata": {},
   "outputs": [],
   "source": []
  }
 ],
 "metadata": {
  "colab": {
   "collapsed_sections": [],
   "name": "cse519 final project.ipynb",
   "provenance": []
  },
  "environment": {
   "name": "tf2-2-3-gpu.2-3.m55",
   "type": "gcloud",
   "uri": "gcr.io/deeplearning-platform-release/tf2-2-3-gpu.2-3:m55"
  },
  "kernelspec": {
   "display_name": "Python 3",
   "language": "python",
   "name": "python3"
  },
  "language_info": {
   "codemirror_mode": {
    "name": "ipython",
    "version": 3
   },
   "file_extension": ".py",
   "mimetype": "text/x-python",
   "name": "python",
   "nbconvert_exporter": "python",
   "pygments_lexer": "ipython3",
   "version": "3.7.8"
  }
 },
 "nbformat": 4,
 "nbformat_minor": 4
}
