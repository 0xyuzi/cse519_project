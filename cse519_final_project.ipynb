{
  "nbformat": 4,
  "nbformat_minor": 0,
  "metadata": {
    "colab": {
      "name": "cse519 final project.ipynb",
      "provenance": [],
      "collapsed_sections": []
    },
    "kernelspec": {
      "display_name": "Python 3",
      "name": "python3"
    }
  },
  "cells": [
    {
      "cell_type": "code",
      "metadata": {
        "id": "XlFQodqoo_wY",
        "outputId": "11c011f9-2e79-49ed-de89-a980eaf67f6f",
        "colab": {
          "base_uri": "https://localhost:8080/"
        }
      },
      "source": [
        "from google.colab import drive\n",
        "drive.mount('/content/gdrive')"
      ],
      "execution_count": null,
      "outputs": [
        {
          "output_type": "stream",
          "text": [
            "Drive already mounted at /content/gdrive; to attempt to forcibly remount, call drive.mount(\"/content/gdrive\", force_remount=True).\n"
          ],
          "name": "stdout"
        }
      ]
    },
    {
      "cell_type": "code",
      "metadata": {
        "id": "pb4aTaCXppua",
        "outputId": "f9de302a-e74d-474c-c080-ab374d13d147",
        "colab": {
          "base_uri": "https://localhost:8080/"
        }
      },
      "source": [
        "cd \"/content/gdrive/My Drive/cse519_final_proj/dataset\""
      ],
      "execution_count": null,
      "outputs": [
        {
          "output_type": "stream",
          "text": [
            "/content/gdrive/My Drive/cse519_final_proj/dataset\n"
          ],
          "name": "stdout"
        }
      ]
    },
    {
      "cell_type": "code",
      "metadata": {
        "id": "9MpBuJZ3vVCM",
        "outputId": "8f44bfd9-2b57-49f8-a7bc-551f10949951",
        "colab": {
          "base_uri": "https://localhost:8080/"
        }
      },
      "source": [
        "pip install wget"
      ],
      "execution_count": null,
      "outputs": [
        {
          "output_type": "stream",
          "text": [
            "Requirement already satisfied: wget in /usr/local/lib/python3.6/dist-packages (3.2)\n"
          ],
          "name": "stdout"
        }
      ]
    },
    {
      "cell_type": "code",
      "metadata": {
        "id": "CUVP4orKOJpc",
        "outputId": "a90a00ac-e21e-4bfb-9f80-3b6d8cbf4f20",
        "colab": {
          "base_uri": "https://localhost:8080/"
        }
      },
      "source": [
        "cd ../WorkingD/data/pre_process_data"
      ],
      "execution_count": null,
      "outputs": [
        {
          "output_type": "stream",
          "text": [
            "/content/gdrive/My Drive/cse519_final_proj/WorkingD/data/pre_process_data\n"
          ],
          "name": "stdout"
        }
      ]
    },
    {
      "cell_type": "code",
      "metadata": {
        "id": "OoUh62bbRiTi"
      },
      "source": [
        "import os\n",
        "\n",
        "files_list = []\n",
        "\n",
        "for root, dirs, files in os.walk(\"./01\"):\n",
        "    for file in files:\n",
        "        if file.endswith(\".json\"):\n",
        "             files_list.append(str(os.path.join(root, file)))"
      ],
      "execution_count": null,
      "outputs": []
    },
    {
      "cell_type": "code",
      "metadata": {
        "id": "FjOhvj0xhGEz"
      },
      "source": [
        "import json\n",
        "import pandas as pd\n",
        "\n",
        "geos = pd.DataFrame([])\n",
        "\n",
        "geo_cnt = 0\n",
        "place_cnt = 0\n",
        "user_loc_cnt = 0\n",
        "\n",
        "for file_name in files_list:\n",
        "    temp = pd.read_json(file_name, orient='records',convert_dates=False)\n",
        "    geos = pd.concat([geos,temp], ignore_index=True)"
      ],
      "execution_count": null,
      "outputs": []
    },
    {
      "cell_type": "code",
      "metadata": {
        "id": "w3psfwhKeqH6"
      },
      "source": [
        "def fill_coordinates(row):\n",
        "    try:\n",
        "        coordinates = row['place']['bounding_box']['coordinates']\n",
        "        return (coordinates[0][0][1], coordinates[0][0][0])\n",
        "    except:\n",
        "        return None\n",
        "\n",
        "geos['coordinate'] = geos.apply(fill_coordinates, axis = 1)"
      ],
      "execution_count": null,
      "outputs": []
    },
    {
      "cell_type": "code",
      "metadata": {
        "id": "zZ9PoccrKu-n"
      },
      "source": [
        "geos.dropna(inplace=True)\n",
        "geos.drop(columns=['place'], inplace=True)"
      ],
      "execution_count": null,
      "outputs": []
    },
    {
      "cell_type": "code",
      "metadata": {
        "id": "wWRfDjkdLEjb",
        "outputId": "f87a4fac-72e4-4650-c7b4-008ffd9f7ddf",
        "colab": {
          "base_uri": "https://localhost:8080/"
        }
      },
      "source": [
        "pip install reverse_geocoder pytz timezonefinder"
      ],
      "execution_count": null,
      "outputs": [
        {
          "output_type": "stream",
          "text": [
            "Requirement already satisfied: reverse_geocoder in /usr/local/lib/python3.6/dist-packages (1.5.1)\n",
            "Requirement already satisfied: pytz in /usr/local/lib/python3.6/dist-packages (2018.9)\n",
            "Collecting timezonefinder\n",
            "\u001b[?25l  Downloading https://files.pythonhosted.org/packages/e5/72/484bc93ba4e1efedfa595f12fcd55f4ab006713e7acd7e1d85a5662a7cc8/timezonefinder-4.4.1-py36.py37.py38-none-any.whl (39.2MB)\n",
            "\u001b[K     |████████████████████████████████| 39.2MB 89kB/s \n",
            "\u001b[?25hRequirement already satisfied: numpy>=1.11.0 in /usr/local/lib/python3.6/dist-packages (from reverse_geocoder) (1.18.5)\n",
            "Requirement already satisfied: scipy>=0.17.1 in /usr/local/lib/python3.6/dist-packages (from reverse_geocoder) (1.4.1)\n",
            "Installing collected packages: timezonefinder\n",
            "Successfully installed timezonefinder-4.4.1\n"
          ],
          "name": "stdout"
        }
      ]
    },
    {
      "cell_type": "code",
      "metadata": {
        "id": "6qsRXejSan5r"
      },
      "source": [
        "coords = geos['coordinate'].tolist()\n",
        "coords = tuple(coords)\n",
        "\n",
        "import reverse_geocoder as rg\n",
        "results = rg.search(coords)\n",
        "\n",
        "country = []\n",
        "state = []\n",
        "\n",
        "for rec in results:\n",
        "    country.append(rec['cc'])\n",
        "    state.append(rec['admin1'])\n",
        "\n",
        "country = pd.Series(country)\n",
        "state = pd.Series(state)"
      ],
      "execution_count": null,
      "outputs": []
    },
    {
      "cell_type": "code",
      "metadata": {
        "id": "KUiZARytbVbp"
      },
      "source": [
        "geos['country'] = country\n",
        "geos['state'] = state\n",
        "geos.dropna(inplace=True)"
      ],
      "execution_count": null,
      "outputs": []
    },
    {
      "cell_type": "code",
      "metadata": {
        "id": "jWSULPjSbq5F",
        "outputId": "a5294db9-c060-4b7b-af5b-2b5dbddfa20e",
        "colab": {
          "base_uri": "https://localhost:8080/"
        }
      },
      "source": [
        "from timezonefinder import TimezoneFinder\n",
        "import datetime\n",
        "import pytz\n",
        "\n",
        "tf = TimezoneFinder()\n",
        "\n",
        "def get_localtime_in_seconds(rows):\n",
        "    coor = rows['coordinate']\n",
        "    lati = coor[0]\n",
        "    logi = coor[1]\n",
        "    zone_str = tf.timezone_at(lng = logi, lat = lati)\n",
        "    if zone_str == None:\n",
        "        return None\n",
        "    d = datetime.datetime.fromtimestamp(rows['timestamp_ms']/1000, tz=pytz.timezone(zone_str))\n",
        "    h, m, s = d.hour, d.minute, d.second\n",
        "    return h*3600+m*60+s\n",
        "\n",
        "geos.apply(get_localtime_in_seconds, axis=1)"
      ],
      "execution_count": null,
      "outputs": [
        {
          "output_type": "execute_result",
          "data": {
            "text/plain": [
              "0          18604.0\n",
              "1          51006.0\n",
              "2           7808.0\n",
              "3          58210.0\n",
              "4           4210.0\n",
              "            ...   \n",
              "1222282     2445.0\n",
              "1222283     6047.0\n",
              "1222284    16981.0\n",
              "1222285     2583.0\n",
              "1222286    63785.0\n",
              "Length: 1222273, dtype: float64"
            ]
          },
          "metadata": {
            "tags": []
          },
          "execution_count": 46
        }
      ]
    },
    {
      "cell_type": "code",
      "metadata": {
        "id": "2pFN_FZaf54R"
      },
      "source": [
        "import matplotlib.pyplot as plt\n",
        "\n",
        "plt"
      ],
      "execution_count": null,
      "outputs": []
    },
    {
      "cell_type": "code",
      "metadata": {
        "id": "BS7EjSlivZGs",
        "outputId": "a0524fd9-7e19-467a-c5e2-bf4176c97299",
        "colab": {
          "base_uri": "https://localhost:8080/"
        }
      },
      "source": [
        "def get_location(row):\n",
        "    try:\n",
        "        loc = row['user']['location']\n",
        "    except:\n",
        "        return 'none'\n",
        "    return loc\n",
        "loc = df.apply(get_location, axis=1)\n",
        "print(loc.unique())"
      ],
      "execution_count": null,
      "outputs": [
        {
          "output_type": "stream",
          "text": [
            "['さくらんだいすきにんげん' 'INDONESIA' 'none' ... '살려주세오' 'Morioh'\n",
            " 'langitlumpaimpyerno']\n"
          ],
          "name": "stdout"
        }
      ]
    },
    {
      "cell_type": "code",
      "metadata": {
        "id": "vm0OyVD8CxX_",
        "outputId": "e1faac67-345a-48dd-9c62-ae28b1668ee1",
        "colab": {
          "base_uri": "https://localhost:8080/"
        }
      },
      "source": [
        "df.iloc[0]['user']"
      ],
      "execution_count": null,
      "outputs": [
        {
          "output_type": "execute_result",
          "data": {
            "text/plain": [
              "{'contributors_enabled': False,\n",
              " 'created_at': 'Mon Aug 26 23:52:03 +0000 2019',\n",
              " 'default_profile': True,\n",
              " 'default_profile_image': False,\n",
              " 'description': '猫とゲームとアニメが好きな気分屋で超絶人見知りな人間ですがよろしくお願いしますですます。 ※冬は基本お布団かこたつの中に生息しています。¦無言フォロー失礼します¦ ふぉろば100%¦さくらんだいすき▷▶▷@LGS_PROCLASS',\n",
              " 'favourites_count': 62466,\n",
              " 'follow_request_sent': None,\n",
              " 'followers_count': 5053,\n",
              " 'following': None,\n",
              " 'friends_count': 5233,\n",
              " 'geo_enabled': False,\n",
              " 'id': 1166136217785655296,\n",
              " 'id_str': '1166136217785655296',\n",
              " 'is_translator': False,\n",
              " 'lang': None,\n",
              " 'listed_count': 33,\n",
              " 'location': 'さくらんだいすきにんげん',\n",
              " 'name': '愛美🐳🌟',\n",
              " 'notifications': None,\n",
              " 'profile_background_color': 'F5F8FA',\n",
              " 'profile_background_image_url': '',\n",
              " 'profile_background_image_url_https': '',\n",
              " 'profile_background_tile': False,\n",
              " 'profile_banner_url': 'https://pbs.twimg.com/profile_banners/1166136217785655296/1576381562',\n",
              " 'profile_image_url': 'http://pbs.twimg.com/profile_images/1207116713411502080/eLG7jOI2_normal.jpg',\n",
              " 'profile_image_url_https': 'https://pbs.twimg.com/profile_images/1207116713411502080/eLG7jOI2_normal.jpg',\n",
              " 'profile_link_color': '1DA1F2',\n",
              " 'profile_sidebar_border_color': 'C0DEED',\n",
              " 'profile_sidebar_fill_color': 'DDEEF6',\n",
              " 'profile_text_color': '333333',\n",
              " 'profile_use_background_image': True,\n",
              " 'protected': False,\n",
              " 'screen_name': 'dendenmushi_523',\n",
              " 'statuses_count': 18891,\n",
              " 'time_zone': None,\n",
              " 'translator_type': 'none',\n",
              " 'url': None,\n",
              " 'utc_offset': None,\n",
              " 'verified': False}"
            ]
          },
          "metadata": {
            "tags": []
          },
          "execution_count": 14
        }
      ]
    },
    {
      "cell_type": "code",
      "metadata": {
        "id": "HJC2RR0ldOyg"
      },
      "source": [
        "import os\n",
        "from os import listdir\n",
        "from os.path import isfile, join\n",
        "import io\n",
        "import json\n",
        "import bz2\n",
        "import numpy as np\n",
        "import pandas as pd\n",
        "import multiprocessing\n",
        "from joblib import Parallel, delayed\n",
        "\n",
        "# the date start in year-month \"/day/hour\"\n",
        "# \n",
        "# dir = './24/19/'\n",
        "# file path like \n",
        "month = 5\n",
        "day = 1\n",
        "dir_list =[] \n",
        "f_name_list = []\n",
        "\n",
        "# list of hours \n",
        "for hour in range(0,24):\n",
        "    dir_list.append(\"./data/%02d/%02d/%02d\"%(month,day,hour))\n",
        "    f_name_list.append(\"%02d_%02d_%02d\"%(month,day,hour))\n",
        "\n",
        "intput_list = zip(dir_list, f_name_list)\n",
        "\n",
        "def loc_aviable_filter(path, fname):\n",
        "    loc_avalibel_tweets = []\n",
        "    print(f\"process the file {fname}\")\n",
        "    # get the json files in hour\n",
        "    files = os.listdir(path)\n",
        "    \n",
        "    try:\n",
        "        files = os.listdir(path)\n",
        "    except:\n",
        "        return \n",
        "    \n",
        "    if not files:\n",
        "        return \n",
        "    \n",
        "    # parse the json file\n",
        "    for file in files:\n",
        "        sample_file = path + '/'+file\n",
        "        \n",
        "        with bz2.open(sample_file, \"rt\") as bzinput:\n",
        "            for i, line in enumerate(bzinput):\n",
        "                tweets = json.loads(line)\n",
        "\n",
        "                if tweets.get('place'):\n",
        "                    loc_avalibel_tweets.append({'user_id': tweets['user']['id'], 'place': tweets['place'], 'timestamp_ms': tweets['timestamp_ms']})\n",
        "    \n",
        "    df = pd.DataFrame(data=loc_avalibel_tweets)\n",
        "    # output to the json file\n",
        "    df.to_json (f'./data/pre_process_data/{fname}.json',orient='records')\n",
        "    print(f\"finish the file {fname}\")\n",
        "\n",
        "Parallel(n_jobs=14)(delayed(loc_aviable_filter)(path,fname) for path, fname in intput_list)"
      ],
      "execution_count": null,
      "outputs": []
    },
    {
      "cell_type": "code",
      "metadata": {
        "id": "yBiLk11I2Q0s",
        "outputId": "18012bec-7e94-460e-c906-b7cf8234aab1",
        "colab": {
          "base_uri": "https://localhost:8080/"
        }
      },
      "source": [
        "pip install reverse_geocoder"
      ],
      "execution_count": null,
      "outputs": [
        {
          "output_type": "stream",
          "text": [
            "Collecting reverse_geocoder\n",
            "\u001b[?25l  Downloading https://files.pythonhosted.org/packages/0b/0f/b7d5d4b36553731f11983e19e1813a1059ad0732c5162c01b3220c927d31/reverse_geocoder-1.5.1.tar.gz (2.2MB)\n",
            "\u001b[K     |████████████████████████████████| 2.3MB 2.8MB/s \n",
            "\u001b[?25hRequirement already satisfied: numpy>=1.11.0 in /usr/local/lib/python3.6/dist-packages (from reverse_geocoder) (1.18.5)\n",
            "Requirement already satisfied: scipy>=0.17.1 in /usr/local/lib/python3.6/dist-packages (from reverse_geocoder) (1.4.1)\n",
            "Building wheels for collected packages: reverse-geocoder\n",
            "  Building wheel for reverse-geocoder (setup.py) ... \u001b[?25l\u001b[?25hdone\n",
            "  Created wheel for reverse-geocoder: filename=reverse_geocoder-1.5.1-cp36-none-any.whl size=2268090 sha256=a4b859846165b5746939641737507c942bf8eea3f2bebca95c0588a6604501dd\n",
            "  Stored in directory: /root/.cache/pip/wheels/47/05/50/b1350ff094ef91e082665b4a2f9ca551f8acea4aa55d796b26\n",
            "Successfully built reverse-geocoder\n",
            "Installing collected packages: reverse-geocoder\n",
            "Successfully installed reverse-geocoder-1.5.1\n"
          ],
          "name": "stdout"
        }
      ]
    },
    {
      "cell_type": "code",
      "metadata": {
        "id": "fXSu7n3-2vVX",
        "outputId": "b5f77b6f-e787-43ca-aa67-beeb4ccbe328",
        "colab": {
          "base_uri": "https://localhost:8080/"
        }
      },
      "source": [
        "import reverse_geocoder as rg\n",
        "\n",
        "coordinates = (40.916299, -73.126859)\n",
        "\n",
        "results = rg.search(coordinates) # default mode = 2\n",
        "\n",
        "print(results) "
      ],
      "execution_count": null,
      "outputs": [
        {
          "output_type": "stream",
          "text": [
            "[OrderedDict([('lat', '40.92565'), ('lon', '-73.14094'), ('name', 'Stony Brook'), ('admin1', 'New York'), ('admin2', 'Suffolk County'), ('cc', 'US')])]\n"
          ],
          "name": "stdout"
        }
      ]
    }
  ]
}