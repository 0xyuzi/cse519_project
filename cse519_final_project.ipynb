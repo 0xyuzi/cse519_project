{
 "cells": [
  {
   "cell_type": "code",
   "execution_count": 205,
   "metadata": {
    "colab": {
     "base_uri": "https://localhost:8080/"
    },
    "id": "pb4aTaCXppua",
    "outputId": "f9de302a-e74d-474c-c080-ab374d13d147"
   },
   "outputs": [
    {
     "name": "stdout",
     "output_type": "stream",
     "text": [
      "[Errno 2] No such file or directory: './dataset/data'\n",
      "/home/jupyter/cse519_project/dataset/data\n"
     ]
    }
   ],
   "source": [
    "cd \"./dataset/data\""
   ]
  },
  {
   "cell_type": "code",
   "execution_count": 206,
   "metadata": {},
   "outputs": [
    {
     "name": "stdout",
     "output_type": "stream",
     "text": [
      "Requirement already satisfied: reverse_geocoder in /opt/conda/lib/python3.7/site-packages (1.5.1)\n",
      "Requirement already satisfied: pytz in /opt/conda/lib/python3.7/site-packages (2020.1)\n",
      "Requirement already satisfied: timezonefinder in /home/jupyter/.local/lib/python3.7/site-packages (4.5.0)\n",
      "Requirement already satisfied: scipy>=0.17.1 in /opt/conda/lib/python3.7/site-packages (from reverse_geocoder) (1.5.2)\n",
      "Requirement already satisfied: numpy>=1.11.0 in /opt/conda/lib/python3.7/site-packages (from reverse_geocoder) (1.18.5)\n",
      "Note: you may need to restart the kernel to use updated packages.\n"
     ]
    }
   ],
   "source": [
    "pip install reverse_geocoder pytz timezonefinder --user"
   ]
  },
  {
   "cell_type": "markdown",
   "metadata": {},
   "source": [
    "import os\n",
    "for root, dirs, files in os.walk('.'):\n",
    "    print(root, dirs, files)"
   ]
  },
  {
   "cell_type": "code",
   "execution_count": 207,
   "metadata": {
    "id": "OoUh62bbRiTi"
   },
   "outputs": [],
   "source": [
    "import os\n",
    "\n",
    "files_list = []\n",
    "\n",
    "for root, dirs, files in os.walk(\".\"):\n",
    "    for file in files:\n",
    "        if file.endswith(\".json\"):\n",
    "             files_list.append(str(os.path.join(root, file)))"
   ]
  },
  {
   "cell_type": "code",
   "execution_count": 208,
   "metadata": {
    "id": "FjOhvj0xhGEz"
   },
   "outputs": [],
   "source": [
    "import json\n",
    "import pandas as pd\n",
    "\n",
    "geos = pd.DataFrame([])\n",
    "\n",
    "geo_cnt = 0\n",
    "place_cnt = 0\n",
    "user_loc_cnt = 0\n",
    "\n",
    "for file_name in files_list:\n",
    "    temp = pd.read_json(file_name, orient='records',convert_dates=False)\n",
    "    geos = pd.concat([geos,temp], ignore_index=True)"
   ]
  },
  {
   "cell_type": "code",
   "execution_count": 209,
   "metadata": {
    "id": "w3psfwhKeqH6"
   },
   "outputs": [],
   "source": [
    "def fill_coordinates(row):\n",
    "    try:\n",
    "        coordinates = row['place']['bounding_box']['coordinates']\n",
    "        return (coordinates[0][0][1], coordinates[0][0][0])\n",
    "    except:\n",
    "        return None\n",
    "\n",
    "geos['coordinate'] = geos.apply(fill_coordinates, axis = 1)"
   ]
  },
  {
   "cell_type": "code",
   "execution_count": 210,
   "metadata": {
    "id": "zZ9PoccrKu-n"
   },
   "outputs": [],
   "source": [
    "geos.dropna(inplace=True)\n",
    "geos.drop(columns=['place'], inplace=True)"
   ]
  },
  {
   "cell_type": "code",
   "execution_count": 211,
   "metadata": {
    "id": "6qsRXejSan5r"
   },
   "outputs": [],
   "source": [
    "coords = geos['coordinate'].tolist()\n",
    "coords = tuple(coords)\n",
    "\n",
    "import reverse_geocoder as rg\n",
    "results = rg.search(coords)\n",
    "\n",
    "country = []\n",
    "state = []\n",
    "\n",
    "for rec in results:\n",
    "    country.append(rec['cc'])\n",
    "    state.append(rec['admin1'])\n",
    "\n",
    "country = pd.Series(country)\n",
    "state = pd.Series(state)"
   ]
  },
  {
   "cell_type": "code",
   "execution_count": 212,
   "metadata": {
    "id": "KUiZARytbVbp"
   },
   "outputs": [],
   "source": [
    "geos['country'] = country\n",
    "geos['state'] = state\n",
    "geos.dropna(inplace=True)"
   ]
  },
  {
   "cell_type": "code",
   "execution_count": 213,
   "metadata": {
    "colab": {
     "base_uri": "https://localhost:8080/"
    },
    "id": "jWSULPjSbq5F",
    "outputId": "a5294db9-c060-4b7b-af5b-2b5dbddfa20e"
   },
   "outputs": [
    {
     "data": {
      "text/html": [
       "<div>\n",
       "<style scoped>\n",
       "    .dataframe tbody tr th:only-of-type {\n",
       "        vertical-align: middle;\n",
       "    }\n",
       "\n",
       "    .dataframe tbody tr th {\n",
       "        vertical-align: top;\n",
       "    }\n",
       "\n",
       "    .dataframe thead th {\n",
       "        text-align: right;\n",
       "    }\n",
       "</style>\n",
       "<table border=\"1\" class=\"dataframe\">\n",
       "  <thead>\n",
       "    <tr style=\"text-align: right;\">\n",
       "      <th></th>\n",
       "      <th>user_id</th>\n",
       "      <th>timestamp_ms</th>\n",
       "      <th>coordinate</th>\n",
       "      <th>country</th>\n",
       "      <th>state</th>\n",
       "      <th>time_in_second</th>\n",
       "      <th>month</th>\n",
       "      <th>weekday</th>\n",
       "      <th>day_in_month</th>\n",
       "    </tr>\n",
       "  </thead>\n",
       "  <tbody>\n",
       "    <tr>\n",
       "      <th>0</th>\n",
       "      <td>736831058906349568</td>\n",
       "      <td>1586527800666</td>\n",
       "      <td>(25.209613, 49.416654)</td>\n",
       "      <td>SA</td>\n",
       "      <td>Eastern Province</td>\n",
       "      <td>61800</td>\n",
       "      <td>4</td>\n",
       "      <td>4</td>\n",
       "      <td>10</td>\n",
       "    </tr>\n",
       "    <tr>\n",
       "      <th>1</th>\n",
       "      <td>871377789764685824</td>\n",
       "      <td>1586527801661</td>\n",
       "      <td>(-20.399866, -40.606199)</td>\n",
       "      <td>BR</td>\n",
       "      <td>Espirito Santo</td>\n",
       "      <td>40201</td>\n",
       "      <td>4</td>\n",
       "      <td>4</td>\n",
       "      <td>10</td>\n",
       "    </tr>\n",
       "    <tr>\n",
       "      <th>2</th>\n",
       "      <td>838134445068668930</td>\n",
       "      <td>1586527802666</td>\n",
       "      <td>(-23.08302, -43.795449)</td>\n",
       "      <td>BR</td>\n",
       "      <td>Rio de Janeiro</td>\n",
       "      <td>40202</td>\n",
       "      <td>4</td>\n",
       "      <td>4</td>\n",
       "      <td>10</td>\n",
       "    </tr>\n",
       "    <tr>\n",
       "      <th>3</th>\n",
       "      <td>140442459</td>\n",
       "      <td>1586527802658</td>\n",
       "      <td>(18.845343, 72.74484)</td>\n",
       "      <td>IN</td>\n",
       "      <td>Maharashtra</td>\n",
       "      <td>70802</td>\n",
       "      <td>4</td>\n",
       "      <td>4</td>\n",
       "      <td>10</td>\n",
       "    </tr>\n",
       "    <tr>\n",
       "      <th>4</th>\n",
       "      <td>306124870</td>\n",
       "      <td>1586527806666</td>\n",
       "      <td>(55.894729, -3.328512)</td>\n",
       "      <td>GB</td>\n",
       "      <td>Scotland</td>\n",
       "      <td>54606</td>\n",
       "      <td>4</td>\n",
       "      <td>4</td>\n",
       "      <td>10</td>\n",
       "    </tr>\n",
       "    <tr>\n",
       "      <th>...</th>\n",
       "      <td>...</td>\n",
       "      <td>...</td>\n",
       "      <td>...</td>\n",
       "      <td>...</td>\n",
       "      <td>...</td>\n",
       "      <td>...</td>\n",
       "      <td>...</td>\n",
       "      <td>...</td>\n",
       "      <td>...</td>\n",
       "    </tr>\n",
       "    <tr>\n",
       "      <th>1363360</th>\n",
       "      <td>3404591973</td>\n",
       "      <td>1585723400660</td>\n",
       "      <td>(28.250764, -81.47749)</td>\n",
       "      <td>JP</td>\n",
       "      <td>Fukuoka</td>\n",
       "      <td>9800</td>\n",
       "      <td>4</td>\n",
       "      <td>2</td>\n",
       "      <td>1</td>\n",
       "    </tr>\n",
       "    <tr>\n",
       "      <th>1363361</th>\n",
       "      <td>148940626</td>\n",
       "      <td>1585723401663</td>\n",
       "      <td>(19.357102, -99.191996)</td>\n",
       "      <td>BR</td>\n",
       "      <td>Rio Grande do Sul</td>\n",
       "      <td>2601</td>\n",
       "      <td>4</td>\n",
       "      <td>2</td>\n",
       "      <td>1</td>\n",
       "    </tr>\n",
       "    <tr>\n",
       "      <th>1363362</th>\n",
       "      <td>2304015812</td>\n",
       "      <td>1585723405663</td>\n",
       "      <td>(-22.814792, -43.410273)</td>\n",
       "      <td>ZA</td>\n",
       "      <td>Western Cape</td>\n",
       "      <td>13405</td>\n",
       "      <td>4</td>\n",
       "      <td>2</td>\n",
       "      <td>1</td>\n",
       "    </tr>\n",
       "    <tr>\n",
       "      <th>1363363</th>\n",
       "      <td>302237789</td>\n",
       "      <td>1585723414664</td>\n",
       "      <td>(23.532013, 115.834717)</td>\n",
       "      <td>PH</td>\n",
       "      <td></td>\n",
       "      <td>53014</td>\n",
       "      <td>4</td>\n",
       "      <td>2</td>\n",
       "      <td>1</td>\n",
       "    </tr>\n",
       "    <tr>\n",
       "      <th>1363364</th>\n",
       "      <td>1652863424</td>\n",
       "      <td>1585723415659</td>\n",
       "      <td>(-21.401747, -42.196098)</td>\n",
       "      <td>BR</td>\n",
       "      <td>Parana</td>\n",
       "      <td>13415</td>\n",
       "      <td>4</td>\n",
       "      <td>2</td>\n",
       "      <td>1</td>\n",
       "    </tr>\n",
       "  </tbody>\n",
       "</table>\n",
       "<p>1363357 rows × 9 columns</p>\n",
       "</div>"
      ],
      "text/plain": [
       "                    user_id   timestamp_ms                coordinate country  \\\n",
       "0        736831058906349568  1586527800666    (25.209613, 49.416654)      SA   \n",
       "1        871377789764685824  1586527801661  (-20.399866, -40.606199)      BR   \n",
       "2        838134445068668930  1586527802666   (-23.08302, -43.795449)      BR   \n",
       "3                 140442459  1586527802658     (18.845343, 72.74484)      IN   \n",
       "4                 306124870  1586527806666    (55.894729, -3.328512)      GB   \n",
       "...                     ...            ...                       ...     ...   \n",
       "1363360          3404591973  1585723400660    (28.250764, -81.47749)      JP   \n",
       "1363361           148940626  1585723401663   (19.357102, -99.191996)      BR   \n",
       "1363362          2304015812  1585723405663  (-22.814792, -43.410273)      ZA   \n",
       "1363363           302237789  1585723414664   (23.532013, 115.834717)      PH   \n",
       "1363364          1652863424  1585723415659  (-21.401747, -42.196098)      BR   \n",
       "\n",
       "                     state time_in_second month weekday day_in_month  \n",
       "0         Eastern Province          61800     4       4           10  \n",
       "1           Espirito Santo          40201     4       4           10  \n",
       "2           Rio de Janeiro          40202     4       4           10  \n",
       "3              Maharashtra          70802     4       4           10  \n",
       "4                 Scotland          54606     4       4           10  \n",
       "...                    ...            ...   ...     ...          ...  \n",
       "1363360            Fukuoka           9800     4       2            1  \n",
       "1363361  Rio Grande do Sul           2601     4       2            1  \n",
       "1363362       Western Cape          13405     4       2            1  \n",
       "1363363                             53014     4       2            1  \n",
       "1363364             Parana          13415     4       2            1  \n",
       "\n",
       "[1363357 rows x 9 columns]"
      ]
     },
     "execution_count": 213,
     "metadata": {},
     "output_type": "execute_result"
    }
   ],
   "source": [
    "from timezonefinder import TimezoneFinder\n",
    "import datetime\n",
    "import pytz\n",
    "\n",
    "tf = TimezoneFinder()\n",
    "\n",
    "def get_localtime_in_seconds(rows):\n",
    "    coor = rows['coordinate']\n",
    "    lati = coor[0]\n",
    "    logi = coor[1]\n",
    "    zone_str = tf.timezone_at(lng = logi, lat = lati)\n",
    "    if zone_str == None:\n",
    "        return None, None, None, None\n",
    "    d = datetime.datetime.fromtimestamp(rows['timestamp_ms']/1000, tz=pytz.timezone(zone_str))\n",
    "    h, m, s = d.hour, d.minute, d.second\n",
    "    month, weekday, day_in_month = d.month, d.weekday(), d.day\n",
    "    return h*3600+m*60+s, month, weekday, day_in_month\n",
    "\n",
    "geos['time_in_second'], geos['month'], geos['weekday'], geos['day_in_month'] = zip(*geos.apply(get_localtime_in_seconds, axis=1))\n",
    "geos"
   ]
  },
  {
   "cell_type": "code",
   "execution_count": 214,
   "metadata": {},
   "outputs": [],
   "source": [
    "geos.dropna(inplace=True)"
   ]
  },
  {
   "cell_type": "code",
   "execution_count": 215,
   "metadata": {},
   "outputs": [
    {
     "data": {
      "text/html": [
       "<div>\n",
       "<style scoped>\n",
       "    .dataframe tbody tr th:only-of-type {\n",
       "        vertical-align: middle;\n",
       "    }\n",
       "\n",
       "    .dataframe tbody tr th {\n",
       "        vertical-align: top;\n",
       "    }\n",
       "\n",
       "    .dataframe thead th {\n",
       "        text-align: right;\n",
       "    }\n",
       "</style>\n",
       "<table border=\"1\" class=\"dataframe\">\n",
       "  <thead>\n",
       "    <tr style=\"text-align: right;\">\n",
       "      <th></th>\n",
       "      <th>user_id</th>\n",
       "      <th>timestamp_ms</th>\n",
       "      <th>coordinate</th>\n",
       "      <th>country</th>\n",
       "      <th>state</th>\n",
       "      <th>time_in_second</th>\n",
       "      <th>month</th>\n",
       "      <th>weekday</th>\n",
       "      <th>day_in_month</th>\n",
       "      <th>label</th>\n",
       "    </tr>\n",
       "  </thead>\n",
       "  <tbody>\n",
       "    <tr>\n",
       "      <th>0</th>\n",
       "      <td>736831058906349568</td>\n",
       "      <td>1586527800666</td>\n",
       "      <td>(25.209613, 49.416654)</td>\n",
       "      <td>SA</td>\n",
       "      <td>Eastern Province</td>\n",
       "      <td>61800</td>\n",
       "      <td>4</td>\n",
       "      <td>4</td>\n",
       "      <td>10</td>\n",
       "      <td>68</td>\n",
       "    </tr>\n",
       "    <tr>\n",
       "      <th>1</th>\n",
       "      <td>871377789764685824</td>\n",
       "      <td>1586527801661</td>\n",
       "      <td>(-20.399866, -40.606199)</td>\n",
       "      <td>BR</td>\n",
       "      <td>Espirito Santo</td>\n",
       "      <td>40201</td>\n",
       "      <td>4</td>\n",
       "      <td>4</td>\n",
       "      <td>10</td>\n",
       "      <td>44</td>\n",
       "    </tr>\n",
       "    <tr>\n",
       "      <th>2</th>\n",
       "      <td>838134445068668930</td>\n",
       "      <td>1586527802666</td>\n",
       "      <td>(-23.08302, -43.795449)</td>\n",
       "      <td>BR</td>\n",
       "      <td>Rio de Janeiro</td>\n",
       "      <td>40202</td>\n",
       "      <td>4</td>\n",
       "      <td>4</td>\n",
       "      <td>10</td>\n",
       "      <td>44</td>\n",
       "    </tr>\n",
       "    <tr>\n",
       "      <th>3</th>\n",
       "      <td>140442459</td>\n",
       "      <td>1586527802658</td>\n",
       "      <td>(18.845343, 72.74484)</td>\n",
       "      <td>IN</td>\n",
       "      <td>Maharashtra</td>\n",
       "      <td>70802</td>\n",
       "      <td>4</td>\n",
       "      <td>4</td>\n",
       "      <td>10</td>\n",
       "      <td>78</td>\n",
       "    </tr>\n",
       "    <tr>\n",
       "      <th>4</th>\n",
       "      <td>306124870</td>\n",
       "      <td>1586527806666</td>\n",
       "      <td>(55.894729, -3.328512)</td>\n",
       "      <td>GB</td>\n",
       "      <td>Scotland</td>\n",
       "      <td>54606</td>\n",
       "      <td>4</td>\n",
       "      <td>4</td>\n",
       "      <td>10</td>\n",
       "      <td>60</td>\n",
       "    </tr>\n",
       "    <tr>\n",
       "      <th>...</th>\n",
       "      <td>...</td>\n",
       "      <td>...</td>\n",
       "      <td>...</td>\n",
       "      <td>...</td>\n",
       "      <td>...</td>\n",
       "      <td>...</td>\n",
       "      <td>...</td>\n",
       "      <td>...</td>\n",
       "      <td>...</td>\n",
       "      <td>...</td>\n",
       "    </tr>\n",
       "    <tr>\n",
       "      <th>1363360</th>\n",
       "      <td>3404591973</td>\n",
       "      <td>1585723400660</td>\n",
       "      <td>(28.250764, -81.47749)</td>\n",
       "      <td>JP</td>\n",
       "      <td>Fukuoka</td>\n",
       "      <td>9800</td>\n",
       "      <td>4</td>\n",
       "      <td>2</td>\n",
       "      <td>1</td>\n",
       "      <td>10</td>\n",
       "    </tr>\n",
       "    <tr>\n",
       "      <th>1363361</th>\n",
       "      <td>148940626</td>\n",
       "      <td>1585723401663</td>\n",
       "      <td>(19.357102, -99.191996)</td>\n",
       "      <td>BR</td>\n",
       "      <td>Rio Grande do Sul</td>\n",
       "      <td>2601</td>\n",
       "      <td>4</td>\n",
       "      <td>2</td>\n",
       "      <td>1</td>\n",
       "      <td>2</td>\n",
       "    </tr>\n",
       "    <tr>\n",
       "      <th>1363362</th>\n",
       "      <td>2304015812</td>\n",
       "      <td>1585723405663</td>\n",
       "      <td>(-22.814792, -43.410273)</td>\n",
       "      <td>ZA</td>\n",
       "      <td>Western Cape</td>\n",
       "      <td>13405</td>\n",
       "      <td>4</td>\n",
       "      <td>2</td>\n",
       "      <td>1</td>\n",
       "      <td>14</td>\n",
       "    </tr>\n",
       "    <tr>\n",
       "      <th>1363363</th>\n",
       "      <td>302237789</td>\n",
       "      <td>1585723414664</td>\n",
       "      <td>(23.532013, 115.834717)</td>\n",
       "      <td>PH</td>\n",
       "      <td></td>\n",
       "      <td>53014</td>\n",
       "      <td>4</td>\n",
       "      <td>2</td>\n",
       "      <td>1</td>\n",
       "      <td>58</td>\n",
       "    </tr>\n",
       "    <tr>\n",
       "      <th>1363364</th>\n",
       "      <td>1652863424</td>\n",
       "      <td>1585723415659</td>\n",
       "      <td>(-21.401747, -42.196098)</td>\n",
       "      <td>BR</td>\n",
       "      <td>Parana</td>\n",
       "      <td>13415</td>\n",
       "      <td>4</td>\n",
       "      <td>2</td>\n",
       "      <td>1</td>\n",
       "      <td>14</td>\n",
       "    </tr>\n",
       "  </tbody>\n",
       "</table>\n",
       "<p>1334640 rows × 10 columns</p>\n",
       "</div>"
      ],
      "text/plain": [
       "                    user_id   timestamp_ms                coordinate country  \\\n",
       "0        736831058906349568  1586527800666    (25.209613, 49.416654)      SA   \n",
       "1        871377789764685824  1586527801661  (-20.399866, -40.606199)      BR   \n",
       "2        838134445068668930  1586527802666   (-23.08302, -43.795449)      BR   \n",
       "3                 140442459  1586527802658     (18.845343, 72.74484)      IN   \n",
       "4                 306124870  1586527806666    (55.894729, -3.328512)      GB   \n",
       "...                     ...            ...                       ...     ...   \n",
       "1363360          3404591973  1585723400660    (28.250764, -81.47749)      JP   \n",
       "1363361           148940626  1585723401663   (19.357102, -99.191996)      BR   \n",
       "1363362          2304015812  1585723405663  (-22.814792, -43.410273)      ZA   \n",
       "1363363           302237789  1585723414664   (23.532013, 115.834717)      PH   \n",
       "1363364          1652863424  1585723415659  (-21.401747, -42.196098)      BR   \n",
       "\n",
       "                     state time_in_second month weekday day_in_month  label  \n",
       "0         Eastern Province          61800     4       4           10     68  \n",
       "1           Espirito Santo          40201     4       4           10     44  \n",
       "2           Rio de Janeiro          40202     4       4           10     44  \n",
       "3              Maharashtra          70802     4       4           10     78  \n",
       "4                 Scotland          54606     4       4           10     60  \n",
       "...                    ...            ...   ...     ...          ...    ...  \n",
       "1363360            Fukuoka           9800     4       2            1     10  \n",
       "1363361  Rio Grande do Sul           2601     4       2            1      2  \n",
       "1363362       Western Cape          13405     4       2            1     14  \n",
       "1363363                             53014     4       2            1     58  \n",
       "1363364             Parana          13415     4       2            1     14  \n",
       "\n",
       "[1334640 rows x 10 columns]"
      ]
     },
     "execution_count": 215,
     "metadata": {},
     "output_type": "execute_result"
    }
   ],
   "source": [
    "def get_label(row):\n",
    "    t = row['time_in_second']\n",
    "    # every 15 minute\n",
    "    return t//(15*60)\n",
    "\n",
    "geos['label'] = geos.apply(get_label, axis=1)\n",
    "geos"
   ]
  },
  {
   "cell_type": "code",
   "execution_count": 216,
   "metadata": {
    "colab": {
     "base_uri": "https://localhost:8080/"
    },
    "id": "fXSu7n3-2vVX",
    "outputId": "b5f77b6f-e787-43ca-aa67-beeb4ccbe328"
   },
   "outputs": [
    {
     "data": {
      "text/html": [
       "<div>\n",
       "<style scoped>\n",
       "    .dataframe tbody tr th:only-of-type {\n",
       "        vertical-align: middle;\n",
       "    }\n",
       "\n",
       "    .dataframe tbody tr th {\n",
       "        vertical-align: top;\n",
       "    }\n",
       "\n",
       "    .dataframe thead th {\n",
       "        text-align: right;\n",
       "    }\n",
       "</style>\n",
       "<table border=\"1\" class=\"dataframe\">\n",
       "  <thead>\n",
       "    <tr style=\"text-align: right;\">\n",
       "      <th></th>\n",
       "      <th>index</th>\n",
       "      <th>user_id</th>\n",
       "      <th>timestamp_ms</th>\n",
       "      <th>coordinate</th>\n",
       "      <th>country</th>\n",
       "      <th>state</th>\n",
       "      <th>time_in_second</th>\n",
       "      <th>month</th>\n",
       "      <th>weekday</th>\n",
       "      <th>day_in_month</th>\n",
       "      <th>label</th>\n",
       "    </tr>\n",
       "  </thead>\n",
       "  <tbody>\n",
       "    <tr>\n",
       "      <th>0</th>\n",
       "      <td>5</td>\n",
       "      <td>1139323604330569729</td>\n",
       "      <td>1586527809663</td>\n",
       "      <td>(41.481426, -87.674421)</td>\n",
       "      <td>US</td>\n",
       "      <td>Illinois</td>\n",
       "      <td>33009</td>\n",
       "      <td>4</td>\n",
       "      <td>4</td>\n",
       "      <td>10</td>\n",
       "      <td>36</td>\n",
       "    </tr>\n",
       "    <tr>\n",
       "      <th>1</th>\n",
       "      <td>10</td>\n",
       "      <td>27377135</td>\n",
       "      <td>1586527816658</td>\n",
       "      <td>(33.606077, -117.86894)</td>\n",
       "      <td>US</td>\n",
       "      <td>California</td>\n",
       "      <td>25816</td>\n",
       "      <td>4</td>\n",
       "      <td>4</td>\n",
       "      <td>10</td>\n",
       "      <td>28</td>\n",
       "    </tr>\n",
       "    <tr>\n",
       "      <th>2</th>\n",
       "      <td>11</td>\n",
       "      <td>515108272</td>\n",
       "      <td>1586527817665</td>\n",
       "      <td>(30.355644, -85.605166)</td>\n",
       "      <td>US</td>\n",
       "      <td>Florida</td>\n",
       "      <td>33017</td>\n",
       "      <td>4</td>\n",
       "      <td>4</td>\n",
       "      <td>10</td>\n",
       "      <td>36</td>\n",
       "    </tr>\n",
       "    <tr>\n",
       "      <th>3</th>\n",
       "      <td>15</td>\n",
       "      <td>118811691</td>\n",
       "      <td>1586527831663</td>\n",
       "      <td>(40.361580000000004, -80.095586)</td>\n",
       "      <td>US</td>\n",
       "      <td>Pennsylvania</td>\n",
       "      <td>36631</td>\n",
       "      <td>4</td>\n",
       "      <td>4</td>\n",
       "      <td>10</td>\n",
       "      <td>40</td>\n",
       "    </tr>\n",
       "    <tr>\n",
       "      <th>4</th>\n",
       "      <td>24</td>\n",
       "      <td>1185068084010180608</td>\n",
       "      <td>1586527838658</td>\n",
       "      <td>(36.992427, -109.060257)</td>\n",
       "      <td>US</td>\n",
       "      <td>Colorado</td>\n",
       "      <td>29438</td>\n",
       "      <td>4</td>\n",
       "      <td>4</td>\n",
       "      <td>10</td>\n",
       "      <td>32</td>\n",
       "    </tr>\n",
       "    <tr>\n",
       "      <th>...</th>\n",
       "      <td>...</td>\n",
       "      <td>...</td>\n",
       "      <td>...</td>\n",
       "      <td>...</td>\n",
       "      <td>...</td>\n",
       "      <td>...</td>\n",
       "      <td>...</td>\n",
       "      <td>...</td>\n",
       "      <td>...</td>\n",
       "      <td>...</td>\n",
       "      <td>...</td>\n",
       "    </tr>\n",
       "    <tr>\n",
       "      <th>302899</th>\n",
       "      <td>1363329</td>\n",
       "      <td>499725537</td>\n",
       "      <td>1585723214662</td>\n",
       "      <td>(7.299143, 3.777011)</td>\n",
       "      <td>US</td>\n",
       "      <td>California</td>\n",
       "      <td>27614</td>\n",
       "      <td>4</td>\n",
       "      <td>2</td>\n",
       "      <td>1</td>\n",
       "      <td>30</td>\n",
       "    </tr>\n",
       "    <tr>\n",
       "      <th>302900</th>\n",
       "      <td>1363333</td>\n",
       "      <td>437390598</td>\n",
       "      <td>1585723219661</td>\n",
       "      <td>(6.482676, 3.198942)</td>\n",
       "      <td>US</td>\n",
       "      <td>California</td>\n",
       "      <td>27619</td>\n",
       "      <td>4</td>\n",
       "      <td>2</td>\n",
       "      <td>1</td>\n",
       "      <td>30</td>\n",
       "    </tr>\n",
       "    <tr>\n",
       "      <th>302901</th>\n",
       "      <td>1363334</td>\n",
       "      <td>60419030</td>\n",
       "      <td>1585723220662</td>\n",
       "      <td>(-24.008814, -46.826039)</td>\n",
       "      <td>US</td>\n",
       "      <td>Oklahoma</td>\n",
       "      <td>13220</td>\n",
       "      <td>4</td>\n",
       "      <td>2</td>\n",
       "      <td>1</td>\n",
       "      <td>14</td>\n",
       "    </tr>\n",
       "    <tr>\n",
       "      <th>302902</th>\n",
       "      <td>1363344</td>\n",
       "      <td>742373012226244608</td>\n",
       "      <td>1585723244666</td>\n",
       "      <td>(13.586457, 100.472022)</td>\n",
       "      <td>US</td>\n",
       "      <td>Illinois</td>\n",
       "      <td>49244</td>\n",
       "      <td>4</td>\n",
       "      <td>2</td>\n",
       "      <td>1</td>\n",
       "      <td>54</td>\n",
       "    </tr>\n",
       "    <tr>\n",
       "      <th>302903</th>\n",
       "      <td>1363352</td>\n",
       "      <td>131433207</td>\n",
       "      <td>1585723388658</td>\n",
       "      <td>(42.028374, -88.026334)</td>\n",
       "      <td>US</td>\n",
       "      <td>Florida</td>\n",
       "      <td>6188</td>\n",
       "      <td>4</td>\n",
       "      <td>2</td>\n",
       "      <td>1</td>\n",
       "      <td>6</td>\n",
       "    </tr>\n",
       "  </tbody>\n",
       "</table>\n",
       "<p>302904 rows × 11 columns</p>\n",
       "</div>"
      ],
      "text/plain": [
       "          index              user_id   timestamp_ms  \\\n",
       "0             5  1139323604330569729  1586527809663   \n",
       "1            10             27377135  1586527816658   \n",
       "2            11            515108272  1586527817665   \n",
       "3            15            118811691  1586527831663   \n",
       "4            24  1185068084010180608  1586527838658   \n",
       "...         ...                  ...            ...   \n",
       "302899  1363329            499725537  1585723214662   \n",
       "302900  1363333            437390598  1585723219661   \n",
       "302901  1363334             60419030  1585723220662   \n",
       "302902  1363344   742373012226244608  1585723244666   \n",
       "302903  1363352            131433207  1585723388658   \n",
       "\n",
       "                              coordinate country         state time_in_second  \\\n",
       "0                (41.481426, -87.674421)      US      Illinois          33009   \n",
       "1                (33.606077, -117.86894)      US    California          25816   \n",
       "2                (30.355644, -85.605166)      US       Florida          33017   \n",
       "3       (40.361580000000004, -80.095586)      US  Pennsylvania          36631   \n",
       "4               (36.992427, -109.060257)      US      Colorado          29438   \n",
       "...                                  ...     ...           ...            ...   \n",
       "302899              (7.299143, 3.777011)      US    California          27614   \n",
       "302900              (6.482676, 3.198942)      US    California          27619   \n",
       "302901          (-24.008814, -46.826039)      US      Oklahoma          13220   \n",
       "302902           (13.586457, 100.472022)      US      Illinois          49244   \n",
       "302903           (42.028374, -88.026334)      US       Florida           6188   \n",
       "\n",
       "       month weekday day_in_month  label  \n",
       "0          4       4           10     36  \n",
       "1          4       4           10     28  \n",
       "2          4       4           10     36  \n",
       "3          4       4           10     40  \n",
       "4          4       4           10     32  \n",
       "...      ...     ...          ...    ...  \n",
       "302899     4       2            1     30  \n",
       "302900     4       2            1     30  \n",
       "302901     4       2            1     14  \n",
       "302902     4       2            1     54  \n",
       "302903     4       2            1      6  \n",
       "\n",
       "[302904 rows x 11 columns]"
      ]
     },
     "execution_count": 216,
     "metadata": {},
     "output_type": "execute_result"
    }
   ],
   "source": [
    "# select US only data\n",
    "geos = geos.loc[geos.country=='US']\n",
    "geos.reset_index(inplace = True)\n",
    "geos"
   ]
  },
  {
   "cell_type": "markdown",
   "metadata": {},
   "source": [
    "__Compute the duration in state level__"
   ]
  },
  {
   "cell_type": "code",
   "execution_count": 217,
   "metadata": {},
   "outputs": [],
   "source": [
    "import numpy as np\n",
    "from sklearn.neighbors import KernelDensity\n",
    "\n",
    "def state_level_month_low_act_duration(state):\n",
    "    print(state)\n",
    "    # bin 24 hrs in 15 min interval\n",
    "    X = np.linspace(0,95,96)\n",
    "    state_lable = np.array(geos[geos['state']==state]['label'])\n",
    "    mirror_state_lable = state_lable*-1\n",
    "    new_state_lable = np.concatenate((mirror_state_lable,state_lable))\n",
    "    # optim_width calculation\n",
    "    optim_width = 1.06*new_state_lable.std()*np.power(len(new_state_lable),-0.2)\n",
    "    bw = optim_width\n",
    "    kde=KernelDensity(kernel='gaussian',bandwidth=bw).fit(new_state_lable.reshape(-1, 1))\n",
    "    log_pdf = kde.score_samples(X.reshape(-1,1))\n",
    "    pdf=np.exp(log_pdf)\n",
    "    \n",
    "    # trough_period in hour\n",
    "    trough_period = X[pdf <0.8*np.median(pdf)]/4\n",
    "    try:\n",
    "        low_activity_duration = trough_period.max() - trough_period.min()\n",
    "    except:\n",
    "        return 0\n",
    "    # return low activity duration, when it starts, when it ends\n",
    "    return low_activity_duration, trough_period.min(), trough_period.max()\n",
    "\n",
    "    "
   ]
  },
  {
   "cell_type": "code",
   "execution_count": 218,
   "metadata": {},
   "outputs": [],
   "source": [
    "state_list = list(geos.state.unique())"
   ]
  },
  {
   "cell_type": "code",
   "execution_count": 219,
   "metadata": {},
   "outputs": [
    {
     "name": "stdout",
     "output_type": "stream",
     "text": [
      "Illinois\n",
      "California\n",
      "Florida\n",
      "Pennsylvania\n",
      "Colorado\n",
      "Minnesota\n",
      "Kansas\n",
      "Wisconsin\n",
      "Washington\n",
      "Texas\n",
      "North Carolina\n",
      "Alaska\n",
      "Ohio\n",
      "Missouri\n",
      "New York\n",
      "Alabama\n",
      "Tennessee\n",
      "Oregon\n",
      "Virginia\n",
      "New Jersey\n",
      "Nebraska\n",
      "Michigan\n",
      "New Mexico\n",
      "Massachusetts\n",
      "Maryland\n",
      "South Carolina\n",
      "West Virginia\n",
      "Georgia\n",
      "Rhode Island\n",
      "Indiana\n",
      "Oklahoma\n",
      "Iowa\n",
      "Louisiana\n",
      "Arkansas\n",
      "Delaware\n",
      "Utah\n",
      "Maine\n",
      "Connecticut\n",
      "South Dakota\n",
      "Arizona\n",
      "Kentucky\n",
      "Mississippi\n",
      "Nevada\n",
      "New Hampshire\n",
      "Idaho\n",
      "Vermont\n",
      "Montana\n",
      "Hawaii\n",
      "North Dakota\n",
      "Wyoming\n",
      "Washington, D.C.\n"
     ]
    }
   ],
   "source": [
    "low_act_duration_state_dict = {}\n",
    "\n",
    "for state in state_list:\n",
    "    low_act_duration, start, end = state_level_month_low_act_duration(state)\n",
    "    low_act_duration_state_dict[state] = {'duration': low_act_duration, 'start': start, 'end': end}"
   ]
  },
  {
   "cell_type": "code",
   "execution_count": 220,
   "metadata": {},
   "outputs": [
    {
     "data": {
      "text/plain": [
       "{'Illinois': {'duration': 7.75, 'start': 1.5, 'end': 9.25},\n",
       " 'California': {'duration': 7.75, 'start': 2.25, 'end': 10.0},\n",
       " 'Florida': {'duration': 8.25, 'start': 1.25, 'end': 9.5},\n",
       " 'Pennsylvania': {'duration': 9.5, 'start': 0.0, 'end': 9.5},\n",
       " 'Colorado': {'duration': 8.25, 'start': 1.25, 'end': 9.5},\n",
       " 'Minnesota': {'duration': 9.25, 'start': 0.0, 'end': 9.25},\n",
       " 'Kansas': {'duration': 9.25, 'start': 0.0, 'end': 9.25},\n",
       " 'Wisconsin': {'duration': 9.5, 'start': 0.0, 'end': 9.5},\n",
       " 'Washington': {'duration': 7.5, 'start': 2.0, 'end': 9.5},\n",
       " 'Texas': {'duration': 7.75, 'start': 2.0, 'end': 9.75},\n",
       " 'North Carolina': {'duration': 9.5, 'start': 0.0, 'end': 9.5},\n",
       " 'Alaska': {'duration': 4.25, 'start': 2.75, 'end': 7.0},\n",
       " 'Ohio': {'duration': 9.5, 'start': 0.0, 'end': 9.5},\n",
       " 'Missouri': {'duration': 9.5, 'start': 0.0, 'end': 9.5},\n",
       " 'New York': {'duration': 8.5, 'start': 1.0, 'end': 9.5},\n",
       " 'Alabama': {'duration': 9.0, 'start': 0.0, 'end': 9.0},\n",
       " 'Tennessee': {'duration': 9.5, 'start': 0.0, 'end': 9.5},\n",
       " 'Oregon': {'duration': 7.0, 'start': 2.75, 'end': 9.75},\n",
       " 'Virginia': {'duration': 9.25, 'start': 0.0, 'end': 9.25},\n",
       " 'New Jersey': {'duration': 9.25, 'start': 0.0, 'end': 9.25},\n",
       " 'Nebraska': {'duration': 9.25, 'start': 0.0, 'end': 9.25},\n",
       " 'Michigan': {'duration': 9.25, 'start': 0.0, 'end': 9.25},\n",
       " 'New Mexico': {'duration': 6.75, 'start': 2.25, 'end': 9.0},\n",
       " 'Massachusetts': {'duration': 9.25, 'start': 0.0, 'end': 9.25},\n",
       " 'Maryland': {'duration': 8.25, 'start': 1.0, 'end': 9.25},\n",
       " 'South Carolina': {'duration': 9.0, 'start': 0.0, 'end': 9.0},\n",
       " 'West Virginia': {'duration': 9.25, 'start': 0.0, 'end': 9.25},\n",
       " 'Georgia': {'duration': 8.0, 'start': 1.5, 'end': 9.5},\n",
       " 'Rhode Island': {'duration': 9.25, 'start': 0.0, 'end': 9.25},\n",
       " 'Indiana': {'duration': 9.5, 'start': 0.0, 'end': 9.5},\n",
       " 'Oklahoma': {'duration': 9.0, 'start': 0.0, 'end': 9.0},\n",
       " 'Iowa': {'duration': 9.25, 'start': 0.0, 'end': 9.25},\n",
       " 'Louisiana': {'duration': 7.0, 'start': 2.25, 'end': 9.25},\n",
       " 'Arkansas': {'duration': 8.75, 'start': 0.0, 'end': 8.75},\n",
       " 'Delaware': {'duration': 9.25, 'start': 0.0, 'end': 9.25},\n",
       " 'Utah': {'duration': 7.25, 'start': 2.0, 'end': 9.25},\n",
       " 'Maine': {'duration': 8.5, 'start': 0.0, 'end': 8.5},\n",
       " 'Connecticut': {'duration': 9.25, 'start': 0.0, 'end': 9.25},\n",
       " 'South Dakota': {'duration': 6.0, 'start': 2.75, 'end': 8.75},\n",
       " 'Arizona': {'duration': 7.5, 'start': 2.0, 'end': 9.5},\n",
       " 'Kentucky': {'duration': 8.75, 'start': 0.75, 'end': 9.5},\n",
       " 'Mississippi': {'duration': 9.0, 'start': 0.5, 'end': 9.5},\n",
       " 'Nevada': {'duration': 7.0, 'start': 2.25, 'end': 9.25},\n",
       " 'New Hampshire': {'duration': 9.0, 'start': 0.0, 'end': 9.0},\n",
       " 'Idaho': {'duration': 7.0, 'start': 1.75, 'end': 8.75},\n",
       " 'Vermont': {'duration': 4.25, 'start': 0.0, 'end': 4.25},\n",
       " 'Montana': {'duration': 8.25, 'start': 0.0, 'end': 8.25},\n",
       " 'Hawaii': {'duration': 5.75, 'start': 2.75, 'end': 8.5},\n",
       " 'North Dakota': {'duration': 8.25, 'start': 0.0, 'end': 8.25},\n",
       " 'Wyoming': {'duration': 7.75, 'start': 0.0, 'end': 7.75},\n",
       " 'Washington, D.C.': {'duration': 6.25, 'start': 0.0, 'end': 6.25}}"
      ]
     },
     "execution_count": 220,
     "metadata": {},
     "output_type": "execute_result"
    }
   ],
   "source": [
    "low_act_duration_state_dict"
   ]
  },
  {
   "cell_type": "markdown",
   "metadata": {},
   "source": [
    "pip install plotly --user"
   ]
  },
  {
   "cell_type": "code",
   "execution_count": 221,
   "metadata": {},
   "outputs": [],
   "source": [
    "state_dict = {\n",
    "    'Illinois': 'IL',\n",
    "    'California': 'CA',\n",
    "    'Florida': 'FL',\n",
    "    'Pennsylvania': 'PA',\n",
    "    'Colorado': 'CO',\n",
    "    'Minnesota': 'MN',\n",
    "    'Kansas': 'KS',\n",
    "    'Wisconsin': 'WI',\n",
    "    'Washington': 'WA',\n",
    "    'Texas': 'TX',\n",
    "    'North Carolina': 'NC',\n",
    "    'Alaska': 'AK',\n",
    "    'Ohio': 'OH',\n",
    "    'Missouri': 'MO',\n",
    "    'New York': 'NY',\n",
    "    'Alabama': 'AL',\n",
    "    'Tennessee': 'TN',\n",
    "    'Oregon': 'OR',\n",
    "    'Virginia': 'VA',\n",
    "    'New Jersey': 'NJ',\n",
    "    'Nebraska': 'NE',\n",
    "    'Michigan': 'MI',\n",
    "    'New Mexico': 'NM',\n",
    "    'Massachusetts': 'MA',\n",
    "    'Maryland': 'MD',\n",
    "    'South Carolina': 'SC',\n",
    "    'West Virginia': 'WV',\n",
    "    'Georgia': 'GA',\n",
    "    'Rhode Island': 'RI',\n",
    "    'Indiana': 'IA',\n",
    "    'Oklahoma':'OK',\n",
    "    'Iowa': 'IA',\n",
    "    'Louisiana': 'LA',\n",
    "    'Arkansas': 'AR',\n",
    "    'Delaware': 'DE',\n",
    "    'Utah': 'UT',\n",
    "    'Maine': 'ME',\n",
    "    'Connecticut': 'CT',\n",
    "    'South Dakota': 'SD',\n",
    "    'Arizona': 'AZ',\n",
    "    'Kentucky':'KY',\n",
    "    'Mississippi': 'MS',\n",
    "    'Nevada': 'NV',\n",
    "    'New Hampshire': 'NH',\n",
    "    'Idaho': 'ID',\n",
    "    'Vermont': 'VT',\n",
    "    'Montana': 'MT',\n",
    "    'Hawaii':'HI',\n",
    "    'North Dakota':'ND',\n",
    "    'Wyoming': 'WY',\n",
    "    'Washington, D.C.':'DC'\n",
    "    \n",
    "}"
   ]
  },
  {
   "cell_type": "code",
   "execution_count": 222,
   "metadata": {},
   "outputs": [
    {
     "data": {
      "text/plain": [
       "51"
      ]
     },
     "execution_count": 222,
     "metadata": {},
     "output_type": "execute_result"
    }
   ],
   "source": [
    "len(state_dict)"
   ]
  },
  {
   "cell_type": "code",
   "execution_count": 223,
   "metadata": {},
   "outputs": [
    {
     "data": {
      "text/plain": [
       "'WY'"
      ]
     },
     "execution_count": 223,
     "metadata": {},
     "output_type": "execute_result"
    }
   ],
   "source": [
    "state_dict['Wyoming']"
   ]
  },
  {
   "cell_type": "code",
   "execution_count": 224,
   "metadata": {},
   "outputs": [
    {
     "data": {
      "text/html": [
       "<div>\n",
       "<style scoped>\n",
       "    .dataframe tbody tr th:only-of-type {\n",
       "        vertical-align: middle;\n",
       "    }\n",
       "\n",
       "    .dataframe tbody tr th {\n",
       "        vertical-align: top;\n",
       "    }\n",
       "\n",
       "    .dataframe thead th {\n",
       "        text-align: right;\n",
       "    }\n",
       "</style>\n",
       "<table border=\"1\" class=\"dataframe\">\n",
       "  <thead>\n",
       "    <tr style=\"text-align: right;\">\n",
       "      <th></th>\n",
       "      <th>index</th>\n",
       "      <th>user_id</th>\n",
       "      <th>timestamp_ms</th>\n",
       "      <th>coordinate</th>\n",
       "      <th>country</th>\n",
       "      <th>state</th>\n",
       "      <th>time_in_second</th>\n",
       "      <th>month</th>\n",
       "      <th>weekday</th>\n",
       "      <th>day_in_month</th>\n",
       "      <th>label</th>\n",
       "    </tr>\n",
       "  </thead>\n",
       "  <tbody>\n",
       "    <tr>\n",
       "      <th>0</th>\n",
       "      <td>5</td>\n",
       "      <td>1139323604330569729</td>\n",
       "      <td>1586527809663</td>\n",
       "      <td>(41.481426, -87.674421)</td>\n",
       "      <td>US</td>\n",
       "      <td>Illinois</td>\n",
       "      <td>33009</td>\n",
       "      <td>4</td>\n",
       "      <td>4</td>\n",
       "      <td>10</td>\n",
       "      <td>36</td>\n",
       "    </tr>\n",
       "    <tr>\n",
       "      <th>1</th>\n",
       "      <td>10</td>\n",
       "      <td>27377135</td>\n",
       "      <td>1586527816658</td>\n",
       "      <td>(33.606077, -117.86894)</td>\n",
       "      <td>US</td>\n",
       "      <td>California</td>\n",
       "      <td>25816</td>\n",
       "      <td>4</td>\n",
       "      <td>4</td>\n",
       "      <td>10</td>\n",
       "      <td>28</td>\n",
       "    </tr>\n",
       "    <tr>\n",
       "      <th>2</th>\n",
       "      <td>11</td>\n",
       "      <td>515108272</td>\n",
       "      <td>1586527817665</td>\n",
       "      <td>(30.355644, -85.605166)</td>\n",
       "      <td>US</td>\n",
       "      <td>Florida</td>\n",
       "      <td>33017</td>\n",
       "      <td>4</td>\n",
       "      <td>4</td>\n",
       "      <td>10</td>\n",
       "      <td>36</td>\n",
       "    </tr>\n",
       "    <tr>\n",
       "      <th>3</th>\n",
       "      <td>15</td>\n",
       "      <td>118811691</td>\n",
       "      <td>1586527831663</td>\n",
       "      <td>(40.361580000000004, -80.095586)</td>\n",
       "      <td>US</td>\n",
       "      <td>Pennsylvania</td>\n",
       "      <td>36631</td>\n",
       "      <td>4</td>\n",
       "      <td>4</td>\n",
       "      <td>10</td>\n",
       "      <td>40</td>\n",
       "    </tr>\n",
       "    <tr>\n",
       "      <th>4</th>\n",
       "      <td>24</td>\n",
       "      <td>1185068084010180608</td>\n",
       "      <td>1586527838658</td>\n",
       "      <td>(36.992427, -109.060257)</td>\n",
       "      <td>US</td>\n",
       "      <td>Colorado</td>\n",
       "      <td>29438</td>\n",
       "      <td>4</td>\n",
       "      <td>4</td>\n",
       "      <td>10</td>\n",
       "      <td>32</td>\n",
       "    </tr>\n",
       "  </tbody>\n",
       "</table>\n",
       "</div>"
      ],
      "text/plain": [
       "   index              user_id   timestamp_ms  \\\n",
       "0      5  1139323604330569729  1586527809663   \n",
       "1     10             27377135  1586527816658   \n",
       "2     11            515108272  1586527817665   \n",
       "3     15            118811691  1586527831663   \n",
       "4     24  1185068084010180608  1586527838658   \n",
       "\n",
       "                         coordinate country         state time_in_second  \\\n",
       "0           (41.481426, -87.674421)      US      Illinois          33009   \n",
       "1           (33.606077, -117.86894)      US    California          25816   \n",
       "2           (30.355644, -85.605166)      US       Florida          33017   \n",
       "3  (40.361580000000004, -80.095586)      US  Pennsylvania          36631   \n",
       "4          (36.992427, -109.060257)      US      Colorado          29438   \n",
       "\n",
       "  month weekday day_in_month  label  \n",
       "0     4       4           10     36  \n",
       "1     4       4           10     28  \n",
       "2     4       4           10     36  \n",
       "3     4       4           10     40  \n",
       "4     4       4           10     32  "
      ]
     },
     "execution_count": 224,
     "metadata": {},
     "output_type": "execute_result"
    }
   ],
   "source": [
    "geos.head()"
   ]
  },
  {
   "cell_type": "code",
   "execution_count": 225,
   "metadata": {},
   "outputs": [],
   "source": [
    "trough_state = pd.DataFrame(data=low_act_duration_state_dict)"
   ]
  },
  {
   "cell_type": "code",
   "execution_count": 226,
   "metadata": {},
   "outputs": [],
   "source": [
    "trough_state = trough_state.T.reset_index()"
   ]
  },
  {
   "cell_type": "code",
   "execution_count": 227,
   "metadata": {},
   "outputs": [],
   "source": [
    "trough_state = trough_state.rename(columns={'index':'state'})"
   ]
  },
  {
   "cell_type": "code",
   "execution_count": 228,
   "metadata": {},
   "outputs": [
    {
     "data": {
      "text/html": [
       "<div>\n",
       "<style scoped>\n",
       "    .dataframe tbody tr th:only-of-type {\n",
       "        vertical-align: middle;\n",
       "    }\n",
       "\n",
       "    .dataframe tbody tr th {\n",
       "        vertical-align: top;\n",
       "    }\n",
       "\n",
       "    .dataframe thead th {\n",
       "        text-align: right;\n",
       "    }\n",
       "</style>\n",
       "<table border=\"1\" class=\"dataframe\">\n",
       "  <thead>\n",
       "    <tr style=\"text-align: right;\">\n",
       "      <th></th>\n",
       "      <th>state</th>\n",
       "      <th>duration</th>\n",
       "      <th>start</th>\n",
       "      <th>end</th>\n",
       "    </tr>\n",
       "  </thead>\n",
       "  <tbody>\n",
       "    <tr>\n",
       "      <th>0</th>\n",
       "      <td>Illinois</td>\n",
       "      <td>7.75</td>\n",
       "      <td>1.50</td>\n",
       "      <td>9.25</td>\n",
       "    </tr>\n",
       "    <tr>\n",
       "      <th>1</th>\n",
       "      <td>California</td>\n",
       "      <td>7.75</td>\n",
       "      <td>2.25</td>\n",
       "      <td>10.00</td>\n",
       "    </tr>\n",
       "    <tr>\n",
       "      <th>2</th>\n",
       "      <td>Florida</td>\n",
       "      <td>8.25</td>\n",
       "      <td>1.25</td>\n",
       "      <td>9.50</td>\n",
       "    </tr>\n",
       "    <tr>\n",
       "      <th>3</th>\n",
       "      <td>Pennsylvania</td>\n",
       "      <td>9.50</td>\n",
       "      <td>0.00</td>\n",
       "      <td>9.50</td>\n",
       "    </tr>\n",
       "    <tr>\n",
       "      <th>4</th>\n",
       "      <td>Colorado</td>\n",
       "      <td>8.25</td>\n",
       "      <td>1.25</td>\n",
       "      <td>9.50</td>\n",
       "    </tr>\n",
       "  </tbody>\n",
       "</table>\n",
       "</div>"
      ],
      "text/plain": [
       "          state  duration  start    end\n",
       "0      Illinois      7.75   1.50   9.25\n",
       "1    California      7.75   2.25  10.00\n",
       "2       Florida      8.25   1.25   9.50\n",
       "3  Pennsylvania      9.50   0.00   9.50\n",
       "4      Colorado      8.25   1.25   9.50"
      ]
     },
     "execution_count": 228,
     "metadata": {},
     "output_type": "execute_result"
    }
   ],
   "source": [
    "trough_state.head()"
   ]
  },
  {
   "cell_type": "code",
   "execution_count": 229,
   "metadata": {},
   "outputs": [],
   "source": [
    "trough_state['state_short'] = trough_state['state'].apply(lambda x:state_dict[x])"
   ]
  },
  {
   "cell_type": "code",
   "execution_count": 230,
   "metadata": {},
   "outputs": [
    {
     "data": {
      "text/html": [
       "<div>\n",
       "<style scoped>\n",
       "    .dataframe tbody tr th:only-of-type {\n",
       "        vertical-align: middle;\n",
       "    }\n",
       "\n",
       "    .dataframe tbody tr th {\n",
       "        vertical-align: top;\n",
       "    }\n",
       "\n",
       "    .dataframe thead th {\n",
       "        text-align: right;\n",
       "    }\n",
       "</style>\n",
       "<table border=\"1\" class=\"dataframe\">\n",
       "  <thead>\n",
       "    <tr style=\"text-align: right;\">\n",
       "      <th></th>\n",
       "      <th>state</th>\n",
       "      <th>duration</th>\n",
       "      <th>start</th>\n",
       "      <th>end</th>\n",
       "      <th>state_short</th>\n",
       "    </tr>\n",
       "  </thead>\n",
       "  <tbody>\n",
       "    <tr>\n",
       "      <th>0</th>\n",
       "      <td>Illinois</td>\n",
       "      <td>7.75</td>\n",
       "      <td>1.50</td>\n",
       "      <td>9.25</td>\n",
       "      <td>IL</td>\n",
       "    </tr>\n",
       "    <tr>\n",
       "      <th>1</th>\n",
       "      <td>California</td>\n",
       "      <td>7.75</td>\n",
       "      <td>2.25</td>\n",
       "      <td>10.00</td>\n",
       "      <td>CA</td>\n",
       "    </tr>\n",
       "    <tr>\n",
       "      <th>2</th>\n",
       "      <td>Florida</td>\n",
       "      <td>8.25</td>\n",
       "      <td>1.25</td>\n",
       "      <td>9.50</td>\n",
       "      <td>FL</td>\n",
       "    </tr>\n",
       "    <tr>\n",
       "      <th>3</th>\n",
       "      <td>Pennsylvania</td>\n",
       "      <td>9.50</td>\n",
       "      <td>0.00</td>\n",
       "      <td>9.50</td>\n",
       "      <td>PA</td>\n",
       "    </tr>\n",
       "    <tr>\n",
       "      <th>4</th>\n",
       "      <td>Colorado</td>\n",
       "      <td>8.25</td>\n",
       "      <td>1.25</td>\n",
       "      <td>9.50</td>\n",
       "      <td>CO</td>\n",
       "    </tr>\n",
       "  </tbody>\n",
       "</table>\n",
       "</div>"
      ],
      "text/plain": [
       "          state  duration  start    end state_short\n",
       "0      Illinois      7.75   1.50   9.25          IL\n",
       "1    California      7.75   2.25  10.00          CA\n",
       "2       Florida      8.25   1.25   9.50          FL\n",
       "3  Pennsylvania      9.50   0.00   9.50          PA\n",
       "4      Colorado      8.25   1.25   9.50          CO"
      ]
     },
     "execution_count": 230,
     "metadata": {},
     "output_type": "execute_result"
    }
   ],
   "source": [
    "trough_state.head()"
   ]
  },
  {
   "cell_type": "code",
   "execution_count": 283,
   "metadata": {},
   "outputs": [
    {
     "data": {
      "text/plain": [
       "state    30\n",
       "start    30\n",
       "dtype: int64"
      ]
     },
     "execution_count": 283,
     "metadata": {},
     "output_type": "execute_result"
    }
   ],
   "source": [
    "trough_state[['state','start']].loc[trough_state['start']==0.0].count()"
   ]
  },
  {
   "cell_type": "code",
   "execution_count": 284,
   "metadata": {},
   "outputs": [
    {
     "data": {
      "text/html": [
       "<div>\n",
       "<style scoped>\n",
       "    .dataframe tbody tr th:only-of-type {\n",
       "        vertical-align: middle;\n",
       "    }\n",
       "\n",
       "    .dataframe tbody tr th {\n",
       "        vertical-align: top;\n",
       "    }\n",
       "\n",
       "    .dataframe thead th {\n",
       "        text-align: right;\n",
       "    }\n",
       "</style>\n",
       "<table border=\"1\" class=\"dataframe\">\n",
       "  <thead>\n",
       "    <tr style=\"text-align: right;\">\n",
       "      <th></th>\n",
       "      <th>state</th>\n",
       "      <th>end</th>\n",
       "    </tr>\n",
       "  </thead>\n",
       "  <tbody>\n",
       "    <tr>\n",
       "      <th>45</th>\n",
       "      <td>Vermont</td>\n",
       "      <td>4.25</td>\n",
       "    </tr>\n",
       "    <tr>\n",
       "      <th>50</th>\n",
       "      <td>Washington, D.C.</td>\n",
       "      <td>6.25</td>\n",
       "    </tr>\n",
       "    <tr>\n",
       "      <th>11</th>\n",
       "      <td>Alaska</td>\n",
       "      <td>7.00</td>\n",
       "    </tr>\n",
       "    <tr>\n",
       "      <th>49</th>\n",
       "      <td>Wyoming</td>\n",
       "      <td>7.75</td>\n",
       "    </tr>\n",
       "    <tr>\n",
       "      <th>48</th>\n",
       "      <td>North Dakota</td>\n",
       "      <td>8.25</td>\n",
       "    </tr>\n",
       "    <tr>\n",
       "      <th>46</th>\n",
       "      <td>Montana</td>\n",
       "      <td>8.25</td>\n",
       "    </tr>\n",
       "    <tr>\n",
       "      <th>47</th>\n",
       "      <td>Hawaii</td>\n",
       "      <td>8.50</td>\n",
       "    </tr>\n",
       "    <tr>\n",
       "      <th>36</th>\n",
       "      <td>Maine</td>\n",
       "      <td>8.50</td>\n",
       "    </tr>\n",
       "    <tr>\n",
       "      <th>44</th>\n",
       "      <td>Idaho</td>\n",
       "      <td>8.75</td>\n",
       "    </tr>\n",
       "    <tr>\n",
       "      <th>38</th>\n",
       "      <td>South Dakota</td>\n",
       "      <td>8.75</td>\n",
       "    </tr>\n",
       "    <tr>\n",
       "      <th>33</th>\n",
       "      <td>Arkansas</td>\n",
       "      <td>8.75</td>\n",
       "    </tr>\n",
       "    <tr>\n",
       "      <th>43</th>\n",
       "      <td>New Hampshire</td>\n",
       "      <td>9.00</td>\n",
       "    </tr>\n",
       "    <tr>\n",
       "      <th>30</th>\n",
       "      <td>Oklahoma</td>\n",
       "      <td>9.00</td>\n",
       "    </tr>\n",
       "    <tr>\n",
       "      <th>22</th>\n",
       "      <td>New Mexico</td>\n",
       "      <td>9.00</td>\n",
       "    </tr>\n",
       "    <tr>\n",
       "      <th>15</th>\n",
       "      <td>Alabama</td>\n",
       "      <td>9.00</td>\n",
       "    </tr>\n",
       "    <tr>\n",
       "      <th>25</th>\n",
       "      <td>South Carolina</td>\n",
       "      <td>9.00</td>\n",
       "    </tr>\n",
       "    <tr>\n",
       "      <th>0</th>\n",
       "      <td>Illinois</td>\n",
       "      <td>9.25</td>\n",
       "    </tr>\n",
       "    <tr>\n",
       "      <th>35</th>\n",
       "      <td>Utah</td>\n",
       "      <td>9.25</td>\n",
       "    </tr>\n",
       "    <tr>\n",
       "      <th>34</th>\n",
       "      <td>Delaware</td>\n",
       "      <td>9.25</td>\n",
       "    </tr>\n",
       "    <tr>\n",
       "      <th>32</th>\n",
       "      <td>Louisiana</td>\n",
       "      <td>9.25</td>\n",
       "    </tr>\n",
       "    <tr>\n",
       "      <th>31</th>\n",
       "      <td>Iowa</td>\n",
       "      <td>9.25</td>\n",
       "    </tr>\n",
       "    <tr>\n",
       "      <th>42</th>\n",
       "      <td>Nevada</td>\n",
       "      <td>9.25</td>\n",
       "    </tr>\n",
       "    <tr>\n",
       "      <th>6</th>\n",
       "      <td>Kansas</td>\n",
       "      <td>9.25</td>\n",
       "    </tr>\n",
       "    <tr>\n",
       "      <th>28</th>\n",
       "      <td>Rhode Island</td>\n",
       "      <td>9.25</td>\n",
       "    </tr>\n",
       "    <tr>\n",
       "      <th>37</th>\n",
       "      <td>Connecticut</td>\n",
       "      <td>9.25</td>\n",
       "    </tr>\n",
       "    <tr>\n",
       "      <th>26</th>\n",
       "      <td>West Virginia</td>\n",
       "      <td>9.25</td>\n",
       "    </tr>\n",
       "    <tr>\n",
       "      <th>5</th>\n",
       "      <td>Minnesota</td>\n",
       "      <td>9.25</td>\n",
       "    </tr>\n",
       "    <tr>\n",
       "      <th>24</th>\n",
       "      <td>Maryland</td>\n",
       "      <td>9.25</td>\n",
       "    </tr>\n",
       "    <tr>\n",
       "      <th>23</th>\n",
       "      <td>Massachusetts</td>\n",
       "      <td>9.25</td>\n",
       "    </tr>\n",
       "    <tr>\n",
       "      <th>21</th>\n",
       "      <td>Michigan</td>\n",
       "      <td>9.25</td>\n",
       "    </tr>\n",
       "    <tr>\n",
       "      <th>20</th>\n",
       "      <td>Nebraska</td>\n",
       "      <td>9.25</td>\n",
       "    </tr>\n",
       "    <tr>\n",
       "      <th>19</th>\n",
       "      <td>New Jersey</td>\n",
       "      <td>9.25</td>\n",
       "    </tr>\n",
       "    <tr>\n",
       "      <th>18</th>\n",
       "      <td>Virginia</td>\n",
       "      <td>9.25</td>\n",
       "    </tr>\n",
       "    <tr>\n",
       "      <th>3</th>\n",
       "      <td>Pennsylvania</td>\n",
       "      <td>9.50</td>\n",
       "    </tr>\n",
       "    <tr>\n",
       "      <th>41</th>\n",
       "      <td>Mississippi</td>\n",
       "      <td>9.50</td>\n",
       "    </tr>\n",
       "    <tr>\n",
       "      <th>2</th>\n",
       "      <td>Florida</td>\n",
       "      <td>9.50</td>\n",
       "    </tr>\n",
       "    <tr>\n",
       "      <th>40</th>\n",
       "      <td>Kentucky</td>\n",
       "      <td>9.50</td>\n",
       "    </tr>\n",
       "    <tr>\n",
       "      <th>4</th>\n",
       "      <td>Colorado</td>\n",
       "      <td>9.50</td>\n",
       "    </tr>\n",
       "    <tr>\n",
       "      <th>39</th>\n",
       "      <td>Arizona</td>\n",
       "      <td>9.50</td>\n",
       "    </tr>\n",
       "    <tr>\n",
       "      <th>16</th>\n",
       "      <td>Tennessee</td>\n",
       "      <td>9.50</td>\n",
       "    </tr>\n",
       "    <tr>\n",
       "      <th>8</th>\n",
       "      <td>Washington</td>\n",
       "      <td>9.50</td>\n",
       "    </tr>\n",
       "    <tr>\n",
       "      <th>14</th>\n",
       "      <td>New York</td>\n",
       "      <td>9.50</td>\n",
       "    </tr>\n",
       "    <tr>\n",
       "      <th>10</th>\n",
       "      <td>North Carolina</td>\n",
       "      <td>9.50</td>\n",
       "    </tr>\n",
       "    <tr>\n",
       "      <th>29</th>\n",
       "      <td>Indiana</td>\n",
       "      <td>9.50</td>\n",
       "    </tr>\n",
       "    <tr>\n",
       "      <th>27</th>\n",
       "      <td>Georgia</td>\n",
       "      <td>9.50</td>\n",
       "    </tr>\n",
       "    <tr>\n",
       "      <th>12</th>\n",
       "      <td>Ohio</td>\n",
       "      <td>9.50</td>\n",
       "    </tr>\n",
       "    <tr>\n",
       "      <th>13</th>\n",
       "      <td>Missouri</td>\n",
       "      <td>9.50</td>\n",
       "    </tr>\n",
       "    <tr>\n",
       "      <th>7</th>\n",
       "      <td>Wisconsin</td>\n",
       "      <td>9.50</td>\n",
       "    </tr>\n",
       "    <tr>\n",
       "      <th>17</th>\n",
       "      <td>Oregon</td>\n",
       "      <td>9.75</td>\n",
       "    </tr>\n",
       "    <tr>\n",
       "      <th>9</th>\n",
       "      <td>Texas</td>\n",
       "      <td>9.75</td>\n",
       "    </tr>\n",
       "    <tr>\n",
       "      <th>1</th>\n",
       "      <td>California</td>\n",
       "      <td>10.00</td>\n",
       "    </tr>\n",
       "  </tbody>\n",
       "</table>\n",
       "</div>"
      ],
      "text/plain": [
       "               state    end\n",
       "45           Vermont   4.25\n",
       "50  Washington, D.C.   6.25\n",
       "11            Alaska   7.00\n",
       "49           Wyoming   7.75\n",
       "48      North Dakota   8.25\n",
       "46           Montana   8.25\n",
       "47            Hawaii   8.50\n",
       "36             Maine   8.50\n",
       "44             Idaho   8.75\n",
       "38      South Dakota   8.75\n",
       "33          Arkansas   8.75\n",
       "43     New Hampshire   9.00\n",
       "30          Oklahoma   9.00\n",
       "22        New Mexico   9.00\n",
       "15           Alabama   9.00\n",
       "25    South Carolina   9.00\n",
       "0           Illinois   9.25\n",
       "35              Utah   9.25\n",
       "34          Delaware   9.25\n",
       "32         Louisiana   9.25\n",
       "31              Iowa   9.25\n",
       "42            Nevada   9.25\n",
       "6             Kansas   9.25\n",
       "28      Rhode Island   9.25\n",
       "37       Connecticut   9.25\n",
       "26     West Virginia   9.25\n",
       "5          Minnesota   9.25\n",
       "24          Maryland   9.25\n",
       "23     Massachusetts   9.25\n",
       "21          Michigan   9.25\n",
       "20          Nebraska   9.25\n",
       "19        New Jersey   9.25\n",
       "18          Virginia   9.25\n",
       "3       Pennsylvania   9.50\n",
       "41       Mississippi   9.50\n",
       "2            Florida   9.50\n",
       "40          Kentucky   9.50\n",
       "4           Colorado   9.50\n",
       "39           Arizona   9.50\n",
       "16         Tennessee   9.50\n",
       "8         Washington   9.50\n",
       "14          New York   9.50\n",
       "10    North Carolina   9.50\n",
       "29           Indiana   9.50\n",
       "27           Georgia   9.50\n",
       "12              Ohio   9.50\n",
       "13          Missouri   9.50\n",
       "7          Wisconsin   9.50\n",
       "17            Oregon   9.75\n",
       "9              Texas   9.75\n",
       "1         California  10.00"
      ]
     },
     "execution_count": 284,
     "metadata": {},
     "output_type": "execute_result"
    }
   ],
   "source": [
    "trough_state[['state','end']].sort_values(by='end')"
   ]
  },
  {
   "cell_type": "code",
   "execution_count": 270,
   "metadata": {},
   "outputs": [
    {
     "data": {
      "application/vnd.plotly.v1+json": {
       "config": {
        "linkText": "Export to plot.ly",
        "plotlyServerURL": "https://plot.ly",
        "showLink": false
       },
       "data": [
        {
         "autocolorscale": false,
         "colorscale": [
          [
           0,
           "rgb(247,251,255)"
          ],
          [
           0.125,
           "rgb(222,235,247)"
          ],
          [
           0.25,
           "rgb(198,219,239)"
          ],
          [
           0.375,
           "rgb(158,202,225)"
          ],
          [
           0.5,
           "rgb(107,174,214)"
          ],
          [
           0.625,
           "rgb(66,146,198)"
          ],
          [
           0.75,
           "rgb(33,113,181)"
          ],
          [
           0.875,
           "rgb(8,81,156)"
          ],
          [
           1,
           "rgb(8,48,107)"
          ]
         ],
         "locationmode": "USA-states",
         "locations": [
          "IL",
          "CA",
          "FL",
          "PA",
          "CO",
          "MN",
          "KS",
          "WI",
          "WA",
          "TX",
          "NC",
          "AK",
          "OH",
          "MO",
          "NY",
          "AL",
          "TN",
          "OR",
          "VA",
          "NJ",
          "NE",
          "MI",
          "NM",
          "MA",
          "MD",
          "SC",
          "WV",
          "GA",
          "RI",
          "IA",
          "OK",
          "IA",
          "LA",
          "AR",
          "DE",
          "UT",
          "ME",
          "CT",
          "SD",
          "AZ",
          "KY",
          "MS",
          "NV",
          "NH",
          "ID",
          "VT",
          "MT",
          "HI",
          "ND",
          "WY",
          "DC"
         ],
         "marker": {
          "line": {
           "color": "rgb(255, 255, 255)",
           "width": 2
          }
         },
         "reversescale": false,
         "text": [
          "7.75",
          "7.75",
          "8.25",
          "9.5",
          "8.25",
          "9.25",
          "9.25",
          "9.5",
          "7.5",
          "7.75",
          "9.5",
          "4.25",
          "9.5",
          "9.5",
          "8.5",
          "9.0",
          "9.5",
          "7.0",
          "9.25",
          "9.25",
          "9.25",
          "9.25",
          "6.75",
          "9.25",
          "8.25",
          "9.0",
          "9.25",
          "8.0",
          "9.25",
          "9.5",
          "9.0",
          "9.25",
          "7.0",
          "8.75",
          "9.25",
          "7.25",
          "8.5",
          "9.25",
          "6.0",
          "7.5",
          "8.75",
          "9.0",
          "7.0",
          "9.0",
          "7.0",
          "4.25",
          "8.25",
          "5.75",
          "8.25",
          "7.75",
          "6.25"
         ],
         "type": "choropleth",
         "z": [
          7.75,
          7.75,
          8.25,
          9.5,
          8.25,
          9.25,
          9.25,
          9.5,
          7.5,
          7.75,
          9.5,
          4.25,
          9.5,
          9.5,
          8.5,
          9,
          9.5,
          7,
          9.25,
          9.25,
          9.25,
          9.25,
          6.75,
          9.25,
          8.25,
          9,
          9.25,
          8,
          9.25,
          9.5,
          9,
          9.25,
          7,
          8.75,
          9.25,
          7.25,
          8.5,
          9.25,
          6,
          7.5,
          8.75,
          9,
          7,
          9,
          7,
          4.25,
          8.25,
          5.75,
          8.25,
          7.75,
          6.25
         ]
        }
       ],
       "layout": {
        "autosize": true,
        "geo": {
         "center": {
          "lat": 40.557699605778666,
          "lon": -90.49726737757216
         },
         "countrycolor": "rgb(255, 255, 255)",
         "lakecolor": "rgb(255, 255, 255)",
         "projection": {
          "scale": 0.76019656945227,
          "type": "albers usa"
         },
         "scope": "usa",
         "showlakes": true
        },
        "template": {
         "data": {
          "bar": [
           {
            "error_x": {
             "color": "#2a3f5f"
            },
            "error_y": {
             "color": "#2a3f5f"
            },
            "marker": {
             "line": {
              "color": "#E5ECF6",
              "width": 0.5
             }
            },
            "type": "bar"
           }
          ],
          "barpolar": [
           {
            "marker": {
             "line": {
              "color": "#E5ECF6",
              "width": 0.5
             }
            },
            "type": "barpolar"
           }
          ],
          "carpet": [
           {
            "aaxis": {
             "endlinecolor": "#2a3f5f",
             "gridcolor": "white",
             "linecolor": "white",
             "minorgridcolor": "white",
             "startlinecolor": "#2a3f5f"
            },
            "baxis": {
             "endlinecolor": "#2a3f5f",
             "gridcolor": "white",
             "linecolor": "white",
             "minorgridcolor": "white",
             "startlinecolor": "#2a3f5f"
            },
            "type": "carpet"
           }
          ],
          "choropleth": [
           {
            "colorbar": {
             "outlinewidth": 0,
             "ticks": ""
            },
            "type": "choropleth"
           }
          ],
          "contour": [
           {
            "colorbar": {
             "outlinewidth": 0,
             "ticks": ""
            },
            "colorscale": [
             [
              0,
              "#0d0887"
             ],
             [
              0.1111111111111111,
              "#46039f"
             ],
             [
              0.2222222222222222,
              "#7201a8"
             ],
             [
              0.3333333333333333,
              "#9c179e"
             ],
             [
              0.4444444444444444,
              "#bd3786"
             ],
             [
              0.5555555555555556,
              "#d8576b"
             ],
             [
              0.6666666666666666,
              "#ed7953"
             ],
             [
              0.7777777777777778,
              "#fb9f3a"
             ],
             [
              0.8888888888888888,
              "#fdca26"
             ],
             [
              1,
              "#f0f921"
             ]
            ],
            "type": "contour"
           }
          ],
          "contourcarpet": [
           {
            "colorbar": {
             "outlinewidth": 0,
             "ticks": ""
            },
            "type": "contourcarpet"
           }
          ],
          "heatmap": [
           {
            "colorbar": {
             "outlinewidth": 0,
             "ticks": ""
            },
            "colorscale": [
             [
              0,
              "#0d0887"
             ],
             [
              0.1111111111111111,
              "#46039f"
             ],
             [
              0.2222222222222222,
              "#7201a8"
             ],
             [
              0.3333333333333333,
              "#9c179e"
             ],
             [
              0.4444444444444444,
              "#bd3786"
             ],
             [
              0.5555555555555556,
              "#d8576b"
             ],
             [
              0.6666666666666666,
              "#ed7953"
             ],
             [
              0.7777777777777778,
              "#fb9f3a"
             ],
             [
              0.8888888888888888,
              "#fdca26"
             ],
             [
              1,
              "#f0f921"
             ]
            ],
            "type": "heatmap"
           }
          ],
          "heatmapgl": [
           {
            "colorbar": {
             "outlinewidth": 0,
             "ticks": ""
            },
            "colorscale": [
             [
              0,
              "#0d0887"
             ],
             [
              0.1111111111111111,
              "#46039f"
             ],
             [
              0.2222222222222222,
              "#7201a8"
             ],
             [
              0.3333333333333333,
              "#9c179e"
             ],
             [
              0.4444444444444444,
              "#bd3786"
             ],
             [
              0.5555555555555556,
              "#d8576b"
             ],
             [
              0.6666666666666666,
              "#ed7953"
             ],
             [
              0.7777777777777778,
              "#fb9f3a"
             ],
             [
              0.8888888888888888,
              "#fdca26"
             ],
             [
              1,
              "#f0f921"
             ]
            ],
            "type": "heatmapgl"
           }
          ],
          "histogram": [
           {
            "marker": {
             "colorbar": {
              "outlinewidth": 0,
              "ticks": ""
             }
            },
            "type": "histogram"
           }
          ],
          "histogram2d": [
           {
            "colorbar": {
             "outlinewidth": 0,
             "ticks": ""
            },
            "colorscale": [
             [
              0,
              "#0d0887"
             ],
             [
              0.1111111111111111,
              "#46039f"
             ],
             [
              0.2222222222222222,
              "#7201a8"
             ],
             [
              0.3333333333333333,
              "#9c179e"
             ],
             [
              0.4444444444444444,
              "#bd3786"
             ],
             [
              0.5555555555555556,
              "#d8576b"
             ],
             [
              0.6666666666666666,
              "#ed7953"
             ],
             [
              0.7777777777777778,
              "#fb9f3a"
             ],
             [
              0.8888888888888888,
              "#fdca26"
             ],
             [
              1,
              "#f0f921"
             ]
            ],
            "type": "histogram2d"
           }
          ],
          "histogram2dcontour": [
           {
            "colorbar": {
             "outlinewidth": 0,
             "ticks": ""
            },
            "colorscale": [
             [
              0,
              "#0d0887"
             ],
             [
              0.1111111111111111,
              "#46039f"
             ],
             [
              0.2222222222222222,
              "#7201a8"
             ],
             [
              0.3333333333333333,
              "#9c179e"
             ],
             [
              0.4444444444444444,
              "#bd3786"
             ],
             [
              0.5555555555555556,
              "#d8576b"
             ],
             [
              0.6666666666666666,
              "#ed7953"
             ],
             [
              0.7777777777777778,
              "#fb9f3a"
             ],
             [
              0.8888888888888888,
              "#fdca26"
             ],
             [
              1,
              "#f0f921"
             ]
            ],
            "type": "histogram2dcontour"
           }
          ],
          "mesh3d": [
           {
            "colorbar": {
             "outlinewidth": 0,
             "ticks": ""
            },
            "type": "mesh3d"
           }
          ],
          "parcoords": [
           {
            "line": {
             "colorbar": {
              "outlinewidth": 0,
              "ticks": ""
             }
            },
            "type": "parcoords"
           }
          ],
          "pie": [
           {
            "automargin": true,
            "type": "pie"
           }
          ],
          "scatter": [
           {
            "marker": {
             "colorbar": {
              "outlinewidth": 0,
              "ticks": ""
             }
            },
            "type": "scatter"
           }
          ],
          "scatter3d": [
           {
            "line": {
             "colorbar": {
              "outlinewidth": 0,
              "ticks": ""
             }
            },
            "marker": {
             "colorbar": {
              "outlinewidth": 0,
              "ticks": ""
             }
            },
            "type": "scatter3d"
           }
          ],
          "scattercarpet": [
           {
            "marker": {
             "colorbar": {
              "outlinewidth": 0,
              "ticks": ""
             }
            },
            "type": "scattercarpet"
           }
          ],
          "scattergeo": [
           {
            "marker": {
             "colorbar": {
              "outlinewidth": 0,
              "ticks": ""
             }
            },
            "type": "scattergeo"
           }
          ],
          "scattergl": [
           {
            "marker": {
             "colorbar": {
              "outlinewidth": 0,
              "ticks": ""
             }
            },
            "type": "scattergl"
           }
          ],
          "scattermapbox": [
           {
            "marker": {
             "colorbar": {
              "outlinewidth": 0,
              "ticks": ""
             }
            },
            "type": "scattermapbox"
           }
          ],
          "scatterpolar": [
           {
            "marker": {
             "colorbar": {
              "outlinewidth": 0,
              "ticks": ""
             }
            },
            "type": "scatterpolar"
           }
          ],
          "scatterpolargl": [
           {
            "marker": {
             "colorbar": {
              "outlinewidth": 0,
              "ticks": ""
             }
            },
            "type": "scatterpolargl"
           }
          ],
          "scatterternary": [
           {
            "marker": {
             "colorbar": {
              "outlinewidth": 0,
              "ticks": ""
             }
            },
            "type": "scatterternary"
           }
          ],
          "surface": [
           {
            "colorbar": {
             "outlinewidth": 0,
             "ticks": ""
            },
            "colorscale": [
             [
              0,
              "#0d0887"
             ],
             [
              0.1111111111111111,
              "#46039f"
             ],
             [
              0.2222222222222222,
              "#7201a8"
             ],
             [
              0.3333333333333333,
              "#9c179e"
             ],
             [
              0.4444444444444444,
              "#bd3786"
             ],
             [
              0.5555555555555556,
              "#d8576b"
             ],
             [
              0.6666666666666666,
              "#ed7953"
             ],
             [
              0.7777777777777778,
              "#fb9f3a"
             ],
             [
              0.8888888888888888,
              "#fdca26"
             ],
             [
              1,
              "#f0f921"
             ]
            ],
            "type": "surface"
           }
          ],
          "table": [
           {
            "cells": {
             "fill": {
              "color": "#EBF0F8"
             },
             "line": {
              "color": "white"
             }
            },
            "header": {
             "fill": {
              "color": "#C8D4E3"
             },
             "line": {
              "color": "white"
             }
            },
            "type": "table"
           }
          ]
         },
         "layout": {
          "annotationdefaults": {
           "arrowcolor": "#2a3f5f",
           "arrowhead": 0,
           "arrowwidth": 1
          },
          "coloraxis": {
           "colorbar": {
            "outlinewidth": 0,
            "ticks": ""
           }
          },
          "colorscale": {
           "diverging": [
            [
             0,
             "#8e0152"
            ],
            [
             0.1,
             "#c51b7d"
            ],
            [
             0.2,
             "#de77ae"
            ],
            [
             0.3,
             "#f1b6da"
            ],
            [
             0.4,
             "#fde0ef"
            ],
            [
             0.5,
             "#f7f7f7"
            ],
            [
             0.6,
             "#e6f5d0"
            ],
            [
             0.7,
             "#b8e186"
            ],
            [
             0.8,
             "#7fbc41"
            ],
            [
             0.9,
             "#4d9221"
            ],
            [
             1,
             "#276419"
            ]
           ],
           "sequential": [
            [
             0,
             "#0d0887"
            ],
            [
             0.1111111111111111,
             "#46039f"
            ],
            [
             0.2222222222222222,
             "#7201a8"
            ],
            [
             0.3333333333333333,
             "#9c179e"
            ],
            [
             0.4444444444444444,
             "#bd3786"
            ],
            [
             0.5555555555555556,
             "#d8576b"
            ],
            [
             0.6666666666666666,
             "#ed7953"
            ],
            [
             0.7777777777777778,
             "#fb9f3a"
            ],
            [
             0.8888888888888888,
             "#fdca26"
            ],
            [
             1,
             "#f0f921"
            ]
           ],
           "sequentialminus": [
            [
             0,
             "#0d0887"
            ],
            [
             0.1111111111111111,
             "#46039f"
            ],
            [
             0.2222222222222222,
             "#7201a8"
            ],
            [
             0.3333333333333333,
             "#9c179e"
            ],
            [
             0.4444444444444444,
             "#bd3786"
            ],
            [
             0.5555555555555556,
             "#d8576b"
            ],
            [
             0.6666666666666666,
             "#ed7953"
            ],
            [
             0.7777777777777778,
             "#fb9f3a"
            ],
            [
             0.8888888888888888,
             "#fdca26"
            ],
            [
             1,
             "#f0f921"
            ]
           ]
          },
          "colorway": [
           "#636efa",
           "#EF553B",
           "#00cc96",
           "#ab63fa",
           "#FFA15A",
           "#19d3f3",
           "#FF6692",
           "#B6E880",
           "#FF97FF",
           "#FECB52"
          ],
          "font": {
           "color": "#2a3f5f"
          },
          "geo": {
           "bgcolor": "white",
           "lakecolor": "white",
           "landcolor": "#E5ECF6",
           "showlakes": true,
           "showland": true,
           "subunitcolor": "white"
          },
          "hoverlabel": {
           "align": "left"
          },
          "hovermode": "closest",
          "mapbox": {
           "style": "light"
          },
          "paper_bgcolor": "white",
          "plot_bgcolor": "#E5ECF6",
          "polar": {
           "angularaxis": {
            "gridcolor": "white",
            "linecolor": "white",
            "ticks": ""
           },
           "bgcolor": "#E5ECF6",
           "radialaxis": {
            "gridcolor": "white",
            "linecolor": "white",
            "ticks": ""
           }
          },
          "scene": {
           "xaxis": {
            "backgroundcolor": "#E5ECF6",
            "gridcolor": "white",
            "gridwidth": 2,
            "linecolor": "white",
            "showbackground": true,
            "ticks": "",
            "zerolinecolor": "white"
           },
           "yaxis": {
            "backgroundcolor": "#E5ECF6",
            "gridcolor": "white",
            "gridwidth": 2,
            "linecolor": "white",
            "showbackground": true,
            "ticks": "",
            "zerolinecolor": "white"
           },
           "zaxis": {
            "backgroundcolor": "#E5ECF6",
            "gridcolor": "white",
            "gridwidth": 2,
            "linecolor": "white",
            "showbackground": true,
            "ticks": "",
            "zerolinecolor": "white"
           }
          },
          "shapedefaults": {
           "line": {
            "color": "#2a3f5f"
           }
          },
          "ternary": {
           "aaxis": {
            "gridcolor": "white",
            "linecolor": "white",
            "ticks": ""
           },
           "baxis": {
            "gridcolor": "white",
            "linecolor": "white",
            "ticks": ""
           },
           "bgcolor": "#E5ECF6",
           "caxis": {
            "gridcolor": "white",
            "linecolor": "white",
            "ticks": ""
           }
          },
          "title": {
           "x": 0.05
          },
          "xaxis": {
           "automargin": true,
           "gridcolor": "white",
           "linecolor": "white",
           "ticks": "",
           "title": {
            "standoff": 15
           },
           "zerolinecolor": "white",
           "zerolinewidth": 2
          },
          "yaxis": {
           "automargin": true,
           "gridcolor": "white",
           "linecolor": "white",
           "ticks": "",
           "title": {
            "standoff": 15
           },
           "zerolinecolor": "white",
           "zerolinewidth": 2
          }
         }
        },
        "title": {
         "text": "Low activity duration by State in April"
        }
       }
      },
      "image/png": "[encoded data removed]",
      "text/html": [
       "<div>                            <div id=\"c5eb4ea6-215f-48b8-bb5b-bf000d06ca47\" class=\"plotly-graph-div\" style=\"height:525px; width:100%;\"></div>            <script type=\"text/javascript\">                require([\"plotly\"], function(Plotly) {                    window.PLOTLYENV=window.PLOTLYENV || {};                                    if (document.getElementById(\"c5eb4ea6-215f-48b8-bb5b-bf000d06ca47\")) {                    Plotly.newPlot(                        \"c5eb4ea6-215f-48b8-bb5b-bf000d06ca47\",                        [{\"autocolorscale\": false, \"colorscale\": [[0.0, \"rgb(247,251,255)\"], [0.125, \"rgb(222,235,247)\"], [0.25, \"rgb(198,219,239)\"], [0.375, \"rgb(158,202,225)\"], [0.5, \"rgb(107,174,214)\"], [0.625, \"rgb(66,146,198)\"], [0.75, \"rgb(33,113,181)\"], [0.875, \"rgb(8,81,156)\"], [1.0, \"rgb(8,48,107)\"]], \"locationmode\": \"USA-states\", \"locations\": [\"IL\", \"CA\", \"FL\", \"PA\", \"CO\", \"MN\", \"KS\", \"WI\", \"WA\", \"TX\", \"NC\", \"AK\", \"OH\", \"MO\", \"NY\", \"AL\", \"TN\", \"OR\", \"VA\", \"NJ\", \"NE\", \"MI\", \"NM\", \"MA\", \"MD\", \"SC\", \"WV\", \"GA\", \"RI\", \"IA\", \"OK\", \"IA\", \"LA\", \"AR\", \"DE\", \"UT\", \"ME\", \"CT\", \"SD\", \"AZ\", \"KY\", \"MS\", \"NV\", \"NH\", \"ID\", \"VT\", \"MT\", \"HI\", \"ND\", \"WY\", \"DC\"], \"marker\": {\"line\": {\"color\": \"rgb(255, 255, 255)\", \"width\": 2}}, \"reversescale\": false, \"text\": [\"7.75\", \"7.75\", \"8.25\", \"9.5\", \"8.25\", \"9.25\", \"9.25\", \"9.5\", \"7.5\", \"7.75\", \"9.5\", \"4.25\", \"9.5\", \"9.5\", \"8.5\", \"9.0\", \"9.5\", \"7.0\", \"9.25\", \"9.25\", \"9.25\", \"9.25\", \"6.75\", \"9.25\", \"8.25\", \"9.0\", \"9.25\", \"8.0\", \"9.25\", \"9.5\", \"9.0\", \"9.25\", \"7.0\", \"8.75\", \"9.25\", \"7.25\", \"8.5\", \"9.25\", \"6.0\", \"7.5\", \"8.75\", \"9.0\", \"7.0\", \"9.0\", \"7.0\", \"4.25\", \"8.25\", \"5.75\", \"8.25\", \"7.75\", \"6.25\"], \"type\": \"choropleth\", \"z\": [7.75, 7.75, 8.25, 9.5, 8.25, 9.25, 9.25, 9.5, 7.5, 7.75, 9.5, 4.25, 9.5, 9.5, 8.5, 9.0, 9.5, 7.0, 9.25, 9.25, 9.25, 9.25, 6.75, 9.25, 8.25, 9.0, 9.25, 8.0, 9.25, 9.5, 9.0, 9.25, 7.0, 8.75, 9.25, 7.25, 8.5, 9.25, 6.0, 7.5, 8.75, 9.0, 7.0, 9.0, 7.0, 4.25, 8.25, 5.75, 8.25, 7.75, 6.25]}],                        {\"geo\": {\"countrycolor\": \"rgb(255, 255, 255)\", \"lakecolor\": \"rgb(255, 255, 255)\", \"projection\": {\"type\": \"albers usa\"}, \"scope\": \"usa\", \"showlakes\": true}, \"template\": {\"data\": {\"bar\": [{\"error_x\": {\"color\": \"#2a3f5f\"}, \"error_y\": {\"color\": \"#2a3f5f\"}, \"marker\": {\"line\": {\"color\": \"#E5ECF6\", \"width\": 0.5}}, \"type\": \"bar\"}], \"barpolar\": [{\"marker\": {\"line\": {\"color\": \"#E5ECF6\", \"width\": 0.5}}, \"type\": \"barpolar\"}], \"carpet\": [{\"aaxis\": {\"endlinecolor\": \"#2a3f5f\", \"gridcolor\": \"white\", \"linecolor\": \"white\", \"minorgridcolor\": \"white\", \"startlinecolor\": \"#2a3f5f\"}, \"baxis\": {\"endlinecolor\": \"#2a3f5f\", \"gridcolor\": \"white\", \"linecolor\": \"white\", \"minorgridcolor\": \"white\", \"startlinecolor\": \"#2a3f5f\"}, \"type\": \"carpet\"}], \"choropleth\": [{\"colorbar\": {\"outlinewidth\": 0, \"ticks\": \"\"}, \"type\": \"choropleth\"}], \"contour\": [{\"colorbar\": {\"outlinewidth\": 0, \"ticks\": \"\"}, \"colorscale\": [[0.0, \"#0d0887\"], [0.1111111111111111, \"#46039f\"], [0.2222222222222222, \"#7201a8\"], [0.3333333333333333, \"#9c179e\"], [0.4444444444444444, \"#bd3786\"], [0.5555555555555556, \"#d8576b\"], [0.6666666666666666, \"#ed7953\"], [0.7777777777777778, \"#fb9f3a\"], [0.8888888888888888, \"#fdca26\"], [1.0, \"#f0f921\"]], \"type\": \"contour\"}], \"contourcarpet\": [{\"colorbar\": {\"outlinewidth\": 0, \"ticks\": \"\"}, \"type\": \"contourcarpet\"}], \"heatmap\": [{\"colorbar\": {\"outlinewidth\": 0, \"ticks\": \"\"}, \"colorscale\": [[0.0, \"#0d0887\"], [0.1111111111111111, \"#46039f\"], [0.2222222222222222, \"#7201a8\"], [0.3333333333333333, \"#9c179e\"], [0.4444444444444444, \"#bd3786\"], [0.5555555555555556, \"#d8576b\"], [0.6666666666666666, \"#ed7953\"], [0.7777777777777778, \"#fb9f3a\"], [0.8888888888888888, \"#fdca26\"], [1.0, \"#f0f921\"]], \"type\": \"heatmap\"}], \"heatmapgl\": [{\"colorbar\": {\"outlinewidth\": 0, \"ticks\": \"\"}, \"colorscale\": [[0.0, \"#0d0887\"], [0.1111111111111111, \"#46039f\"], [0.2222222222222222, \"#7201a8\"], [0.3333333333333333, \"#9c179e\"], [0.4444444444444444, \"#bd3786\"], [0.5555555555555556, \"#d8576b\"], [0.6666666666666666, \"#ed7953\"], [0.7777777777777778, \"#fb9f3a\"], [0.8888888888888888, \"#fdca26\"], [1.0, \"#f0f921\"]], \"type\": \"heatmapgl\"}], \"histogram\": [{\"marker\": {\"colorbar\": {\"outlinewidth\": 0, \"ticks\": \"\"}}, \"type\": \"histogram\"}], \"histogram2d\": [{\"colorbar\": {\"outlinewidth\": 0, \"ticks\": \"\"}, \"colorscale\": [[0.0, \"#0d0887\"], [0.1111111111111111, \"#46039f\"], [0.2222222222222222, \"#7201a8\"], [0.3333333333333333, \"#9c179e\"], [0.4444444444444444, \"#bd3786\"], [0.5555555555555556, \"#d8576b\"], [0.6666666666666666, \"#ed7953\"], [0.7777777777777778, \"#fb9f3a\"], [0.8888888888888888, \"#fdca26\"], [1.0, \"#f0f921\"]], \"type\": \"histogram2d\"}], \"histogram2dcontour\": [{\"colorbar\": {\"outlinewidth\": 0, \"ticks\": \"\"}, \"colorscale\": [[0.0, \"#0d0887\"], [0.1111111111111111, \"#46039f\"], [0.2222222222222222, \"#7201a8\"], [0.3333333333333333, \"#9c179e\"], [0.4444444444444444, \"#bd3786\"], [0.5555555555555556, \"#d8576b\"], [0.6666666666666666, \"#ed7953\"], [0.7777777777777778, \"#fb9f3a\"], [0.8888888888888888, \"#fdca26\"], [1.0, \"#f0f921\"]], \"type\": \"histogram2dcontour\"}], \"mesh3d\": [{\"colorbar\": {\"outlinewidth\": 0, \"ticks\": \"\"}, \"type\": \"mesh3d\"}], \"parcoords\": [{\"line\": {\"colorbar\": {\"outlinewidth\": 0, \"ticks\": \"\"}}, \"type\": \"parcoords\"}], \"pie\": [{\"automargin\": true, \"type\": \"pie\"}], \"scatter\": [{\"marker\": {\"colorbar\": {\"outlinewidth\": 0, \"ticks\": \"\"}}, \"type\": \"scatter\"}], \"scatter3d\": [{\"line\": {\"colorbar\": {\"outlinewidth\": 0, \"ticks\": \"\"}}, \"marker\": {\"colorbar\": {\"outlinewidth\": 0, \"ticks\": \"\"}}, \"type\": \"scatter3d\"}], \"scattercarpet\": [{\"marker\": {\"colorbar\": {\"outlinewidth\": 0, \"ticks\": \"\"}}, \"type\": \"scattercarpet\"}], \"scattergeo\": [{\"marker\": {\"colorbar\": {\"outlinewidth\": 0, \"ticks\": \"\"}}, \"type\": \"scattergeo\"}], \"scattergl\": [{\"marker\": {\"colorbar\": {\"outlinewidth\": 0, \"ticks\": \"\"}}, \"type\": \"scattergl\"}], \"scattermapbox\": [{\"marker\": {\"colorbar\": {\"outlinewidth\": 0, \"ticks\": \"\"}}, \"type\": \"scattermapbox\"}], \"scatterpolar\": [{\"marker\": {\"colorbar\": {\"outlinewidth\": 0, \"ticks\": \"\"}}, \"type\": \"scatterpolar\"}], \"scatterpolargl\": [{\"marker\": {\"colorbar\": {\"outlinewidth\": 0, \"ticks\": \"\"}}, \"type\": \"scatterpolargl\"}], \"scatterternary\": [{\"marker\": {\"colorbar\": {\"outlinewidth\": 0, \"ticks\": \"\"}}, \"type\": \"scatterternary\"}], \"surface\": [{\"colorbar\": {\"outlinewidth\": 0, \"ticks\": \"\"}, \"colorscale\": [[0.0, \"#0d0887\"], [0.1111111111111111, \"#46039f\"], [0.2222222222222222, \"#7201a8\"], [0.3333333333333333, \"#9c179e\"], [0.4444444444444444, \"#bd3786\"], [0.5555555555555556, \"#d8576b\"], [0.6666666666666666, \"#ed7953\"], [0.7777777777777778, \"#fb9f3a\"], [0.8888888888888888, \"#fdca26\"], [1.0, \"#f0f921\"]], \"type\": \"surface\"}], \"table\": [{\"cells\": {\"fill\": {\"color\": \"#EBF0F8\"}, \"line\": {\"color\": \"white\"}}, \"header\": {\"fill\": {\"color\": \"#C8D4E3\"}, \"line\": {\"color\": \"white\"}}, \"type\": \"table\"}]}, \"layout\": {\"annotationdefaults\": {\"arrowcolor\": \"#2a3f5f\", \"arrowhead\": 0, \"arrowwidth\": 1}, \"coloraxis\": {\"colorbar\": {\"outlinewidth\": 0, \"ticks\": \"\"}}, \"colorscale\": {\"diverging\": [[0, \"#8e0152\"], [0.1, \"#c51b7d\"], [0.2, \"#de77ae\"], [0.3, \"#f1b6da\"], [0.4, \"#fde0ef\"], [0.5, \"#f7f7f7\"], [0.6, \"#e6f5d0\"], [0.7, \"#b8e186\"], [0.8, \"#7fbc41\"], [0.9, \"#4d9221\"], [1, \"#276419\"]], \"sequential\": [[0.0, \"#0d0887\"], [0.1111111111111111, \"#46039f\"], [0.2222222222222222, \"#7201a8\"], [0.3333333333333333, \"#9c179e\"], [0.4444444444444444, \"#bd3786\"], [0.5555555555555556, \"#d8576b\"], [0.6666666666666666, \"#ed7953\"], [0.7777777777777778, \"#fb9f3a\"], [0.8888888888888888, \"#fdca26\"], [1.0, \"#f0f921\"]], \"sequentialminus\": [[0.0, \"#0d0887\"], [0.1111111111111111, \"#46039f\"], [0.2222222222222222, \"#7201a8\"], [0.3333333333333333, \"#9c179e\"], [0.4444444444444444, \"#bd3786\"], [0.5555555555555556, \"#d8576b\"], [0.6666666666666666, \"#ed7953\"], [0.7777777777777778, \"#fb9f3a\"], [0.8888888888888888, \"#fdca26\"], [1.0, \"#f0f921\"]]}, \"colorway\": [\"#636efa\", \"#EF553B\", \"#00cc96\", \"#ab63fa\", \"#FFA15A\", \"#19d3f3\", \"#FF6692\", \"#B6E880\", \"#FF97FF\", \"#FECB52\"], \"font\": {\"color\": \"#2a3f5f\"}, \"geo\": {\"bgcolor\": \"white\", \"lakecolor\": \"white\", \"landcolor\": \"#E5ECF6\", \"showlakes\": true, \"showland\": true, \"subunitcolor\": \"white\"}, \"hoverlabel\": {\"align\": \"left\"}, \"hovermode\": \"closest\", \"mapbox\": {\"style\": \"light\"}, \"paper_bgcolor\": \"white\", \"plot_bgcolor\": \"#E5ECF6\", \"polar\": {\"angularaxis\": {\"gridcolor\": \"white\", \"linecolor\": \"white\", \"ticks\": \"\"}, \"bgcolor\": \"#E5ECF6\", \"radialaxis\": {\"gridcolor\": \"white\", \"linecolor\": \"white\", \"ticks\": \"\"}}, \"scene\": {\"xaxis\": {\"backgroundcolor\": \"#E5ECF6\", \"gridcolor\": \"white\", \"gridwidth\": 2, \"linecolor\": \"white\", \"showbackground\": true, \"ticks\": \"\", \"zerolinecolor\": \"white\"}, \"yaxis\": {\"backgroundcolor\": \"#E5ECF6\", \"gridcolor\": \"white\", \"gridwidth\": 2, \"linecolor\": \"white\", \"showbackground\": true, \"ticks\": \"\", \"zerolinecolor\": \"white\"}, \"zaxis\": {\"backgroundcolor\": \"#E5ECF6\", \"gridcolor\": \"white\", \"gridwidth\": 2, \"linecolor\": \"white\", \"showbackground\": true, \"ticks\": \"\", \"zerolinecolor\": \"white\"}}, \"shapedefaults\": {\"line\": {\"color\": \"#2a3f5f\"}}, \"ternary\": {\"aaxis\": {\"gridcolor\": \"white\", \"linecolor\": \"white\", \"ticks\": \"\"}, \"baxis\": {\"gridcolor\": \"white\", \"linecolor\": \"white\", \"ticks\": \"\"}, \"bgcolor\": \"#E5ECF6\", \"caxis\": {\"gridcolor\": \"white\", \"linecolor\": \"white\", \"ticks\": \"\"}}, \"title\": {\"x\": 0.05}, \"xaxis\": {\"automargin\": true, \"gridcolor\": \"white\", \"linecolor\": \"white\", \"ticks\": \"\", \"title\": {\"standoff\": 15}, \"zerolinecolor\": \"white\", \"zerolinewidth\": 2}, \"yaxis\": {\"automargin\": true, \"gridcolor\": \"white\", \"linecolor\": \"white\", \"ticks\": \"\", \"title\": {\"standoff\": 15}, \"zerolinecolor\": \"white\", \"zerolinewidth\": 2}}}, \"title\": {\"text\": \"Low activity duration by State in April\"}},                        {\"responsive\": true}                    ).then(function(){\n",
       "                            \n",
       "var gd = document.getElementById('c5eb4ea6-215f-48b8-bb5b-bf000d06ca47');\n",
       "var x = new MutationObserver(function (mutations, observer) {{\n",
       "        var display = window.getComputedStyle(gd).display;\n",
       "        if (!display || display === 'none') {{\n",
       "            console.log([gd, 'removed!']);\n",
       "            Plotly.purge(gd);\n",
       "            observer.disconnect();\n",
       "        }}\n",
       "}});\n",
       "\n",
       "// Listen for the removal of the full notebook cells\n",
       "var notebookContainer = gd.closest('#notebook-container');\n",
       "if (notebookContainer) {{\n",
       "    x.observe(notebookContainer, {childList: true});\n",
       "}}\n",
       "\n",
       "// Listen for the clearing of the current output cell\n",
       "var outputEl = gd.closest('.output');\n",
       "if (outputEl) {{\n",
       "    x.observe(outputEl, {childList: true});\n",
       "}}\n",
       "\n",
       "                        })                };                });            </script>        </div>"
      ]
     },
     "metadata": {},
     "output_type": "display_data"
    }
   ],
   "source": [
    "import matplotlib.pyplot as plt\n",
    "import plotly\n",
    "\n",
    "data = [dict(\n",
    "        type = 'choropleth',\n",
    "        autocolorscale = False,\n",
    "        colorscale = 'Blues',\n",
    "        reversescale = False,\n",
    "        locations = list(trough_state['state_short'].values),\n",
    "        locationmode = 'USA-states',\n",
    "        text = list(trough_state['duration'].values),\n",
    "        z = list(trough_state['duration'].values),\n",
    "        marker = dict(\n",
    "            line = dict(\n",
    "                color = 'rgb(255, 255, 255)',\n",
    "                width = 2)\n",
    "            ),\n",
    "        )]\n",
    "\n",
    "layout = dict(\n",
    "         title = 'Low activity duration by State in April',\n",
    "         geo = dict(\n",
    "             scope = 'usa',\n",
    "             projection = dict(type = 'albers usa'),\n",
    "             countrycolor = 'rgb(255, 255, 255)',\n",
    "             showlakes = True,\n",
    "             lakecolor = 'rgb(255, 255, 255)')\n",
    "         )\n",
    "\n",
    "figure = dict(data = data, layout = layout)\n",
    "plotly.offline.iplot(figure)"
   ]
  },
  {
   "cell_type": "code",
   "execution_count": 273,
   "metadata": {},
   "outputs": [
    {
     "data": {
      "application/vnd.plotly.v1+json": {
       "config": {
        "linkText": "Export to plot.ly",
        "plotlyServerURL": "https://plot.ly",
        "showLink": false
       },
       "data": [
        {
         "autocolorscale": false,
         "colorscale": [
          [
           0,
           "rgb(247,251,255)"
          ],
          [
           0.125,
           "rgb(222,235,247)"
          ],
          [
           0.25,
           "rgb(198,219,239)"
          ],
          [
           0.375,
           "rgb(158,202,225)"
          ],
          [
           0.5,
           "rgb(107,174,214)"
          ],
          [
           0.625,
           "rgb(66,146,198)"
          ],
          [
           0.75,
           "rgb(33,113,181)"
          ],
          [
           0.875,
           "rgb(8,81,156)"
          ],
          [
           1,
           "rgb(8,48,107)"
          ]
         ],
         "locationmode": "USA-states",
         "locations": [
          "IL",
          "CA",
          "FL",
          "PA",
          "CO",
          "MN",
          "KS",
          "WI",
          "WA",
          "TX",
          "NC",
          "AK",
          "OH",
          "MO",
          "NY",
          "AL",
          "TN",
          "OR",
          "VA",
          "NJ",
          "NE",
          "MI",
          "NM",
          "MA",
          "MD",
          "SC",
          "WV",
          "GA",
          "RI",
          "IA",
          "OK",
          "IA",
          "LA",
          "AR",
          "DE",
          "UT",
          "ME",
          "CT",
          "SD",
          "AZ",
          "KY",
          "MS",
          "NV",
          "NH",
          "ID",
          "VT",
          "MT",
          "HI",
          "ND",
          "WY",
          "DC"
         ],
         "marker": {
          "line": {
           "color": "rgb(255, 255, 255)",
           "width": 2
          }
         },
         "reversescale": false,
         "text": [
          "9.25",
          "10.0",
          "9.5",
          "9.5",
          "9.5",
          "9.25",
          "9.25",
          "9.5",
          "9.5",
          "9.75",
          "9.5",
          "7.0",
          "9.5",
          "9.5",
          "9.5",
          "9.0",
          "9.5",
          "9.75",
          "9.25",
          "9.25",
          "9.25",
          "9.25",
          "9.0",
          "9.25",
          "9.25",
          "9.0",
          "9.25",
          "9.5",
          "9.25",
          "9.5",
          "9.0",
          "9.25",
          "9.25",
          "8.75",
          "9.25",
          "9.25",
          "8.5",
          "9.25",
          "8.75",
          "9.5",
          "9.5",
          "9.5",
          "9.25",
          "9.0",
          "8.75",
          "4.25",
          "8.25",
          "8.5",
          "8.25",
          "7.75",
          "6.25"
         ],
         "type": "choropleth",
         "z": [
          9.25,
          10,
          9.5,
          9.5,
          9.5,
          9.25,
          9.25,
          9.5,
          9.5,
          9.75,
          9.5,
          7,
          9.5,
          9.5,
          9.5,
          9,
          9.5,
          9.75,
          9.25,
          9.25,
          9.25,
          9.25,
          9,
          9.25,
          9.25,
          9,
          9.25,
          9.5,
          9.25,
          9.5,
          9,
          9.25,
          9.25,
          8.75,
          9.25,
          9.25,
          8.5,
          9.25,
          8.75,
          9.5,
          9.5,
          9.5,
          9.25,
          9,
          8.75,
          4.25,
          8.25,
          8.5,
          8.25,
          7.75,
          6.25
         ]
        }
       ],
       "layout": {
        "autosize": true,
        "geo": {
         "center": {
          "lat": 38.92999239059899,
          "lon": -96.93385755172447
         },
         "countrycolor": "rgb(255, 255, 255)",
         "lakecolor": "rgb(255, 255, 255)",
         "projection": {
          "scale": 1.0570180405613803,
          "type": "albers usa"
         },
         "scope": "usa",
         "showlakes": true
        },
        "template": {
         "data": {
          "bar": [
           {
            "error_x": {
             "color": "#2a3f5f"
            },
            "error_y": {
             "color": "#2a3f5f"
            },
            "marker": {
             "line": {
              "color": "#E5ECF6",
              "width": 0.5
             }
            },
            "type": "bar"
           }
          ],
          "barpolar": [
           {
            "marker": {
             "line": {
              "color": "#E5ECF6",
              "width": 0.5
             }
            },
            "type": "barpolar"
           }
          ],
          "carpet": [
           {
            "aaxis": {
             "endlinecolor": "#2a3f5f",
             "gridcolor": "white",
             "linecolor": "white",
             "minorgridcolor": "white",
             "startlinecolor": "#2a3f5f"
            },
            "baxis": {
             "endlinecolor": "#2a3f5f",
             "gridcolor": "white",
             "linecolor": "white",
             "minorgridcolor": "white",
             "startlinecolor": "#2a3f5f"
            },
            "type": "carpet"
           }
          ],
          "choropleth": [
           {
            "colorbar": {
             "outlinewidth": 0,
             "ticks": ""
            },
            "type": "choropleth"
           }
          ],
          "contour": [
           {
            "colorbar": {
             "outlinewidth": 0,
             "ticks": ""
            },
            "colorscale": [
             [
              0,
              "#0d0887"
             ],
             [
              0.1111111111111111,
              "#46039f"
             ],
             [
              0.2222222222222222,
              "#7201a8"
             ],
             [
              0.3333333333333333,
              "#9c179e"
             ],
             [
              0.4444444444444444,
              "#bd3786"
             ],
             [
              0.5555555555555556,
              "#d8576b"
             ],
             [
              0.6666666666666666,
              "#ed7953"
             ],
             [
              0.7777777777777778,
              "#fb9f3a"
             ],
             [
              0.8888888888888888,
              "#fdca26"
             ],
             [
              1,
              "#f0f921"
             ]
            ],
            "type": "contour"
           }
          ],
          "contourcarpet": [
           {
            "colorbar": {
             "outlinewidth": 0,
             "ticks": ""
            },
            "type": "contourcarpet"
           }
          ],
          "heatmap": [
           {
            "colorbar": {
             "outlinewidth": 0,
             "ticks": ""
            },
            "colorscale": [
             [
              0,
              "#0d0887"
             ],
             [
              0.1111111111111111,
              "#46039f"
             ],
             [
              0.2222222222222222,
              "#7201a8"
             ],
             [
              0.3333333333333333,
              "#9c179e"
             ],
             [
              0.4444444444444444,
              "#bd3786"
             ],
             [
              0.5555555555555556,
              "#d8576b"
             ],
             [
              0.6666666666666666,
              "#ed7953"
             ],
             [
              0.7777777777777778,
              "#fb9f3a"
             ],
             [
              0.8888888888888888,
              "#fdca26"
             ],
             [
              1,
              "#f0f921"
             ]
            ],
            "type": "heatmap"
           }
          ],
          "heatmapgl": [
           {
            "colorbar": {
             "outlinewidth": 0,
             "ticks": ""
            },
            "colorscale": [
             [
              0,
              "#0d0887"
             ],
             [
              0.1111111111111111,
              "#46039f"
             ],
             [
              0.2222222222222222,
              "#7201a8"
             ],
             [
              0.3333333333333333,
              "#9c179e"
             ],
             [
              0.4444444444444444,
              "#bd3786"
             ],
             [
              0.5555555555555556,
              "#d8576b"
             ],
             [
              0.6666666666666666,
              "#ed7953"
             ],
             [
              0.7777777777777778,
              "#fb9f3a"
             ],
             [
              0.8888888888888888,
              "#fdca26"
             ],
             [
              1,
              "#f0f921"
             ]
            ],
            "type": "heatmapgl"
           }
          ],
          "histogram": [
           {
            "marker": {
             "colorbar": {
              "outlinewidth": 0,
              "ticks": ""
             }
            },
            "type": "histogram"
           }
          ],
          "histogram2d": [
           {
            "colorbar": {
             "outlinewidth": 0,
             "ticks": ""
            },
            "colorscale": [
             [
              0,
              "#0d0887"
             ],
             [
              0.1111111111111111,
              "#46039f"
             ],
             [
              0.2222222222222222,
              "#7201a8"
             ],
             [
              0.3333333333333333,
              "#9c179e"
             ],
             [
              0.4444444444444444,
              "#bd3786"
             ],
             [
              0.5555555555555556,
              "#d8576b"
             ],
             [
              0.6666666666666666,
              "#ed7953"
             ],
             [
              0.7777777777777778,
              "#fb9f3a"
             ],
             [
              0.8888888888888888,
              "#fdca26"
             ],
             [
              1,
              "#f0f921"
             ]
            ],
            "type": "histogram2d"
           }
          ],
          "histogram2dcontour": [
           {
            "colorbar": {
             "outlinewidth": 0,
             "ticks": ""
            },
            "colorscale": [
             [
              0,
              "#0d0887"
             ],
             [
              0.1111111111111111,
              "#46039f"
             ],
             [
              0.2222222222222222,
              "#7201a8"
             ],
             [
              0.3333333333333333,
              "#9c179e"
             ],
             [
              0.4444444444444444,
              "#bd3786"
             ],
             [
              0.5555555555555556,
              "#d8576b"
             ],
             [
              0.6666666666666666,
              "#ed7953"
             ],
             [
              0.7777777777777778,
              "#fb9f3a"
             ],
             [
              0.8888888888888888,
              "#fdca26"
             ],
             [
              1,
              "#f0f921"
             ]
            ],
            "type": "histogram2dcontour"
           }
          ],
          "mesh3d": [
           {
            "colorbar": {
             "outlinewidth": 0,
             "ticks": ""
            },
            "type": "mesh3d"
           }
          ],
          "parcoords": [
           {
            "line": {
             "colorbar": {
              "outlinewidth": 0,
              "ticks": ""
             }
            },
            "type": "parcoords"
           }
          ],
          "pie": [
           {
            "automargin": true,
            "type": "pie"
           }
          ],
          "scatter": [
           {
            "marker": {
             "colorbar": {
              "outlinewidth": 0,
              "ticks": ""
             }
            },
            "type": "scatter"
           }
          ],
          "scatter3d": [
           {
            "line": {
             "colorbar": {
              "outlinewidth": 0,
              "ticks": ""
             }
            },
            "marker": {
             "colorbar": {
              "outlinewidth": 0,
              "ticks": ""
             }
            },
            "type": "scatter3d"
           }
          ],
          "scattercarpet": [
           {
            "marker": {
             "colorbar": {
              "outlinewidth": 0,
              "ticks": ""
             }
            },
            "type": "scattercarpet"
           }
          ],
          "scattergeo": [
           {
            "marker": {
             "colorbar": {
              "outlinewidth": 0,
              "ticks": ""
             }
            },
            "type": "scattergeo"
           }
          ],
          "scattergl": [
           {
            "marker": {
             "colorbar": {
              "outlinewidth": 0,
              "ticks": ""
             }
            },
            "type": "scattergl"
           }
          ],
          "scattermapbox": [
           {
            "marker": {
             "colorbar": {
              "outlinewidth": 0,
              "ticks": ""
             }
            },
            "type": "scattermapbox"
           }
          ],
          "scatterpolar": [
           {
            "marker": {
             "colorbar": {
              "outlinewidth": 0,
              "ticks": ""
             }
            },
            "type": "scatterpolar"
           }
          ],
          "scatterpolargl": [
           {
            "marker": {
             "colorbar": {
              "outlinewidth": 0,
              "ticks": ""
             }
            },
            "type": "scatterpolargl"
           }
          ],
          "scatterternary": [
           {
            "marker": {
             "colorbar": {
              "outlinewidth": 0,
              "ticks": ""
             }
            },
            "type": "scatterternary"
           }
          ],
          "surface": [
           {
            "colorbar": {
             "outlinewidth": 0,
             "ticks": ""
            },
            "colorscale": [
             [
              0,
              "#0d0887"
             ],
             [
              0.1111111111111111,
              "#46039f"
             ],
             [
              0.2222222222222222,
              "#7201a8"
             ],
             [
              0.3333333333333333,
              "#9c179e"
             ],
             [
              0.4444444444444444,
              "#bd3786"
             ],
             [
              0.5555555555555556,
              "#d8576b"
             ],
             [
              0.6666666666666666,
              "#ed7953"
             ],
             [
              0.7777777777777778,
              "#fb9f3a"
             ],
             [
              0.8888888888888888,
              "#fdca26"
             ],
             [
              1,
              "#f0f921"
             ]
            ],
            "type": "surface"
           }
          ],
          "table": [
           {
            "cells": {
             "fill": {
              "color": "#EBF0F8"
             },
             "line": {
              "color": "white"
             }
            },
            "header": {
             "fill": {
              "color": "#C8D4E3"
             },
             "line": {
              "color": "white"
             }
            },
            "type": "table"
           }
          ]
         },
         "layout": {
          "annotationdefaults": {
           "arrowcolor": "#2a3f5f",
           "arrowhead": 0,
           "arrowwidth": 1
          },
          "coloraxis": {
           "colorbar": {
            "outlinewidth": 0,
            "ticks": ""
           }
          },
          "colorscale": {
           "diverging": [
            [
             0,
             "#8e0152"
            ],
            [
             0.1,
             "#c51b7d"
            ],
            [
             0.2,
             "#de77ae"
            ],
            [
             0.3,
             "#f1b6da"
            ],
            [
             0.4,
             "#fde0ef"
            ],
            [
             0.5,
             "#f7f7f7"
            ],
            [
             0.6,
             "#e6f5d0"
            ],
            [
             0.7,
             "#b8e186"
            ],
            [
             0.8,
             "#7fbc41"
            ],
            [
             0.9,
             "#4d9221"
            ],
            [
             1,
             "#276419"
            ]
           ],
           "sequential": [
            [
             0,
             "#0d0887"
            ],
            [
             0.1111111111111111,
             "#46039f"
            ],
            [
             0.2222222222222222,
             "#7201a8"
            ],
            [
             0.3333333333333333,
             "#9c179e"
            ],
            [
             0.4444444444444444,
             "#bd3786"
            ],
            [
             0.5555555555555556,
             "#d8576b"
            ],
            [
             0.6666666666666666,
             "#ed7953"
            ],
            [
             0.7777777777777778,
             "#fb9f3a"
            ],
            [
             0.8888888888888888,
             "#fdca26"
            ],
            [
             1,
             "#f0f921"
            ]
           ],
           "sequentialminus": [
            [
             0,
             "#0d0887"
            ],
            [
             0.1111111111111111,
             "#46039f"
            ],
            [
             0.2222222222222222,
             "#7201a8"
            ],
            [
             0.3333333333333333,
             "#9c179e"
            ],
            [
             0.4444444444444444,
             "#bd3786"
            ],
            [
             0.5555555555555556,
             "#d8576b"
            ],
            [
             0.6666666666666666,
             "#ed7953"
            ],
            [
             0.7777777777777778,
             "#fb9f3a"
            ],
            [
             0.8888888888888888,
             "#fdca26"
            ],
            [
             1,
             "#f0f921"
            ]
           ]
          },
          "colorway": [
           "#636efa",
           "#EF553B",
           "#00cc96",
           "#ab63fa",
           "#FFA15A",
           "#19d3f3",
           "#FF6692",
           "#B6E880",
           "#FF97FF",
           "#FECB52"
          ],
          "font": {
           "color": "#2a3f5f"
          },
          "geo": {
           "bgcolor": "white",
           "lakecolor": "white",
           "landcolor": "#E5ECF6",
           "showlakes": true,
           "showland": true,
           "subunitcolor": "white"
          },
          "hoverlabel": {
           "align": "left"
          },
          "hovermode": "closest",
          "mapbox": {
           "style": "light"
          },
          "paper_bgcolor": "white",
          "plot_bgcolor": "#E5ECF6",
          "polar": {
           "angularaxis": {
            "gridcolor": "white",
            "linecolor": "white",
            "ticks": ""
           },
           "bgcolor": "#E5ECF6",
           "radialaxis": {
            "gridcolor": "white",
            "linecolor": "white",
            "ticks": ""
           }
          },
          "scene": {
           "xaxis": {
            "backgroundcolor": "#E5ECF6",
            "gridcolor": "white",
            "gridwidth": 2,
            "linecolor": "white",
            "showbackground": true,
            "ticks": "",
            "zerolinecolor": "white"
           },
           "yaxis": {
            "backgroundcolor": "#E5ECF6",
            "gridcolor": "white",
            "gridwidth": 2,
            "linecolor": "white",
            "showbackground": true,
            "ticks": "",
            "zerolinecolor": "white"
           },
           "zaxis": {
            "backgroundcolor": "#E5ECF6",
            "gridcolor": "white",
            "gridwidth": 2,
            "linecolor": "white",
            "showbackground": true,
            "ticks": "",
            "zerolinecolor": "white"
           }
          },
          "shapedefaults": {
           "line": {
            "color": "#2a3f5f"
           }
          },
          "ternary": {
           "aaxis": {
            "gridcolor": "white",
            "linecolor": "white",
            "ticks": ""
           },
           "baxis": {
            "gridcolor": "white",
            "linecolor": "white",
            "ticks": ""
           },
           "bgcolor": "#E5ECF6",
           "caxis": {
            "gridcolor": "white",
            "linecolor": "white",
            "ticks": ""
           }
          },
          "title": {
           "x": 0.05
          },
          "xaxis": {
           "automargin": true,
           "gridcolor": "white",
           "linecolor": "white",
           "ticks": "",
           "title": {
            "standoff": 15
           },
           "zerolinecolor": "white",
           "zerolinewidth": 2
          },
          "yaxis": {
           "automargin": true,
           "gridcolor": "white",
           "linecolor": "white",
           "ticks": "",
           "title": {
            "standoff": 15
           },
           "zerolinecolor": "white",
           "zerolinewidth": 2
          }
         }
        },
        "title": {
         "text": "Low activity end time (AM) by State in April"
        }
       }
      },
      "image/png": "[encoded data removed]",
      "text/html": [
       "<div>                            <div id=\"e9571dcb-e8e3-4f18-832c-f35451ed4fa0\" class=\"plotly-graph-div\" style=\"height:525px; width:100%;\"></div>            <script type=\"text/javascript\">                require([\"plotly\"], function(Plotly) {                    window.PLOTLYENV=window.PLOTLYENV || {};                                    if (document.getElementById(\"e9571dcb-e8e3-4f18-832c-f35451ed4fa0\")) {                    Plotly.newPlot(                        \"e9571dcb-e8e3-4f18-832c-f35451ed4fa0\",                        [{\"autocolorscale\": false, \"colorscale\": [[0.0, \"rgb(247,251,255)\"], [0.125, \"rgb(222,235,247)\"], [0.25, \"rgb(198,219,239)\"], [0.375, \"rgb(158,202,225)\"], [0.5, \"rgb(107,174,214)\"], [0.625, \"rgb(66,146,198)\"], [0.75, \"rgb(33,113,181)\"], [0.875, \"rgb(8,81,156)\"], [1.0, \"rgb(8,48,107)\"]], \"locationmode\": \"USA-states\", \"locations\": [\"IL\", \"CA\", \"FL\", \"PA\", \"CO\", \"MN\", \"KS\", \"WI\", \"WA\", \"TX\", \"NC\", \"AK\", \"OH\", \"MO\", \"NY\", \"AL\", \"TN\", \"OR\", \"VA\", \"NJ\", \"NE\", \"MI\", \"NM\", \"MA\", \"MD\", \"SC\", \"WV\", \"GA\", \"RI\", \"IA\", \"OK\", \"IA\", \"LA\", \"AR\", \"DE\", \"UT\", \"ME\", \"CT\", \"SD\", \"AZ\", \"KY\", \"MS\", \"NV\", \"NH\", \"ID\", \"VT\", \"MT\", \"HI\", \"ND\", \"WY\", \"DC\"], \"marker\": {\"line\": {\"color\": \"rgb(255, 255, 255)\", \"width\": 2}}, \"reversescale\": false, \"text\": [\"9.25\", \"10.0\", \"9.5\", \"9.5\", \"9.5\", \"9.25\", \"9.25\", \"9.5\", \"9.5\", \"9.75\", \"9.5\", \"7.0\", \"9.5\", \"9.5\", \"9.5\", \"9.0\", \"9.5\", \"9.75\", \"9.25\", \"9.25\", \"9.25\", \"9.25\", \"9.0\", \"9.25\", \"9.25\", \"9.0\", \"9.25\", \"9.5\", \"9.25\", \"9.5\", \"9.0\", \"9.25\", \"9.25\", \"8.75\", \"9.25\", \"9.25\", \"8.5\", \"9.25\", \"8.75\", \"9.5\", \"9.5\", \"9.5\", \"9.25\", \"9.0\", \"8.75\", \"4.25\", \"8.25\", \"8.5\", \"8.25\", \"7.75\", \"6.25\"], \"type\": \"choropleth\", \"z\": [9.25, 10.0, 9.5, 9.5, 9.5, 9.25, 9.25, 9.5, 9.5, 9.75, 9.5, 7.0, 9.5, 9.5, 9.5, 9.0, 9.5, 9.75, 9.25, 9.25, 9.25, 9.25, 9.0, 9.25, 9.25, 9.0, 9.25, 9.5, 9.25, 9.5, 9.0, 9.25, 9.25, 8.75, 9.25, 9.25, 8.5, 9.25, 8.75, 9.5, 9.5, 9.5, 9.25, 9.0, 8.75, 4.25, 8.25, 8.5, 8.25, 7.75, 6.25]}],                        {\"geo\": {\"countrycolor\": \"rgb(255, 255, 255)\", \"lakecolor\": \"rgb(255, 255, 255)\", \"projection\": {\"type\": \"albers usa\"}, \"scope\": \"usa\", \"showlakes\": true}, \"template\": {\"data\": {\"bar\": [{\"error_x\": {\"color\": \"#2a3f5f\"}, \"error_y\": {\"color\": \"#2a3f5f\"}, \"marker\": {\"line\": {\"color\": \"#E5ECF6\", \"width\": 0.5}}, \"type\": \"bar\"}], \"barpolar\": [{\"marker\": {\"line\": {\"color\": \"#E5ECF6\", \"width\": 0.5}}, \"type\": \"barpolar\"}], \"carpet\": [{\"aaxis\": {\"endlinecolor\": \"#2a3f5f\", \"gridcolor\": \"white\", \"linecolor\": \"white\", \"minorgridcolor\": \"white\", \"startlinecolor\": \"#2a3f5f\"}, \"baxis\": {\"endlinecolor\": \"#2a3f5f\", \"gridcolor\": \"white\", \"linecolor\": \"white\", \"minorgridcolor\": \"white\", \"startlinecolor\": \"#2a3f5f\"}, \"type\": \"carpet\"}], \"choropleth\": [{\"colorbar\": {\"outlinewidth\": 0, \"ticks\": \"\"}, \"type\": \"choropleth\"}], \"contour\": [{\"colorbar\": {\"outlinewidth\": 0, \"ticks\": \"\"}, \"colorscale\": [[0.0, \"#0d0887\"], [0.1111111111111111, \"#46039f\"], [0.2222222222222222, \"#7201a8\"], [0.3333333333333333, \"#9c179e\"], [0.4444444444444444, \"#bd3786\"], [0.5555555555555556, \"#d8576b\"], [0.6666666666666666, \"#ed7953\"], [0.7777777777777778, \"#fb9f3a\"], [0.8888888888888888, \"#fdca26\"], [1.0, \"#f0f921\"]], \"type\": \"contour\"}], \"contourcarpet\": [{\"colorbar\": {\"outlinewidth\": 0, \"ticks\": \"\"}, \"type\": \"contourcarpet\"}], \"heatmap\": [{\"colorbar\": {\"outlinewidth\": 0, \"ticks\": \"\"}, \"colorscale\": [[0.0, \"#0d0887\"], [0.1111111111111111, \"#46039f\"], [0.2222222222222222, \"#7201a8\"], [0.3333333333333333, \"#9c179e\"], [0.4444444444444444, \"#bd3786\"], [0.5555555555555556, \"#d8576b\"], [0.6666666666666666, \"#ed7953\"], [0.7777777777777778, \"#fb9f3a\"], [0.8888888888888888, \"#fdca26\"], [1.0, \"#f0f921\"]], \"type\": \"heatmap\"}], \"heatmapgl\": [{\"colorbar\": {\"outlinewidth\": 0, \"ticks\": \"\"}, \"colorscale\": [[0.0, \"#0d0887\"], [0.1111111111111111, \"#46039f\"], [0.2222222222222222, \"#7201a8\"], [0.3333333333333333, \"#9c179e\"], [0.4444444444444444, \"#bd3786\"], [0.5555555555555556, \"#d8576b\"], [0.6666666666666666, \"#ed7953\"], [0.7777777777777778, \"#fb9f3a\"], [0.8888888888888888, \"#fdca26\"], [1.0, \"#f0f921\"]], \"type\": \"heatmapgl\"}], \"histogram\": [{\"marker\": {\"colorbar\": {\"outlinewidth\": 0, \"ticks\": \"\"}}, \"type\": \"histogram\"}], \"histogram2d\": [{\"colorbar\": {\"outlinewidth\": 0, \"ticks\": \"\"}, \"colorscale\": [[0.0, \"#0d0887\"], [0.1111111111111111, \"#46039f\"], [0.2222222222222222, \"#7201a8\"], [0.3333333333333333, \"#9c179e\"], [0.4444444444444444, \"#bd3786\"], [0.5555555555555556, \"#d8576b\"], [0.6666666666666666, \"#ed7953\"], [0.7777777777777778, \"#fb9f3a\"], [0.8888888888888888, \"#fdca26\"], [1.0, \"#f0f921\"]], \"type\": \"histogram2d\"}], \"histogram2dcontour\": [{\"colorbar\": {\"outlinewidth\": 0, \"ticks\": \"\"}, \"colorscale\": [[0.0, \"#0d0887\"], [0.1111111111111111, \"#46039f\"], [0.2222222222222222, \"#7201a8\"], [0.3333333333333333, \"#9c179e\"], [0.4444444444444444, \"#bd3786\"], [0.5555555555555556, \"#d8576b\"], [0.6666666666666666, \"#ed7953\"], [0.7777777777777778, \"#fb9f3a\"], [0.8888888888888888, \"#fdca26\"], [1.0, \"#f0f921\"]], \"type\": \"histogram2dcontour\"}], \"mesh3d\": [{\"colorbar\": {\"outlinewidth\": 0, \"ticks\": \"\"}, \"type\": \"mesh3d\"}], \"parcoords\": [{\"line\": {\"colorbar\": {\"outlinewidth\": 0, \"ticks\": \"\"}}, \"type\": \"parcoords\"}], \"pie\": [{\"automargin\": true, \"type\": \"pie\"}], \"scatter\": [{\"marker\": {\"colorbar\": {\"outlinewidth\": 0, \"ticks\": \"\"}}, \"type\": \"scatter\"}], \"scatter3d\": [{\"line\": {\"colorbar\": {\"outlinewidth\": 0, \"ticks\": \"\"}}, \"marker\": {\"colorbar\": {\"outlinewidth\": 0, \"ticks\": \"\"}}, \"type\": \"scatter3d\"}], \"scattercarpet\": [{\"marker\": {\"colorbar\": {\"outlinewidth\": 0, \"ticks\": \"\"}}, \"type\": \"scattercarpet\"}], \"scattergeo\": [{\"marker\": {\"colorbar\": {\"outlinewidth\": 0, \"ticks\": \"\"}}, \"type\": \"scattergeo\"}], \"scattergl\": [{\"marker\": {\"colorbar\": {\"outlinewidth\": 0, \"ticks\": \"\"}}, \"type\": \"scattergl\"}], \"scattermapbox\": [{\"marker\": {\"colorbar\": {\"outlinewidth\": 0, \"ticks\": \"\"}}, \"type\": \"scattermapbox\"}], \"scatterpolar\": [{\"marker\": {\"colorbar\": {\"outlinewidth\": 0, \"ticks\": \"\"}}, \"type\": \"scatterpolar\"}], \"scatterpolargl\": [{\"marker\": {\"colorbar\": {\"outlinewidth\": 0, \"ticks\": \"\"}}, \"type\": \"scatterpolargl\"}], \"scatterternary\": [{\"marker\": {\"colorbar\": {\"outlinewidth\": 0, \"ticks\": \"\"}}, \"type\": \"scatterternary\"}], \"surface\": [{\"colorbar\": {\"outlinewidth\": 0, \"ticks\": \"\"}, \"colorscale\": [[0.0, \"#0d0887\"], [0.1111111111111111, \"#46039f\"], [0.2222222222222222, \"#7201a8\"], [0.3333333333333333, \"#9c179e\"], [0.4444444444444444, \"#bd3786\"], [0.5555555555555556, \"#d8576b\"], [0.6666666666666666, \"#ed7953\"], [0.7777777777777778, \"#fb9f3a\"], [0.8888888888888888, \"#fdca26\"], [1.0, \"#f0f921\"]], \"type\": \"surface\"}], \"table\": [{\"cells\": {\"fill\": {\"color\": \"#EBF0F8\"}, \"line\": {\"color\": \"white\"}}, \"header\": {\"fill\": {\"color\": \"#C8D4E3\"}, \"line\": {\"color\": \"white\"}}, \"type\": \"table\"}]}, \"layout\": {\"annotationdefaults\": {\"arrowcolor\": \"#2a3f5f\", \"arrowhead\": 0, \"arrowwidth\": 1}, \"coloraxis\": {\"colorbar\": {\"outlinewidth\": 0, \"ticks\": \"\"}}, \"colorscale\": {\"diverging\": [[0, \"#8e0152\"], [0.1, \"#c51b7d\"], [0.2, \"#de77ae\"], [0.3, \"#f1b6da\"], [0.4, \"#fde0ef\"], [0.5, \"#f7f7f7\"], [0.6, \"#e6f5d0\"], [0.7, \"#b8e186\"], [0.8, \"#7fbc41\"], [0.9, \"#4d9221\"], [1, \"#276419\"]], \"sequential\": [[0.0, \"#0d0887\"], [0.1111111111111111, \"#46039f\"], [0.2222222222222222, \"#7201a8\"], [0.3333333333333333, \"#9c179e\"], [0.4444444444444444, \"#bd3786\"], [0.5555555555555556, \"#d8576b\"], [0.6666666666666666, \"#ed7953\"], [0.7777777777777778, \"#fb9f3a\"], [0.8888888888888888, \"#fdca26\"], [1.0, \"#f0f921\"]], \"sequentialminus\": [[0.0, \"#0d0887\"], [0.1111111111111111, \"#46039f\"], [0.2222222222222222, \"#7201a8\"], [0.3333333333333333, \"#9c179e\"], [0.4444444444444444, \"#bd3786\"], [0.5555555555555556, \"#d8576b\"], [0.6666666666666666, \"#ed7953\"], [0.7777777777777778, \"#fb9f3a\"], [0.8888888888888888, \"#fdca26\"], [1.0, \"#f0f921\"]]}, \"colorway\": [\"#636efa\", \"#EF553B\", \"#00cc96\", \"#ab63fa\", \"#FFA15A\", \"#19d3f3\", \"#FF6692\", \"#B6E880\", \"#FF97FF\", \"#FECB52\"], \"font\": {\"color\": \"#2a3f5f\"}, \"geo\": {\"bgcolor\": \"white\", \"lakecolor\": \"white\", \"landcolor\": \"#E5ECF6\", \"showlakes\": true, \"showland\": true, \"subunitcolor\": \"white\"}, \"hoverlabel\": {\"align\": \"left\"}, \"hovermode\": \"closest\", \"mapbox\": {\"style\": \"light\"}, \"paper_bgcolor\": \"white\", \"plot_bgcolor\": \"#E5ECF6\", \"polar\": {\"angularaxis\": {\"gridcolor\": \"white\", \"linecolor\": \"white\", \"ticks\": \"\"}, \"bgcolor\": \"#E5ECF6\", \"radialaxis\": {\"gridcolor\": \"white\", \"linecolor\": \"white\", \"ticks\": \"\"}}, \"scene\": {\"xaxis\": {\"backgroundcolor\": \"#E5ECF6\", \"gridcolor\": \"white\", \"gridwidth\": 2, \"linecolor\": \"white\", \"showbackground\": true, \"ticks\": \"\", \"zerolinecolor\": \"white\"}, \"yaxis\": {\"backgroundcolor\": \"#E5ECF6\", \"gridcolor\": \"white\", \"gridwidth\": 2, \"linecolor\": \"white\", \"showbackground\": true, \"ticks\": \"\", \"zerolinecolor\": \"white\"}, \"zaxis\": {\"backgroundcolor\": \"#E5ECF6\", \"gridcolor\": \"white\", \"gridwidth\": 2, \"linecolor\": \"white\", \"showbackground\": true, \"ticks\": \"\", \"zerolinecolor\": \"white\"}}, \"shapedefaults\": {\"line\": {\"color\": \"#2a3f5f\"}}, \"ternary\": {\"aaxis\": {\"gridcolor\": \"white\", \"linecolor\": \"white\", \"ticks\": \"\"}, \"baxis\": {\"gridcolor\": \"white\", \"linecolor\": \"white\", \"ticks\": \"\"}, \"bgcolor\": \"#E5ECF6\", \"caxis\": {\"gridcolor\": \"white\", \"linecolor\": \"white\", \"ticks\": \"\"}}, \"title\": {\"x\": 0.05}, \"xaxis\": {\"automargin\": true, \"gridcolor\": \"white\", \"linecolor\": \"white\", \"ticks\": \"\", \"title\": {\"standoff\": 15}, \"zerolinecolor\": \"white\", \"zerolinewidth\": 2}, \"yaxis\": {\"automargin\": true, \"gridcolor\": \"white\", \"linecolor\": \"white\", \"ticks\": \"\", \"title\": {\"standoff\": 15}, \"zerolinecolor\": \"white\", \"zerolinewidth\": 2}}}, \"title\": {\"text\": \"Low activity end time (AM) by State in April\"}},                        {\"responsive\": true}                    ).then(function(){\n",
       "                            \n",
       "var gd = document.getElementById('e9571dcb-e8e3-4f18-832c-f35451ed4fa0');\n",
       "var x = new MutationObserver(function (mutations, observer) {{\n",
       "        var display = window.getComputedStyle(gd).display;\n",
       "        if (!display || display === 'none') {{\n",
       "            console.log([gd, 'removed!']);\n",
       "            Plotly.purge(gd);\n",
       "            observer.disconnect();\n",
       "        }}\n",
       "}});\n",
       "\n",
       "// Listen for the removal of the full notebook cells\n",
       "var notebookContainer = gd.closest('#notebook-container');\n",
       "if (notebookContainer) {{\n",
       "    x.observe(notebookContainer, {childList: true});\n",
       "}}\n",
       "\n",
       "// Listen for the clearing of the current output cell\n",
       "var outputEl = gd.closest('.output');\n",
       "if (outputEl) {{\n",
       "    x.observe(outputEl, {childList: true});\n",
       "}}\n",
       "\n",
       "                        })                };                });            </script>        </div>"
      ]
     },
     "metadata": {},
     "output_type": "display_data"
    }
   ],
   "source": [
    "import matplotlib.pyplot as plt\n",
    "import plotly\n",
    "\n",
    "data = [dict(\n",
    "        type = 'choropleth',\n",
    "        autocolorscale = False,\n",
    "        colorscale = 'Blues',\n",
    "        reversescale = False,\n",
    "        locations = list(trough_state['state_short'].values),\n",
    "        locationmode = 'USA-states',\n",
    "        text = list(trough_state['end'].values),\n",
    "        z = list(trough_state['end'].values),\n",
    "        marker = dict(\n",
    "            line = dict(\n",
    "                color = 'rgb(255, 255, 255)',\n",
    "                width = 2)\n",
    "            ),\n",
    "        )]\n",
    "\n",
    "layout = dict(\n",
    "         title = 'Low activity end time (AM) by State in April',\n",
    "         geo = dict(\n",
    "             scope = 'usa',\n",
    "             projection = dict(type = 'albers usa'),\n",
    "             countrycolor = 'rgb(255, 255, 255)',\n",
    "             showlakes = True,\n",
    "             lakecolor = 'rgb(255, 255, 255)')\n",
    "         )\n",
    "\n",
    "figure = dict(data = data, layout = layout)\n",
    "plotly.offline.iplot(figure)"
   ]
  },
  {
   "cell_type": "markdown",
   "metadata": {},
   "source": [
    "### local sunrise and sunset impact"
   ]
  },
  {
   "cell_type": "code",
   "execution_count": 232,
   "metadata": {},
   "outputs": [
    {
     "name": "stdout",
     "output_type": "stream",
     "text": [
      "Requirement already satisfied: astral in /opt/conda/lib/python3.7/site-packages (2.2)\n",
      "Requirement already satisfied: pytz in /opt/conda/lib/python3.7/site-packages (from astral) (2020.1)\n",
      "Note: you may need to restart the kernel to use updated packages.\n"
     ]
    }
   ],
   "source": [
    "pip install astral "
   ]
  },
  {
   "cell_type": "code",
   "execution_count": 233,
   "metadata": {},
   "outputs": [
    {
     "name": "stdout",
     "output_type": "stream",
     "text": [
      "Information for London/England\n",
      "Timezone: Europe/London\n",
      "Latitude: 51.50; Longitude: -0.12\n",
      "\n"
     ]
    }
   ],
   "source": [
    "from astral import LocationInfo\n",
    "city = LocationInfo(\"London\", \"England\", \"Europe/London\", 51.5, -0.116)\n",
    "print((\n",
    "    f\"Information for {city.name}/{city.region}\\n\"\n",
    "    f\"Timezone: {city.timezone}\\n\"\n",
    "    f\"Latitude: {city.latitude:.02f}; Longitude: {city.longitude:.02f}\\n\"\n",
    "))"
   ]
  },
  {
   "cell_type": "code",
   "execution_count": 234,
   "metadata": {},
   "outputs": [
    {
     "data": {
      "text/plain": [
       "Observer(latitude=51.5, longitude=-0.116, elevation=0.0)"
      ]
     },
     "execution_count": 234,
     "metadata": {},
     "output_type": "execute_result"
    }
   ],
   "source": [
    "city.observer"
   ]
  },
  {
   "cell_type": "code",
   "execution_count": 235,
   "metadata": {},
   "outputs": [],
   "source": [
    "from astral.geocoder import add_locations, database, lookup"
   ]
  },
  {
   "cell_type": "code",
   "execution_count": 236,
   "metadata": {},
   "outputs": [],
   "source": [
    "locl_info = lookup(\"New York\", database())"
   ]
  },
  {
   "cell_type": "code",
   "execution_count": 237,
   "metadata": {},
   "outputs": [
    {
     "data": {
      "text/plain": [
       "LocationInfo(name='New York', region='USA', timezone='US/Eastern', latitude=40.71666666666667, longitude=-74.0)"
      ]
     },
     "execution_count": 237,
     "metadata": {},
     "output_type": "execute_result"
    }
   ],
   "source": [
    "locl_info"
   ]
  },
  {
   "cell_type": "code",
   "execution_count": 238,
   "metadata": {},
   "outputs": [
    {
     "name": "stdout",
     "output_type": "stream",
     "text": [
      "Information for New York/USA\n",
      "Timezone: US/Eastern\n",
      "Latitude: 40.72; Longitude: -74.00\n",
      "\n"
     ]
    }
   ],
   "source": [
    "city = LocationInfo(locl_info.name, locl_info.region, locl_info.timezone, locl_info.latitude, locl_info.longitude)\n",
    "print((\n",
    "    f\"Information for {city.name}/{city.region}\\n\"\n",
    "    f\"Timezone: {city.timezone}\\n\"\n",
    "    f\"Latitude: {city.latitude:.02f}; Longitude: {city.longitude:.02f}\\n\"\n",
    "))"
   ]
  },
  {
   "cell_type": "code",
   "execution_count": 239,
   "metadata": {},
   "outputs": [
    {
     "data": {
      "text/plain": [
       "Observer(latitude=40.71666666666667, longitude=-74.0, elevation=0.0)"
      ]
     },
     "execution_count": 239,
     "metadata": {},
     "output_type": "execute_result"
    }
   ],
   "source": [
    "city.observer"
   ]
  },
  {
   "cell_type": "code",
   "execution_count": 240,
   "metadata": {},
   "outputs": [
    {
     "name": "stdout",
     "output_type": "stream",
     "text": [
      "Dawn:    2009-04-22 09:37:22.454600+00:00\n",
      "Sunrise: 2009-04-22 10:06:49.646493+00:00\n",
      "Noon:    2009-04-22 16:54:34+00:00\n",
      "Sunset:  2009-04-22 23:42:44.004557+00:00\n",
      "Dusk:    2009-04-23 00:12:17.835932+00:00\n",
      "\n"
     ]
    }
   ],
   "source": [
    "from astral.sun import sun\n",
    "s = sun(city.observer, date=datetime.date(2009, 4, 22))\n",
    "print((\n",
    "    f'Dawn:    {s[\"dawn\"]}\\n'\n",
    "    f'Sunrise: {s[\"sunrise\"]}\\n'\n",
    "    f'Noon:    {s[\"noon\"]}\\n'\n",
    "    f'Sunset:  {s[\"sunset\"]}\\n'\n",
    "    f'Dusk:    {s[\"dusk\"]}\\n'\n",
    "))"
   ]
  },
  {
   "cell_type": "code",
   "execution_count": 241,
   "metadata": {},
   "outputs": [
    {
     "name": "stdout",
     "output_type": "stream",
     "text": [
      "Dawn:    2009-04-22 05:37:22.454600-04:00\n",
      "Sunrise: 2009-04-22 06:06:49.646493-04:00\n",
      "Noon:    2009-04-22 12:54:34-04:00\n",
      "Sunset:  2009-04-22 19:42:44.004557-04:00\n",
      "Dusk:    2009-04-22 20:12:17.835932-04:00\n",
      "\n"
     ]
    }
   ],
   "source": [
    "# locl_info.latitude, locl_info.longitude\n",
    "zone_str = tf.timezone_at(lng = locl_info.longitude, lat = locl_info.latitude)\n",
    "s = sun(city.observer,\n",
    "        date=datetime.date(2009, 4, 22),\n",
    "        tzinfo=pytz.timezone(zone_str))\n",
    "print((\n",
    "    f'Dawn:    {s[\"dawn\"]}\\n'\n",
    "    f'Sunrise: {s[\"sunrise\"]}\\n'\n",
    "    f'Noon:    {s[\"noon\"]}\\n'\n",
    "    f'Sunset:  {s[\"sunset\"]}\\n'\n",
    "    f'Dusk:    {s[\"dusk\"]}\\n'\n",
    "))"
   ]
  },
  {
   "cell_type": "code",
   "execution_count": 242,
   "metadata": {},
   "outputs": [
    {
     "data": {
      "text/plain": [
       "6.1"
      ]
     },
     "execution_count": 242,
     "metadata": {},
     "output_type": "execute_result"
    }
   ],
   "source": [
    "s[\"sunrise\"].hour+s[\"sunrise\"].minute/60"
   ]
  },
  {
   "cell_type": "code",
   "execution_count": null,
   "metadata": {},
   "outputs": [],
   "source": []
  },
  {
   "cell_type": "code",
   "execution_count": 243,
   "metadata": {},
   "outputs": [
    {
     "name": "stderr",
     "output_type": "stream",
     "text": [
      "/opt/conda/lib/python3.7/site-packages/ipykernel_launcher.py:13: SettingWithCopyWarning:\n",
      "\n",
      "\n",
      "A value is trying to be set on a copy of a slice from a DataFrame.\n",
      "Try using .loc[row_indexer,col_indexer] = value instead\n",
      "\n",
      "See the caveats in the documentation: https://pandas.pydata.org/pandas-docs/stable/user_guide/indexing.html#returning-a-view-versus-a-copy\n",
      "\n"
     ]
    }
   ],
   "source": [
    "def get_localtime_in_seconds(rows):\n",
    "    coor = rows['coordinate']\n",
    "    lati = coor[0]\n",
    "    logi = coor[1]\n",
    "    zone_str = tf.timezone_at(lng = logi, lat = lati)\n",
    "    if zone_str == None:\n",
    "        return None, None, None, None\n",
    "    d = datetime.datetime.fromtimestamp(rows['timestamp_ms']/1000, tz=pytz.timezone(zone_str))\n",
    "    h, m, s = d.hour, d.minute, d.second\n",
    "    month, weekday, day_in_month = d.month, d.weekday(), d.day\n",
    "    return h*3600+m*60+s, month, weekday, day_in_month\n",
    "\n",
    "geos['time_in_second'], geos['month'], geos['weekday'], geos['day_in_month'] = zip(*geos.apply(get_localtime_in_seconds, axis=1))"
   ]
  },
  {
   "cell_type": "code",
   "execution_count": 244,
   "metadata": {},
   "outputs": [
    {
     "data": {
      "text/html": [
       "<div>\n",
       "<style scoped>\n",
       "    .dataframe tbody tr th:only-of-type {\n",
       "        vertical-align: middle;\n",
       "    }\n",
       "\n",
       "    .dataframe tbody tr th {\n",
       "        vertical-align: top;\n",
       "    }\n",
       "\n",
       "    .dataframe thead th {\n",
       "        text-align: right;\n",
       "    }\n",
       "</style>\n",
       "<table border=\"1\" class=\"dataframe\">\n",
       "  <thead>\n",
       "    <tr style=\"text-align: right;\">\n",
       "      <th></th>\n",
       "      <th>index</th>\n",
       "      <th>user_id</th>\n",
       "      <th>timestamp_ms</th>\n",
       "      <th>coordinate</th>\n",
       "      <th>country</th>\n",
       "      <th>state</th>\n",
       "      <th>time_in_second</th>\n",
       "      <th>month</th>\n",
       "      <th>weekday</th>\n",
       "      <th>day_in_month</th>\n",
       "      <th>label</th>\n",
       "    </tr>\n",
       "  </thead>\n",
       "  <tbody>\n",
       "    <tr>\n",
       "      <th>0</th>\n",
       "      <td>5</td>\n",
       "      <td>1139323604330569729</td>\n",
       "      <td>1586527809663</td>\n",
       "      <td>(41.481426, -87.674421)</td>\n",
       "      <td>US</td>\n",
       "      <td>Illinois</td>\n",
       "      <td>33009</td>\n",
       "      <td>4</td>\n",
       "      <td>4</td>\n",
       "      <td>10</td>\n",
       "      <td>36</td>\n",
       "    </tr>\n",
       "    <tr>\n",
       "      <th>1</th>\n",
       "      <td>10</td>\n",
       "      <td>27377135</td>\n",
       "      <td>1586527816658</td>\n",
       "      <td>(33.606077, -117.86894)</td>\n",
       "      <td>US</td>\n",
       "      <td>California</td>\n",
       "      <td>25816</td>\n",
       "      <td>4</td>\n",
       "      <td>4</td>\n",
       "      <td>10</td>\n",
       "      <td>28</td>\n",
       "    </tr>\n",
       "    <tr>\n",
       "      <th>2</th>\n",
       "      <td>11</td>\n",
       "      <td>515108272</td>\n",
       "      <td>1586527817665</td>\n",
       "      <td>(30.355644, -85.605166)</td>\n",
       "      <td>US</td>\n",
       "      <td>Florida</td>\n",
       "      <td>33017</td>\n",
       "      <td>4</td>\n",
       "      <td>4</td>\n",
       "      <td>10</td>\n",
       "      <td>36</td>\n",
       "    </tr>\n",
       "    <tr>\n",
       "      <th>3</th>\n",
       "      <td>15</td>\n",
       "      <td>118811691</td>\n",
       "      <td>1586527831663</td>\n",
       "      <td>(40.361580000000004, -80.095586)</td>\n",
       "      <td>US</td>\n",
       "      <td>Pennsylvania</td>\n",
       "      <td>36631</td>\n",
       "      <td>4</td>\n",
       "      <td>4</td>\n",
       "      <td>10</td>\n",
       "      <td>40</td>\n",
       "    </tr>\n",
       "    <tr>\n",
       "      <th>4</th>\n",
       "      <td>24</td>\n",
       "      <td>1185068084010180608</td>\n",
       "      <td>1586527838658</td>\n",
       "      <td>(36.992427, -109.060257)</td>\n",
       "      <td>US</td>\n",
       "      <td>Colorado</td>\n",
       "      <td>29438</td>\n",
       "      <td>4</td>\n",
       "      <td>4</td>\n",
       "      <td>10</td>\n",
       "      <td>32</td>\n",
       "    </tr>\n",
       "  </tbody>\n",
       "</table>\n",
       "</div>"
      ],
      "text/plain": [
       "   index              user_id   timestamp_ms  \\\n",
       "0      5  1139323604330569729  1586527809663   \n",
       "1     10             27377135  1586527816658   \n",
       "2     11            515108272  1586527817665   \n",
       "3     15            118811691  1586527831663   \n",
       "4     24  1185068084010180608  1586527838658   \n",
       "\n",
       "                         coordinate country         state  time_in_second  \\\n",
       "0           (41.481426, -87.674421)      US      Illinois           33009   \n",
       "1           (33.606077, -117.86894)      US    California           25816   \n",
       "2           (30.355644, -85.605166)      US       Florida           33017   \n",
       "3  (40.361580000000004, -80.095586)      US  Pennsylvania           36631   \n",
       "4          (36.992427, -109.060257)      US      Colorado           29438   \n",
       "\n",
       "   month  weekday  day_in_month  label  \n",
       "0      4        4            10     36  \n",
       "1      4        4            10     28  \n",
       "2      4        4            10     36  \n",
       "3      4        4            10     40  \n",
       "4      4        4            10     32  "
      ]
     },
     "execution_count": 244,
     "metadata": {},
     "output_type": "execute_result"
    }
   ],
   "source": [
    "geos.head()"
   ]
  },
  {
   "cell_type": "code",
   "execution_count": 245,
   "metadata": {},
   "outputs": [],
   "source": [
    "# calcualte the everagy sunrise time per month in each state\n",
    "# since its by city in each state capital, since need to \n",
    "capital_dic={\n",
    "    'Alabama': 'Montgomery',\n",
    "    'Alaska': 'Juneau',\n",
    "    'Arizona':'Phoenix',\n",
    "    'Arkansas':'Little Rock',\n",
    "    'California': 'Sacramento',\n",
    "    'Colorado':'Denver',\n",
    "    'Connecticut':'Hartford',\n",
    "    'Delaware':'Dover',\n",
    "    'Florida': 'Tallahassee',\n",
    "    'Georgia': 'Atlanta',\n",
    "    'Hawaii': 'Honolulu',\n",
    "    'Idaho': 'Boise',\n",
    "    'Illinois': 'Springfield',\n",
    "    'Indiana': 'Indianapolis',\n",
    "    'Iowa': 'Des Moines',\n",
    "    'Kansas': 'Topeka',\n",
    "    'Kentucky': 'Frankfort',\n",
    "    'Louisiana': 'Baton Rouge',\n",
    "    'Maine': 'Augusta',\n",
    "    'Maryland': 'Annapolis',\n",
    "    'Massachusetts': 'Boston',\n",
    "    'Michigan': 'Lansing',\n",
    "    'Minnesota': 'Saint Paul',\n",
    "    'Mississippi': 'Jackson',\n",
    "    'Missouri': 'Jefferson City',\n",
    "    'Montana': 'Helena',\n",
    "    'Nebraska': 'Lincoln',\n",
    "    'Nevada': 'Carson City',\n",
    "    'New Hampshire': 'Concord',\n",
    "    'New Jersey': 'Trenton',\n",
    "    'New Mexico': 'Santa Fe',\n",
    "    'New York': 'Albany',\n",
    "    'North Carolina': 'Raleigh',\n",
    "    'North Dakota': 'Bismarck',\n",
    "    'Ohio': 'Columbus',\n",
    "    'Oklahoma': 'Oklahoma City',\n",
    "    'Oregon': 'Salem',\n",
    "    'Pennsylvania': 'Harrisburg',\n",
    "    'Rhode Island': 'Providence',\n",
    "    'South Carolina': 'Columbia',\n",
    "    'South Dakota': 'Pierre',\n",
    "    'Tennessee': 'Nashville',\n",
    "    'Texas': 'Austin',\n",
    "    'Utah': 'Salt Lake City',\n",
    "    'Vermont': 'Montpelier',\n",
    "    'Virginia': 'Richmond',\n",
    "    'Washington': 'Olympia',\n",
    "    'West Virginia': 'Charleston',\n",
    "    'Wisconsin': 'Madison',\n",
    "    'Wyoming': 'Cheyenne',\n",
    "    'Washington, D.C.': 'Washington DC'\n",
    "}"
   ]
  },
  {
   "cell_type": "code",
   "execution_count": 246,
   "metadata": {},
   "outputs": [
    {
     "name": "stdout",
     "output_type": "stream",
     "text": [
      "Illinois Springfield\n",
      "Information for Springfield/USA\n",
      "Timezone: US/Central\n",
      "Latitude: 39.78; Longitude: -89.65\n",
      "\n",
      "California Sacramento\n",
      "Information for Sacramento/USA\n",
      "Timezone: US/Pacific\n",
      "Latitude: 38.55; Longitude: -121.47\n",
      "\n",
      "Florida Tallahassee\n",
      "Information for Tallahassee/USA\n",
      "Timezone: US/Eastern\n",
      "Latitude: 30.45; Longitude: -84.27\n",
      "\n",
      "Pennsylvania Harrisburg\n",
      "Information for Harrisburg/USA\n",
      "Timezone: US/Eastern\n",
      "Latitude: 40.27; Longitude: -76.87\n",
      "\n",
      "Colorado Denver\n",
      "Information for Denver/USA\n",
      "Timezone: US/Mountain\n",
      "Latitude: 39.73; Longitude: -104.98\n",
      "\n",
      "Minnesota Saint Paul\n",
      "Information for Saint Paul/USA\n",
      "Timezone: US/Central\n",
      "Latitude: 44.93; Longitude: -93.08\n",
      "\n",
      "Kansas Topeka\n",
      "Information for Topeka/USA\n",
      "Timezone: US/Central\n",
      "Latitude: 39.05; Longitude: -95.68\n",
      "\n",
      "Wisconsin Madison\n",
      "Information for Madison/USA\n",
      "Timezone: US/Central\n",
      "Latitude: 43.07; Longitude: -89.40\n",
      "\n",
      "Washington Olympia\n",
      "Information for Olympia/USA\n",
      "Timezone: US/Pacific\n",
      "Latitude: 47.03; Longitude: -122.88\n",
      "\n",
      "Texas Austin\n",
      "Information for Austin/USA\n",
      "Timezone: US/Central\n",
      "Latitude: 30.27; Longitude: -97.75\n",
      "\n",
      "North Carolina Raleigh\n",
      "Information for Raleigh/USA\n",
      "Timezone: US/Eastern\n",
      "Latitude: 35.82; Longitude: -78.63\n",
      "\n",
      "Alaska Juneau\n",
      "Information for Juneau/USA\n",
      "Timezone: US/Alaska\n",
      "Latitude: 58.38; Longitude: -134.18\n",
      "\n",
      "Ohio Columbus\n",
      "Information for Columbus/USA\n",
      "Timezone: US/Eastern\n",
      "Latitude: 39.98; Longitude: -82.98\n",
      "\n",
      "Missouri Jefferson City\n",
      "Information for Jefferson City/USA\n",
      "Timezone: US/Central\n",
      "Latitude: 38.57; Longitude: -92.17\n",
      "\n",
      "New York Albany\n",
      "Information for Albany/USA\n",
      "Timezone: US/Eastern\n",
      "Latitude: 42.65; Longitude: -73.77\n",
      "\n",
      "Alabama Montgomery\n",
      "Information for Montgomery/USA\n",
      "Timezone: US/Central\n",
      "Latitude: 32.35; Longitude: -86.27\n",
      "\n",
      "Tennessee Nashville\n",
      "Information for Nashville/USA\n",
      "Timezone: US/Central\n",
      "Latitude: 36.17; Longitude: -86.78\n",
      "\n",
      "Oregon Salem\n",
      "Information for Salem/USA\n",
      "Timezone: US/Pacific\n",
      "Latitude: 44.92; Longitude: -123.02\n",
      "\n",
      "Virginia Richmond\n",
      "Information for Richmond/USA\n",
      "Timezone: US/Eastern\n",
      "Latitude: 37.53; Longitude: -77.42\n",
      "\n",
      "New Jersey Trenton\n",
      "Information for Trenton/USA\n",
      "Timezone: US/Eastern\n",
      "Latitude: 40.22; Longitude: -74.75\n",
      "\n",
      "Nebraska Lincoln\n",
      "Information for Lincoln/USA\n",
      "Timezone: US/Central\n",
      "Latitude: 40.80; Longitude: -96.67\n",
      "\n",
      "Michigan Lansing\n",
      "Information for Lansing/USA\n",
      "Timezone: US/Eastern\n",
      "Latitude: 42.73; Longitude: -84.53\n",
      "\n",
      "New Mexico Santa Fe\n",
      "Information for Santa Fe/USA\n",
      "Timezone: US/Mountain\n",
      "Latitude: 35.67; Longitude: -105.95\n",
      "\n",
      "Massachusetts Boston\n",
      "Information for Boston/USA\n",
      "Timezone: US/Eastern\n",
      "Latitude: 42.35; Longitude: -71.05\n",
      "\n",
      "Maryland Annapolis\n",
      "Information for Annapolis/USA\n",
      "Timezone: US/Eastern\n",
      "Latitude: 38.97; Longitude: -76.50\n",
      "\n",
      "South Carolina Columbia\n",
      "Information for Columbia/USA\n",
      "Timezone: US/Eastern\n",
      "Latitude: 34.00; Longitude: -81.03\n",
      "\n",
      "West Virginia Charleston\n",
      "Information for Charleston/USA\n",
      "Timezone: US/Eastern\n",
      "Latitude: 38.33; Longitude: -81.63\n",
      "\n",
      "Georgia Atlanta\n",
      "Information for Atlanta/USA\n",
      "Timezone: US/Eastern\n",
      "Latitude: 33.75; Longitude: -84.38\n",
      "\n",
      "Rhode Island Providence\n",
      "Information for Providence/USA\n",
      "Timezone: US/Eastern\n",
      "Latitude: 41.82; Longitude: -71.42\n",
      "\n",
      "Indiana Indianapolis\n",
      "Information for Indianapolis/USA\n",
      "Timezone: US/Eastern\n",
      "Latitude: 39.77; Longitude: -86.15\n",
      "\n",
      "Oklahoma Oklahoma City\n",
      "Information for Oklahoma City/USA\n",
      "Timezone: US/Central\n",
      "Latitude: 35.47; Longitude: -97.53\n",
      "\n",
      "Iowa Des Moines\n",
      "Information for Des Moines/USA\n",
      "Timezone: US/Central\n",
      "Latitude: 41.58; Longitude: -93.62\n",
      "\n",
      "Louisiana Baton Rouge\n",
      "Information for Baton Rouge/USA\n",
      "Timezone: US/Central\n",
      "Latitude: 30.45; Longitude: -91.13\n",
      "\n",
      "Arkansas Little Rock\n",
      "Information for Little Rock/USA\n",
      "Timezone: US/Central\n",
      "Latitude: 34.73; Longitude: -92.32\n",
      "\n",
      "Delaware Dover\n",
      "Information for Dover/USA\n",
      "Timezone: US/Eastern\n",
      "Latitude: 39.15; Longitude: -75.52\n",
      "\n",
      "Utah Salt Lake City\n",
      "Information for Salt Lake City/USA\n",
      "Timezone: US/Mountain\n",
      "Latitude: 40.75; Longitude: -111.88\n",
      "\n",
      "Maine Augusta\n",
      "Information for Augusta/USA\n",
      "Timezone: US/Eastern\n",
      "Latitude: 44.30; Longitude: -69.77\n",
      "\n",
      "Connecticut Hartford\n",
      "Information for Hartford/USA\n",
      "Timezone: US/Eastern\n",
      "Latitude: 41.75; Longitude: -72.68\n",
      "\n",
      "South Dakota Pierre\n",
      "Information for Pierre/USA\n",
      "Timezone: US/Central\n",
      "Latitude: 44.37; Longitude: -100.33\n",
      "\n",
      "Arizona Phoenix\n",
      "Information for Phoenix/USA\n",
      "Timezone: America/Phoenix\n",
      "Latitude: 33.43; Longitude: -112.07\n",
      "\n",
      "Kentucky Frankfort\n",
      "Information for Frankfort/USA\n",
      "Timezone: US/Eastern\n",
      "Latitude: 38.18; Longitude: -84.85\n",
      "\n",
      "Mississippi Jackson\n",
      "Information for Jackson/USA\n",
      "Timezone: US/Central\n",
      "Latitude: 32.28; Longitude: -90.18\n",
      "\n",
      "Nevada Carson City\n",
      "Information for Carson City/USA\n",
      "Timezone: US/Pacific\n",
      "Latitude: 39.15; Longitude: -119.75\n",
      "\n",
      "New Hampshire Concord\n",
      "Information for Concord/USA\n",
      "Timezone: US/Eastern\n",
      "Latitude: 43.20; Longitude: -71.53\n",
      "\n",
      "Idaho Boise\n",
      "Information for Boise/USA\n",
      "Timezone: US/Mountain\n",
      "Latitude: 43.60; Longitude: -116.20\n",
      "\n",
      "Vermont Montpelier\n",
      "Information for Montpelier/USA\n",
      "Timezone: US/Eastern\n",
      "Latitude: 44.25; Longitude: -72.57\n",
      "\n",
      "Montana Helena\n",
      "Information for Helena/USA\n",
      "Timezone: US/Mountain\n",
      "Latitude: 46.58; Longitude: -112.02\n",
      "\n",
      "Hawaii Honolulu\n",
      "Information for Honolulu/USA\n",
      "Timezone: US/Hawaii\n",
      "Latitude: 21.30; Longitude: -157.82\n",
      "\n",
      "North Dakota Bismarck\n",
      "Information for Bismarck/USA\n",
      "Timezone: US/Central\n",
      "Latitude: 46.80; Longitude: -100.77\n",
      "\n",
      "Wyoming Cheyenne\n",
      "Information for Cheyenne/USA\n",
      "Timezone: US/Mountain\n",
      "Latitude: 41.13; Longitude: -104.80\n",
      "\n",
      "Washington, D.C. Washington DC\n",
      "Information for Washington DC/USA\n",
      "Timezone: US/Eastern\n",
      "Latitude: 40.52; Longitude: -77.03\n",
      "\n"
     ]
    }
   ],
   "source": [
    "from astral.geocoder import add_locations, database, lookup\n",
    "\n",
    "state_list = trough_state['state']\n",
    "for state in state_list:\n",
    "    print(state, (capital_dic[state]))\n",
    "    \n",
    "    locl_info = lookup(capital_dic[state], database())\n",
    "\n",
    "    city = LocationInfo(locl_info.name, locl_info.region, locl_info.timezone, locl_info.latitude, locl_info.longitude)\n",
    "    print((\n",
    "        f\"Information for {city.name}/{city.region}\\n\"\n",
    "        f\"Timezone: {city.timezone}\\n\"\n",
    "        f\"Latitude: {city.latitude:.02f}; Longitude: {city.longitude:.02f}\\n\"\n",
    "    ))\n"
   ]
  },
  {
   "cell_type": "code",
   "execution_count": 247,
   "metadata": {},
   "outputs": [],
   "source": [
    "#　calculate the avg sunrise time in april in every steate as an example"
   ]
  },
  {
   "cell_type": "code",
   "execution_count": 248,
   "metadata": {},
   "outputs": [],
   "source": [
    "import calendar\n",
    "all_day = []\n",
    "for date in calendar.monthcalendar(2020, 4):\n",
    "    all_day += date"
   ]
  },
  {
   "cell_type": "code",
   "execution_count": 249,
   "metadata": {},
   "outputs": [],
   "source": [
    "all_day = np.array(all_day)\n",
    "all_day = all_day[all_day!=0]"
   ]
  },
  {
   "cell_type": "code",
   "execution_count": 250,
   "metadata": {},
   "outputs": [
    {
     "data": {
      "text/plain": [
       "array([ 1,  2,  3,  4,  5,  6,  7,  8,  9, 10, 11, 12, 13, 14, 15, 16, 17,\n",
       "       18, 19, 20, 21, 22, 23, 24, 25, 26, 27, 28, 29, 30])"
      ]
     },
     "execution_count": 250,
     "metadata": {},
     "output_type": "execute_result"
    }
   ],
   "source": [
    "all_day"
   ]
  },
  {
   "cell_type": "code",
   "execution_count": 251,
   "metadata": {},
   "outputs": [],
   "source": [
    "zone_str = tf.timezone_at(lng = locl_info.longitude, lat = locl_info.latitude)\n",
    "tzinfo=pytz.timezone(zone_str)\n"
   ]
  },
  {
   "cell_type": "code",
   "execution_count": 252,
   "metadata": {},
   "outputs": [
    {
     "name": "stdout",
     "output_type": "stream",
     "text": [
      "Illinois Springfield\n",
      "California Sacramento\n",
      "Florida Tallahassee\n",
      "Pennsylvania Harrisburg\n",
      "Colorado Denver\n",
      "Minnesota Saint Paul\n",
      "Kansas Topeka\n",
      "Wisconsin Madison\n",
      "Washington Olympia\n",
      "Texas Austin\n",
      "North Carolina Raleigh\n",
      "Alaska Juneau\n",
      "Ohio Columbus\n",
      "Missouri Jefferson City\n",
      "New York Albany\n",
      "Alabama Montgomery\n",
      "Tennessee Nashville\n",
      "Oregon Salem\n",
      "Virginia Richmond\n",
      "New Jersey Trenton\n",
      "Nebraska Lincoln\n",
      "Michigan Lansing\n",
      "New Mexico Santa Fe\n",
      "Massachusetts Boston\n",
      "Maryland Annapolis\n",
      "South Carolina Columbia\n",
      "West Virginia Charleston\n",
      "Georgia Atlanta\n",
      "Rhode Island Providence\n",
      "Indiana Indianapolis\n",
      "Oklahoma Oklahoma City\n",
      "Iowa Des Moines\n",
      "Louisiana Baton Rouge\n",
      "Arkansas Little Rock\n",
      "Delaware Dover\n",
      "Utah Salt Lake City\n",
      "Maine Augusta\n",
      "Connecticut Hartford\n",
      "South Dakota Pierre\n",
      "Arizona Phoenix\n",
      "Kentucky Frankfort\n",
      "Mississippi Jackson\n",
      "Nevada Carson City\n",
      "New Hampshire Concord\n",
      "Idaho Boise\n",
      "Vermont Montpelier\n",
      "Montana Helena\n",
      "Hawaii Honolulu\n",
      "North Dakota Bismarck\n",
      "Wyoming Cheyenne\n",
      "Washington, D.C. Washington DC\n"
     ]
    }
   ],
   "source": [
    "from astral.geocoder import add_locations, database, lookup\n",
    "avg_sun_rise_dict =dict()\n",
    "avg_sun_set_dict = dict()\n",
    "\n",
    "state_list = trough_state['state']\n",
    "for state in state_list:\n",
    "    print(state, (capital_dic[state]))\n",
    "    \n",
    "    locl_info = lookup(capital_dic[state], database())\n",
    "    zone_str = tf.timezone_at(lng = locl_info.longitude, lat = locl_info.latitude)\n",
    "    \n",
    "    city = LocationInfo(locl_info.name, locl_info.region, \n",
    "                        locl_info.timezone, locl_info.latitude, \n",
    "                        locl_info.longitude)\n",
    "    sun_rise_hr = 0\n",
    "    sun_set_hr = 0\n",
    "    for day in all_day:\n",
    "        s = sun(city.observer, date=datetime.date(2020, 4, day),tzinfo=pytz.timezone(zone_str))\n",
    "        sun_rise_hr += s[\"sunrise\"].hour+s[\"sunrise\"].minute/60\n",
    "        sun_set_hr += s[\"sunset\"].hour+s[\"sunset\"].minute/60\n",
    "        \n",
    "    avg_sun_rise_dict[state] = sun_rise_hr/len(all_day)\n",
    "    avg_sun_set_dict[state] = sun_set_hr/len(all_day)\n"
   ]
  },
  {
   "cell_type": "code",
   "execution_count": 253,
   "metadata": {},
   "outputs": [],
   "source": [
    "avg_sun_rise_df = pd.DataFrame(data=avg_sun_rise_dict.values(), index = avg_sun_rise_dict.keys())\n",
    "avg_sun_set_df = pd.DataFrame(data=avg_sun_set_dict.values(), index = avg_sun_set_dict.keys())"
   ]
  },
  {
   "cell_type": "code",
   "execution_count": 254,
   "metadata": {},
   "outputs": [],
   "source": [
    "avg_sun_rise_df = avg_sun_rise_df.rename(columns={0:'avg_sunrise'})\n",
    "avg_sun_rise_df = avg_sun_rise_df.reset_index()\n",
    "avg_sun_rise_df =avg_sun_rise_df.rename(columns={'index': 'state'})"
   ]
  },
  {
   "cell_type": "code",
   "execution_count": 255,
   "metadata": {},
   "outputs": [],
   "source": [
    "avg_sun_set_df = avg_sun_set_df.rename(columns={0:'avg_sunset'})\n",
    "avg_sun_set_df = avg_sun_set_df.reset_index()\n",
    "avg_sun_set_df =avg_sun_set_df.rename(columns={'index': 'state'})"
   ]
  },
  {
   "cell_type": "code",
   "execution_count": 261,
   "metadata": {},
   "outputs": [],
   "source": [
    "trough_state_combined = trough_state.merge(avg_sun_rise_df, on='state')\n",
    "trough_state_combined = trough_state_combined.merge(avg_sun_set_df, on='state')\n"
   ]
  },
  {
   "cell_type": "code",
   "execution_count": 262,
   "metadata": {},
   "outputs": [
    {
     "data": {
      "text/html": [
       "<div>\n",
       "<style scoped>\n",
       "    .dataframe tbody tr th:only-of-type {\n",
       "        vertical-align: middle;\n",
       "    }\n",
       "\n",
       "    .dataframe tbody tr th {\n",
       "        vertical-align: top;\n",
       "    }\n",
       "\n",
       "    .dataframe thead th {\n",
       "        text-align: right;\n",
       "    }\n",
       "</style>\n",
       "<table border=\"1\" class=\"dataframe\">\n",
       "  <thead>\n",
       "    <tr style=\"text-align: right;\">\n",
       "      <th></th>\n",
       "      <th>state</th>\n",
       "      <th>duration</th>\n",
       "      <th>start</th>\n",
       "      <th>end</th>\n",
       "      <th>state_short</th>\n",
       "      <th>avg_sunrise</th>\n",
       "      <th>avg_sunset</th>\n",
       "    </tr>\n",
       "  </thead>\n",
       "  <tbody>\n",
       "    <tr>\n",
       "      <th>0</th>\n",
       "      <td>Illinois</td>\n",
       "      <td>7.75</td>\n",
       "      <td>1.50</td>\n",
       "      <td>9.25</td>\n",
       "      <td>IL</td>\n",
       "      <td>6.327778</td>\n",
       "      <td>19.625000</td>\n",
       "    </tr>\n",
       "    <tr>\n",
       "      <th>1</th>\n",
       "      <td>California</td>\n",
       "      <td>7.75</td>\n",
       "      <td>2.25</td>\n",
       "      <td>10.00</td>\n",
       "      <td>CA</td>\n",
       "      <td>6.471667</td>\n",
       "      <td>19.715556</td>\n",
       "    </tr>\n",
       "    <tr>\n",
       "      <th>2</th>\n",
       "      <td>Florida</td>\n",
       "      <td>8.25</td>\n",
       "      <td>1.25</td>\n",
       "      <td>9.50</td>\n",
       "      <td>FL</td>\n",
       "      <td>7.145000</td>\n",
       "      <td>20.081111</td>\n",
       "    </tr>\n",
       "    <tr>\n",
       "      <th>3</th>\n",
       "      <td>Pennsylvania</td>\n",
       "      <td>9.50</td>\n",
       "      <td>0.00</td>\n",
       "      <td>9.50</td>\n",
       "      <td>PA</td>\n",
       "      <td>6.465556</td>\n",
       "      <td>19.775556</td>\n",
       "    </tr>\n",
       "    <tr>\n",
       "      <th>4</th>\n",
       "      <td>Colorado</td>\n",
       "      <td>8.25</td>\n",
       "      <td>1.25</td>\n",
       "      <td>9.50</td>\n",
       "      <td>CO</td>\n",
       "      <td>6.350000</td>\n",
       "      <td>19.641667</td>\n",
       "    </tr>\n",
       "  </tbody>\n",
       "</table>\n",
       "</div>"
      ],
      "text/plain": [
       "          state  duration  start    end state_short  avg_sunrise  avg_sunset\n",
       "0      Illinois      7.75   1.50   9.25          IL     6.327778   19.625000\n",
       "1    California      7.75   2.25  10.00          CA     6.471667   19.715556\n",
       "2       Florida      8.25   1.25   9.50          FL     7.145000   20.081111\n",
       "3  Pennsylvania      9.50   0.00   9.50          PA     6.465556   19.775556\n",
       "4      Colorado      8.25   1.25   9.50          CO     6.350000   19.641667"
      ]
     },
     "execution_count": 262,
     "metadata": {},
     "output_type": "execute_result"
    }
   ],
   "source": [
    "trough_state_combined.head()"
   ]
  },
  {
   "cell_type": "code",
   "execution_count": 263,
   "metadata": {},
   "outputs": [
    {
     "data": {
      "text/html": [
       "<div>\n",
       "<style scoped>\n",
       "    .dataframe tbody tr th:only-of-type {\n",
       "        vertical-align: middle;\n",
       "    }\n",
       "\n",
       "    .dataframe tbody tr th {\n",
       "        vertical-align: top;\n",
       "    }\n",
       "\n",
       "    .dataframe thead th {\n",
       "        text-align: right;\n",
       "    }\n",
       "</style>\n",
       "<table border=\"1\" class=\"dataframe\">\n",
       "  <thead>\n",
       "    <tr style=\"text-align: right;\">\n",
       "      <th></th>\n",
       "      <th>duration</th>\n",
       "      <th>avg_sunrise</th>\n",
       "      <th>avg_sunset</th>\n",
       "      <th>end</th>\n",
       "      <th>start</th>\n",
       "    </tr>\n",
       "  </thead>\n",
       "  <tbody>\n",
       "    <tr>\n",
       "      <th>duration</th>\n",
       "      <td>1.000000</td>\n",
       "      <td>0.216084</td>\n",
       "      <td>0.012272</td>\n",
       "      <td>0.640288</td>\n",
       "      <td>-0.696608</td>\n",
       "    </tr>\n",
       "    <tr>\n",
       "      <th>avg_sunrise</th>\n",
       "      <td>0.216084</td>\n",
       "      <td>1.000000</td>\n",
       "      <td>0.723349</td>\n",
       "      <td>0.276277</td>\n",
       "      <td>-0.021705</td>\n",
       "    </tr>\n",
       "    <tr>\n",
       "      <th>avg_sunset</th>\n",
       "      <td>0.012272</td>\n",
       "      <td>0.723349</td>\n",
       "      <td>1.000000</td>\n",
       "      <td>0.007130</td>\n",
       "      <td>-0.009228</td>\n",
       "    </tr>\n",
       "    <tr>\n",
       "      <th>end</th>\n",
       "      <td>0.640288</td>\n",
       "      <td>0.276277</td>\n",
       "      <td>0.007130</td>\n",
       "      <td>1.000000</td>\n",
       "      <td>0.105071</td>\n",
       "    </tr>\n",
       "    <tr>\n",
       "      <th>start</th>\n",
       "      <td>-0.696608</td>\n",
       "      <td>-0.021705</td>\n",
       "      <td>-0.009228</td>\n",
       "      <td>0.105071</td>\n",
       "      <td>1.000000</td>\n",
       "    </tr>\n",
       "  </tbody>\n",
       "</table>\n",
       "</div>"
      ],
      "text/plain": [
       "             duration  avg_sunrise  avg_sunset       end     start\n",
       "duration     1.000000     0.216084    0.012272  0.640288 -0.696608\n",
       "avg_sunrise  0.216084     1.000000    0.723349  0.276277 -0.021705\n",
       "avg_sunset   0.012272     0.723349    1.000000  0.007130 -0.009228\n",
       "end          0.640288     0.276277    0.007130  1.000000  0.105071\n",
       "start       -0.696608    -0.021705   -0.009228  0.105071  1.000000"
      ]
     },
     "execution_count": 263,
     "metadata": {},
     "output_type": "execute_result"
    }
   ],
   "source": [
    "trough_state_combined[['duration','avg_sunrise','avg_sunset','end','start']].corr()"
   ]
  },
  {
   "cell_type": "code",
   "execution_count": 269,
   "metadata": {},
   "outputs": [
    {
     "data": {
      "text/plain": [
       "(0.2160844138645867, 0.1277710597187041)"
      ]
     },
     "execution_count": 269,
     "metadata": {},
     "output_type": "execute_result"
    }
   ],
   "source": [
    "from scipy import stats\n",
    "stats.pearsonr(trough_state_combined['duration'], trough_state_combined['avg_sunrise'])"
   ]
  },
  {
   "cell_type": "code",
   "execution_count": 267,
   "metadata": {},
   "outputs": [
    {
     "data": {
      "text/plain": [
       "(0.6402877570310103, 4.1992793797318565e-07)"
      ]
     },
     "execution_count": 267,
     "metadata": {},
     "output_type": "execute_result"
    }
   ],
   "source": [
    "stats.pearsonr(trough_state_combined['duration'], trough_state_combined['end'])"
   ]
  },
  {
   "cell_type": "code",
   "execution_count": 268,
   "metadata": {},
   "outputs": [
    {
     "data": {
      "text/plain": [
       "(-0.0092284657395748, 0.9487537237264624)"
      ]
     },
     "execution_count": 268,
     "metadata": {},
     "output_type": "execute_result"
    }
   ],
   "source": [
    "stats.pearsonr(trough_state_combined['avg_sunset'], trough_state_combined['start'])"
   ]
  }
 ],
 "metadata": {
  "colab": {
   "collapsed_sections": [],
   "name": "cse519 final project.ipynb",
   "provenance": []
  },
  "environment": {
   "name": "tf2-2-3-gpu.2-3.m55",
   "type": "gcloud",
   "uri": "gcr.io/deeplearning-platform-release/tf2-2-3-gpu.2-3:m55"
  },
  "kernelspec": {
   "display_name": "Python 3",
   "language": "python",
   "name": "python3"
  },
  "language_info": {
   "codemirror_mode": {
    "name": "ipython",
    "version": 3
   },
   "file_extension": ".py",
   "mimetype": "text/x-python",
   "name": "python",
   "nbconvert_exporter": "python",
   "pygments_lexer": "ipython3",
   "version": "3.7.8"
  }
 },
 "nbformat": 4,
 "nbformat_minor": 4
}
