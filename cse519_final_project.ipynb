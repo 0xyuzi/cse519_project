{
  "nbformat": 4,
  "nbformat_minor": 0,
  "metadata": {
    "colab": {
      "name": "cse519 final project.ipynb",
      "provenance": [],
      "collapsed_sections": []
    },
    "kernelspec": {
      "name": "Python 3.8.2 64-bit",
      "display_name": "Python 3.8.2 64-bit",
      "metadata": {
        "interpreter": {
          "hash": "31f2aee4e71d21fbe5cf8b01ff0e069b9275f58929596ceb00d14d90e3e16cd6"
        }
      }
    }
  },
  "cells": [
    {
      "cell_type": "code",
      "metadata": {
        "id": "pb4aTaCXppua",
        "outputId": "f9de302a-e74d-474c-c080-ab374d13d147",
        "colab": {
          "base_uri": "https://localhost:8080/"
        }
      },
      "source": [
        "cd \"./dataset/pre_process_data\""
      ],
      "execution_count": null,
      "outputs": []
    },
    {
      "cell_type": "code",
      "execution_count": null,
      "metadata": {},
      "outputs": [],
      "source": [
        "pip install reverse_geocoder pytz timezonefinder --user"
      ]
    },
    {
      "cell_type": "code",
      "metadata": {
        "id": "OoUh62bbRiTi"
      },
      "source": [
        "import os\n",
        "\n",
        "files_list = []\n",
        "\n",
        "for root, dirs, files in os.walk(\"./01\"):\n",
        "    for file in files:\n",
        "        if file.endswith(\".json\"):\n",
        "             files_list.append(str(os.path.join(root, file)))"
      ],
      "execution_count": null,
      "outputs": []
    },
    {
      "cell_type": "code",
      "metadata": {
        "id": "FjOhvj0xhGEz"
      },
      "source": [
        "import json\n",
        "import pandas as pd\n",
        "\n",
        "geos = pd.DataFrame([])\n",
        "\n",
        "geo_cnt = 0\n",
        "place_cnt = 0\n",
        "user_loc_cnt = 0\n",
        "\n",
        "for file_name in files_list:\n",
        "    temp = pd.read_json(file_name, orient='records',convert_dates=False)\n",
        "    geos = pd.concat([geos,temp], ignore_index=True)"
      ],
      "execution_count": null,
      "outputs": []
    },
    {
      "cell_type": "code",
      "metadata": {
        "id": "w3psfwhKeqH6"
      },
      "source": [
        "def fill_coordinates(row):\n",
        "    try:\n",
        "        coordinates = row['place']['bounding_box']['coordinates']\n",
        "        return (coordinates[0][0][1], coordinates[0][0][0])\n",
        "    except:\n",
        "        return None\n",
        "\n",
        "geos['coordinate'] = geos.apply(fill_coordinates, axis = 1)"
      ],
      "execution_count": null,
      "outputs": []
    },
    {
      "cell_type": "code",
      "metadata": {
        "id": "zZ9PoccrKu-n"
      },
      "source": [
        "geos.dropna(inplace=True)\n",
        "geos.drop(columns=['place'], inplace=True)"
      ],
      "execution_count": null,
      "outputs": []
    },
    {
      "cell_type": "code",
      "metadata": {
        "id": "6qsRXejSan5r"
      },
      "source": [
        "coords = geos['coordinate'].tolist()\n",
        "coords = tuple(coords)\n",
        "\n",
        "import reverse_geocoder as rg\n",
        "results = rg.search(coords)\n",
        "\n",
        "country = []\n",
        "state = []\n",
        "\n",
        "for rec in results:\n",
        "    country.append(rec['cc'])\n",
        "    state.append(rec['admin1'])\n",
        "\n",
        "country = pd.Series(country)\n",
        "state = pd.Series(state)"
      ],
      "execution_count": null,
      "outputs": []
    },
    {
      "cell_type": "code",
      "metadata": {
        "id": "KUiZARytbVbp"
      },
      "source": [
        "geos['country'] = country\n",
        "geos['state'] = state\n",
        "geos.dropna(inplace=True)"
      ],
      "execution_count": null,
      "outputs": []
    },
    {
      "cell_type": "code",
      "metadata": {
        "id": "jWSULPjSbq5F",
        "outputId": "a5294db9-c060-4b7b-af5b-2b5dbddfa20e",
        "colab": {
          "base_uri": "https://localhost:8080/"
        }
      },
      "source": [
        "from timezonefinder import TimezoneFinder\n",
        "import datetime\n",
        "import pytz\n",
        "\n",
        "tf = TimezoneFinder()\n",
        "\n",
        "def get_localtime_in_seconds(rows):\n",
        "    coor = rows['coordinate']\n",
        "    lati = coor[0]\n",
        "    logi = coor[1]\n",
        "    zone_str = tf.timezone_at(lng = logi, lat = lati)\n",
        "    if zone_str == None:\n",
        "        return None, None, None, None\n",
        "    d = datetime.datetime.fromtimestamp(rows['timestamp_ms']/1000, tz=pytz.timezone(zone_str))\n",
        "    h, m, s = d.hour, d.minute, d.second\n",
        "    month, weekday, day_in_month = d.month, d.weekday(), d.day\n",
        "    return h*3600+m*60+s, month, weekday, day_in_month\n",
        "\n",
        "geos['time_in_second'], geos['month'], geos['weekday'], geos['day_in_month'] = zip(*geos.apply(get_localtime_in_seconds, axis=1))\n",
        "geos"
      ],
      "execution_count": null,
      "outputs": []
    },
    {
      "cell_type": "code",
      "execution_count": null,
      "metadata": {},
      "outputs": [],
      "source": [
        "geos.dropna(inplace=True)"
      ]
    },
    {
      "cell_type": "code",
      "execution_count": null,
      "metadata": {},
      "outputs": [],
      "source": [
        "def get_label(row):\n",
        "    t = row['time_in_second']\n",
        "    # every 15 minute\n",
        "    return t//(15*60)\n",
        "\n",
        "geos['label'] = geos.apply(get_label, axis=1)\n",
        "geos"
      ]
    },
    {
      "cell_type": "code",
      "metadata": {
        "id": "fXSu7n3-2vVX",
        "outputId": "b5f77b6f-e787-43ca-aa67-beeb4ccbe328",
        "colab": {
          "base_uri": "https://localhost:8080/"
        }
      },
      "source": [
        "# select US only data\n",
        "geos = geos.loc[geos.country=='US']\n",
        "geos.reset_index(inplace = True)\n",
        "geos"
      ],
      "execution_count": null,
      "outputs": []
    },
    {
      "cell_type": "code",
      "execution_count": null,
      "metadata": {},
      "outputs": [],
      "source": [
        "geos"
      ]
    },
    {
      "cell_type": "code",
      "execution_count": null,
      "metadata": {},
      "outputs": [],
      "source": [
        "# Kernel Density Estimate\n"
      ]
    },
    {
      "cell_type": "code",
      "execution_count": null,
      "metadata": {},
      "outputs": [],
      "source": []
    }
  ]
}